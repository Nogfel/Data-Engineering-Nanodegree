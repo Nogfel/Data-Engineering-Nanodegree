{
 "cells": [
  {
   "cell_type": "markdown",
   "metadata": {},
   "source": [
    "# Experiments Notebook\n",
    "This notebook was used locally in order to generate the code that after was used in the `etl.py` file.\n",
    "\n",
    "## Importing libraries."
   ]
  },
  {
   "cell_type": "code",
   "execution_count": 1,
   "metadata": {},
   "outputs": [
    {
     "name": "stdout",
     "output_type": "stream",
     "text": [
      "23/02/01 07:50:52 WARN SparkSession: Using an existing Spark session; only runtime SQL configurations will take effect.\n"
     ]
    }
   ],
   "source": [
    "import pyspark\n",
    "from pyspark.sql import SparkSession\n",
    "from datetime import datetime, date\n",
    "import pandas as pd\n",
    "from pyspark.sql import Row\n",
    "import logging\n",
    "import numpy as np\n",
    "import pandas as pd\n",
    "import os\n",
    "logger = logging.getLogger()\n",
    "logger.setLevel(logging.CRITICAL)\n",
    "spark = SparkSession.builder.appName(\"data-lake-spark\").getOrCreate()\n",
    "\n",
    "# from pyspark.sql.types import (\n",
    "#     StringType, BooleanType, IntegerType, FloatType, DateType\n",
    "# )\n",
    "\n",
    "\n"
   ]
  },
  {
   "cell_type": "markdown",
   "metadata": {},
   "source": [
    "Reading data from local computer to Spark Dataframe."
   ]
  },
  {
   "cell_type": "code",
   "execution_count": 2,
   "metadata": {},
   "outputs": [
    {
     "name": "stderr",
     "output_type": "stream",
     "text": [
      "                                                                                \r"
     ]
    }
   ],
   "source": [
    "df_log = spark.read.json(\"/home/felipe/Documentos/Udacity/Data Engineering Nanodegree/Data_lake_project/data/log-data/*.json\")\n",
    "df_song = spark.read.json(\"/home/felipe/Documentos/Udacity/Data Engineering Nanodegree/Data_lake_project/data/song-data/song_data/A/*/*/*.json\")\n"
   ]
  },
  {
   "cell_type": "markdown",
   "metadata": {},
   "source": [
    "## Data Wrangling\n",
    "Creating SparkSQL views in order to generate all the tables necessary."
   ]
  },
  {
   "cell_type": "code",
   "execution_count": 3,
   "metadata": {},
   "outputs": [],
   "source": [
    "df_log.createOrReplaceTempView(\"staging_events\")\n",
    "df_song.createOrReplaceTempView(\"staging_songs\")"
   ]
  },
  {
   "cell_type": "code",
   "execution_count": 4,
   "metadata": {},
   "outputs": [
    {
     "data": {
      "text/html": [
       "<div>\n",
       "<style scoped>\n",
       "    .dataframe tbody tr th:only-of-type {\n",
       "        vertical-align: middle;\n",
       "    }\n",
       "\n",
       "    .dataframe tbody tr th {\n",
       "        vertical-align: top;\n",
       "    }\n",
       "\n",
       "    .dataframe thead th {\n",
       "        text-align: right;\n",
       "    }\n",
       "</style>\n",
       "<table border=\"1\" class=\"dataframe\">\n",
       "  <thead>\n",
       "    <tr style=\"text-align: right;\">\n",
       "      <th></th>\n",
       "      <th>artist_id</th>\n",
       "      <th>artist_latitude</th>\n",
       "      <th>artist_location</th>\n",
       "      <th>artist_longitude</th>\n",
       "      <th>artist_name</th>\n",
       "      <th>duration</th>\n",
       "      <th>num_songs</th>\n",
       "      <th>song_id</th>\n",
       "      <th>title</th>\n",
       "      <th>year</th>\n",
       "    </tr>\n",
       "  </thead>\n",
       "  <tbody>\n",
       "    <tr>\n",
       "      <th>0</th>\n",
       "      <td>ARDR4AC1187FB371A1</td>\n",
       "      <td>NaN</td>\n",
       "      <td></td>\n",
       "      <td>NaN</td>\n",
       "      <td>Montserrat Caballé;Placido Domingo;Vicente Sar...</td>\n",
       "      <td>511.16363</td>\n",
       "      <td>1</td>\n",
       "      <td>SOBAYLL12A8C138AF9</td>\n",
       "      <td>Sono andati? Fingevo di dormire</td>\n",
       "      <td>0</td>\n",
       "    </tr>\n",
       "  </tbody>\n",
       "</table>\n",
       "</div>"
      ],
      "text/plain": [
       "            artist_id  artist_latitude artist_location  artist_longitude  \\\n",
       "0  ARDR4AC1187FB371A1              NaN                               NaN   \n",
       "\n",
       "                                         artist_name   duration  num_songs  \\\n",
       "0  Montserrat Caballé;Placido Domingo;Vicente Sar...  511.16363          1   \n",
       "\n",
       "              song_id                            title  year  \n",
       "0  SOBAYLL12A8C138AF9  Sono andati? Fingevo di dormire     0  "
      ]
     },
     "execution_count": 4,
     "metadata": {},
     "output_type": "execute_result"
    }
   ],
   "source": [
    "spark.sql(\"SELECT * FROM staging_songs\").toPandas().head(1)"
   ]
  },
  {
   "cell_type": "code",
   "execution_count": 5,
   "metadata": {},
   "outputs": [
    {
     "data": {
      "text/html": [
       "<div>\n",
       "<style scoped>\n",
       "    .dataframe tbody tr th:only-of-type {\n",
       "        vertical-align: middle;\n",
       "    }\n",
       "\n",
       "    .dataframe tbody tr th {\n",
       "        vertical-align: top;\n",
       "    }\n",
       "\n",
       "    .dataframe thead th {\n",
       "        text-align: right;\n",
       "    }\n",
       "</style>\n",
       "<table border=\"1\" class=\"dataframe\">\n",
       "  <thead>\n",
       "    <tr style=\"text-align: right;\">\n",
       "      <th></th>\n",
       "      <th>artist</th>\n",
       "      <th>auth</th>\n",
       "      <th>firstName</th>\n",
       "      <th>gender</th>\n",
       "      <th>itemInSession</th>\n",
       "      <th>lastName</th>\n",
       "      <th>length</th>\n",
       "      <th>level</th>\n",
       "      <th>location</th>\n",
       "      <th>method</th>\n",
       "      <th>page</th>\n",
       "      <th>registration</th>\n",
       "      <th>sessionId</th>\n",
       "      <th>song</th>\n",
       "      <th>status</th>\n",
       "      <th>ts</th>\n",
       "      <th>userAgent</th>\n",
       "      <th>userId</th>\n",
       "    </tr>\n",
       "  </thead>\n",
       "  <tbody>\n",
       "    <tr>\n",
       "      <th>0</th>\n",
       "      <td>Harmonia</td>\n",
       "      <td>Logged In</td>\n",
       "      <td>Ryan</td>\n",
       "      <td>M</td>\n",
       "      <td>0</td>\n",
       "      <td>Smith</td>\n",
       "      <td>655.77751</td>\n",
       "      <td>free</td>\n",
       "      <td>San Jose-Sunnyvale-Santa Clara, CA</td>\n",
       "      <td>PUT</td>\n",
       "      <td>NextSong</td>\n",
       "      <td>1.541017e+12</td>\n",
       "      <td>583</td>\n",
       "      <td>Sehr kosmisch</td>\n",
       "      <td>200</td>\n",
       "      <td>1542241826796</td>\n",
       "      <td>\"Mozilla/5.0 (X11; Linux x86_64) AppleWebKit/5...</td>\n",
       "      <td>26</td>\n",
       "    </tr>\n",
       "  </tbody>\n",
       "</table>\n",
       "</div>"
      ],
      "text/plain": [
       "     artist       auth firstName gender  itemInSession lastName     length  \\\n",
       "0  Harmonia  Logged In      Ryan      M              0    Smith  655.77751   \n",
       "\n",
       "  level                            location method      page  registration  \\\n",
       "0  free  San Jose-Sunnyvale-Santa Clara, CA    PUT  NextSong  1.541017e+12   \n",
       "\n",
       "   sessionId           song  status             ts  \\\n",
       "0        583  Sehr kosmisch     200  1542241826796   \n",
       "\n",
       "                                           userAgent userId  \n",
       "0  \"Mozilla/5.0 (X11; Linux x86_64) AppleWebKit/5...     26  "
      ]
     },
     "execution_count": 5,
     "metadata": {},
     "output_type": "execute_result"
    }
   ],
   "source": [
    "spark.sql(\"SELECT * FROM staging_events\").toPandas().head(1)"
   ]
  },
  {
   "cell_type": "code",
   "execution_count": 6,
   "metadata": {},
   "outputs": [],
   "source": [
    "user = spark.sql(\n",
    "\"\"\"\n",
    "WITH uniq_staging_events AS (\n",
    "    SELECT \n",
    "        userid, \n",
    "        firstName,\n",
    "        lastName,\n",
    "        gender,\n",
    "        level,\n",
    "        ROW_NUMBER() OVER(PARTITION BY userid ORDER BY ts DESC) AS rank\n",
    "    FROM staging_events\n",
    "            WHERE userid IS NOT NULL\n",
    ")\n",
    "SELECT \n",
    "    CAST(userid AS STRING) AS userid,\n",
    "    CAST(firstName AS STRING) AS first_name, \n",
    "    CAST(lastName AS STRING) AS last_name, \n",
    "    CAST(gender AS STRING) AS gender,\n",
    "    CAST(level AS STRING) AS level\n",
    "    FROM uniq_staging_events\n",
    "WHERE rank = 1;\n",
    "\"\"\")"
   ]
  },
  {
   "cell_type": "code",
   "execution_count": 7,
   "metadata": {},
   "outputs": [],
   "source": [
    "songs = spark.sql(\"\"\"\n",
    "SELECT DISTINCT\n",
    "    CAST(song_id AS STRING) AS song_id, \n",
    "    CAST(title AS STRING) AS title, \n",
    "    CAST(artist_id AS STRING) AS artist_id, \n",
    "    CAST(year AS INT) AS year, \n",
    "    CAST(duration AS FLOAT) AS duration\n",
    "FROM staging_songs\n",
    "\"\"\")"
   ]
  },
  {
   "cell_type": "code",
   "execution_count": 16,
   "metadata": {},
   "outputs": [
    {
     "data": {
      "text/html": [
       "<div>\n",
       "<style scoped>\n",
       "    .dataframe tbody tr th:only-of-type {\n",
       "        vertical-align: middle;\n",
       "    }\n",
       "\n",
       "    .dataframe tbody tr th {\n",
       "        vertical-align: top;\n",
       "    }\n",
       "\n",
       "    .dataframe thead th {\n",
       "        text-align: right;\n",
       "    }\n",
       "</style>\n",
       "<table border=\"1\" class=\"dataframe\">\n",
       "  <thead>\n",
       "    <tr style=\"text-align: right;\">\n",
       "      <th></th>\n",
       "      <th>song_id</th>\n",
       "      <th>title</th>\n",
       "      <th>artist_id</th>\n",
       "      <th>year</th>\n",
       "      <th>duration</th>\n",
       "    </tr>\n",
       "  </thead>\n",
       "  <tbody>\n",
       "    <tr>\n",
       "      <th>0</th>\n",
       "      <td>SOAOIBZ12AB01815BE</td>\n",
       "      <td>I Hold Your Hand In Mine [Live At Royal Albert...</td>\n",
       "      <td>ARPBNLO1187FB3D52F</td>\n",
       "      <td>2000</td>\n",
       "      <td>43.362808</td>\n",
       "    </tr>\n",
       "    <tr>\n",
       "      <th>1</th>\n",
       "      <td>SOBAYLL12A8C138AF9</td>\n",
       "      <td>Sono andati? Fingevo di dormire</td>\n",
       "      <td>ARDR4AC1187FB371A1</td>\n",
       "      <td>0</td>\n",
       "      <td>511.163635</td>\n",
       "    </tr>\n",
       "    <tr>\n",
       "      <th>2</th>\n",
       "      <td>SOBBUGU12A8C13E95D</td>\n",
       "      <td>Setting Fire to Sleeping Giants</td>\n",
       "      <td>ARMAC4T1187FB3FA4C</td>\n",
       "      <td>2004</td>\n",
       "      <td>207.777512</td>\n",
       "    </tr>\n",
       "  </tbody>\n",
       "</table>\n",
       "</div>"
      ],
      "text/plain": [
       "              song_id                                              title  \\\n",
       "0  SOAOIBZ12AB01815BE  I Hold Your Hand In Mine [Live At Royal Albert...   \n",
       "1  SOBAYLL12A8C138AF9                    Sono andati? Fingevo di dormire   \n",
       "2  SOBBUGU12A8C13E95D                    Setting Fire to Sleeping Giants   \n",
       "\n",
       "            artist_id  year    duration  \n",
       "0  ARPBNLO1187FB3D52F  2000   43.362808  \n",
       "1  ARDR4AC1187FB371A1     0  511.163635  \n",
       "2  ARMAC4T1187FB3FA4C  2004  207.777512  "
      ]
     },
     "execution_count": 16,
     "metadata": {},
     "output_type": "execute_result"
    }
   ],
   "source": [
    "# Version 2 of the code\n",
    "spark.sql(\"\"\"\n",
    "WITH songs_duplicate AS (\n",
    "    SELECT\n",
    "        CAST(song_id AS STRING) AS song_id, \n",
    "        CAST(title AS STRING) AS title, \n",
    "        CAST(artist_id AS STRING) AS artist_id, \n",
    "        CAST(year AS INT) AS year, \n",
    "        CAST(duration AS FLOAT) AS duration,\n",
    "        ROW_NUMBER() OVER(PARTITION BY song_id ORDER BY song_id DESC) AS rank\n",
    "    FROM staging_songs)\n",
    "SELECT\n",
    "    song_id,\n",
    "    title,\n",
    "    artist_id,\n",
    "    year,\n",
    "    duration\n",
    "FROM songs_duplicate\n",
    "WHERE rank = 1\n",
    "\"\"\").toPandas().head(3)"
   ]
  },
  {
   "cell_type": "code",
   "execution_count": 8,
   "metadata": {},
   "outputs": [],
   "source": [
    "artists = spark.sql(\"\"\"\n",
    "SELECT\n",
    "    CAST(artist_id AS STRING) AS artist_id, \n",
    "    CAST(artist_name AS STRING) AS name, \n",
    "    CAST(artist_location AS STRING) AS location, \n",
    "    CAST(artist_latitude AS FLOAT) AS lattitude, \n",
    "    CAST(artist_longitude AS FLOAT) AS longitude\n",
    "FROM staging_songs\n",
    "\"\"\")"
   ]
  },
  {
   "cell_type": "code",
   "execution_count": 22,
   "metadata": {},
   "outputs": [
    {
     "data": {
      "text/html": [
       "<div>\n",
       "<style scoped>\n",
       "    .dataframe tbody tr th:only-of-type {\n",
       "        vertical-align: middle;\n",
       "    }\n",
       "\n",
       "    .dataframe tbody tr th {\n",
       "        vertical-align: top;\n",
       "    }\n",
       "\n",
       "    .dataframe thead th {\n",
       "        text-align: right;\n",
       "    }\n",
       "</style>\n",
       "<table border=\"1\" class=\"dataframe\">\n",
       "  <thead>\n",
       "    <tr style=\"text-align: right;\">\n",
       "      <th></th>\n",
       "      <th>artist_id</th>\n",
       "      <th>name</th>\n",
       "      <th>location</th>\n",
       "      <th>lattitude</th>\n",
       "      <th>longitude</th>\n",
       "    </tr>\n",
       "  </thead>\n",
       "  <tbody>\n",
       "    <tr>\n",
       "      <th>0</th>\n",
       "      <td>AR051KA1187B98B2FF</td>\n",
       "      <td>Wilks</td>\n",
       "      <td></td>\n",
       "      <td>NaN</td>\n",
       "      <td>NaN</td>\n",
       "    </tr>\n",
       "    <tr>\n",
       "      <th>1</th>\n",
       "      <td>AR0IAWL1187B9A96D0</td>\n",
       "      <td>Danilo Perez</td>\n",
       "      <td>Panama</td>\n",
       "      <td>8.417700</td>\n",
       "      <td>-80.112778</td>\n",
       "    </tr>\n",
       "    <tr>\n",
       "      <th>2</th>\n",
       "      <td>AR0RCMP1187FB3F427</td>\n",
       "      <td>Billie Jo Spears</td>\n",
       "      <td>Beaumont, TX</td>\n",
       "      <td>30.086149</td>\n",
       "      <td>-94.101578</td>\n",
       "    </tr>\n",
       "  </tbody>\n",
       "</table>\n",
       "</div>"
      ],
      "text/plain": [
       "            artist_id              name      location  lattitude  longitude\n",
       "0  AR051KA1187B98B2FF             Wilks                      NaN        NaN\n",
       "1  AR0IAWL1187B9A96D0      Danilo Perez        Panama   8.417700 -80.112778\n",
       "2  AR0RCMP1187FB3F427  Billie Jo Spears  Beaumont, TX  30.086149 -94.101578"
      ]
     },
     "execution_count": 22,
     "metadata": {},
     "output_type": "execute_result"
    }
   ],
   "source": [
    "# Version 2 of the code\n",
    "spark.sql(\"\"\"\n",
    "WITH artists_duplicates AS (\n",
    "SELECT\n",
    "    CAST(artist_id AS STRING) AS artist_id, \n",
    "    CAST(artist_name AS STRING) AS name, \n",
    "    CAST(artist_location AS STRING) AS location, \n",
    "    CAST(artist_latitude AS FLOAT) AS lattitude, \n",
    "    CAST(artist_longitude AS FLOAT) AS longitude,\n",
    "    ROW_NUMBER() OVER(PARTITION BY artist_id ORDER BY artist_id DESC) AS rank\n",
    "FROM staging_songs\n",
    ")\n",
    "SELECT\n",
    "    artist_id,\n",
    "    name,\n",
    "    location,\n",
    "    lattitude,\n",
    "    longitude\n",
    "FROM artists_duplicates\n",
    "WHERE rank = 1\n",
    "\"\"\").toPandas().head(3)"
   ]
  },
  {
   "cell_type": "code",
   "execution_count": 10,
   "metadata": {},
   "outputs": [],
   "source": [
    "songplay = spark.sql(\"\"\"\n",
    "WITH base AS (\n",
    "SELECT\n",
    "    TIMESTAMP 'epoch' + (ev.ts/1000 * INTERVAL '1 second') AS start_time, \n",
    "    ev.userId AS user_id, \n",
    "    ev.level, \n",
    "    so.song_id, \n",
    "    so.artist_id, \n",
    "    ev.sessionId AS session_id, \n",
    "    ev.location, \n",
    "    ev.userAgent AS user_agent\n",
    "FROM staging_events ev\n",
    "LEFT JOIN staging_songs so ON so.title = ev.song\n",
    "                            AND so.artist_name = ev.artist\n",
    ")\n",
    "SELECT\n",
    "    CAST(start_time AS TIMESTAMP) AS start_time,\n",
    "    CAST(user_id  AS STRING) AS user_id,\n",
    "    CAST(song_id AS STRING) AS song_id,\n",
    "    CAST(artist_id AS STRING) AS artist_id,\n",
    "    CAST(session_id AS INT) AS session_id,\n",
    "    CAST(EXTRACT(MONTH FROM start_time) AS INT) AS month,\n",
    "    CAST(EXTRACT(YEAR FROM start_time) AS INT) AS year\n",
    "FROM base\n",
    "\"\"\")"
   ]
  },
  {
   "cell_type": "code",
   "execution_count": 11,
   "metadata": {},
   "outputs": [],
   "source": [
    "time = spark.sql(\"\"\"\n",
    "WITH time AS (\n",
    "    SELECT DISTINCT\n",
    "        ts,\n",
    "        TIMESTAMP 'epoch' + (ts/1000 * INTERVAL '1 second') AS start_time\n",
    "    FROM staging_events\n",
    ")\n",
    "SELECT\n",
    "    CAST(ts AS INT) AS ts,\n",
    "    CAST(start_time AS TIMESTAMP) AS start_time,\n",
    "    CAST(EXTRACT(HOUR FROM start_time) AS INT) AS hour,\n",
    "    CAST(EXTRACT(DAY FROM start_time) AS INT) AS day,\n",
    "    CAST(EXTRACT(WEEK FROM start_time) AS INT) AS week,\n",
    "    CAST(EXTRACT(MONTH FROM start_time) AS INT) AS month,\n",
    "    CAST(EXTRACT(YEAR FROM start_time) AS INT) AS year,\n",
    "    CAST(EXTRACT(DAYOFWEEK FROM start_time) AS INT) AS weekday\n",
    "FROM time\n",
    "\"\"\")"
   ]
  },
  {
   "cell_type": "markdown",
   "metadata": {},
   "source": [
    "## Exporting data to parquet format\n"
   ]
  },
  {
   "cell_type": "code",
   "execution_count": 19,
   "metadata": {},
   "outputs": [
    {
     "name": "stderr",
     "output_type": "stream",
     "text": [
      "                                                                                \r"
     ]
    }
   ],
   "source": [
    "songplay.write.partitionBy('year', 'month').parquet(os.path.join(os.getcwd(), 'songplay'))"
   ]
  },
  {
   "cell_type": "code",
   "execution_count": 20,
   "metadata": {},
   "outputs": [
    {
     "name": "stderr",
     "output_type": "stream",
     "text": [
      "                                                                                \r"
     ]
    }
   ],
   "source": [
    "time.write.partitionBy('year', 'month').parquet(os.path.join(os.getcwd(), 'time'))"
   ]
  },
  {
   "cell_type": "code",
   "execution_count": 21,
   "metadata": {},
   "outputs": [
    {
     "name": "stderr",
     "output_type": "stream",
     "text": [
      "                                                                                \r"
     ]
    }
   ],
   "source": [
    "songs.write.partitionBy('year', 'artist_id').parquet(os.path.join(os.getcwd(), 'song'))"
   ]
  },
  {
   "cell_type": "code",
   "execution_count": 25,
   "metadata": {},
   "outputs": [
    {
     "name": "stderr",
     "output_type": "stream",
     "text": [
      "                                                                                \r"
     ]
    }
   ],
   "source": [
    "user.write.partitionBy('userId').parquet(os.path.join(os.getcwd(), 'user'))"
   ]
  },
  {
   "cell_type": "code",
   "execution_count": 26,
   "metadata": {},
   "outputs": [
    {
     "name": "stderr",
     "output_type": "stream",
     "text": [
      "                                                                                \r"
     ]
    }
   ],
   "source": [
    "artists.write.partitionBy('artist_id').parquet(os.path.join(os.getcwd(), 'artists'))"
   ]
  },
  {
   "cell_type": "code",
   "execution_count": null,
   "metadata": {},
   "outputs": [],
   "source": []
  }
 ],
 "metadata": {
  "kernelspec": {
   "display_name": "Python 3 (ipykernel)",
   "language": "python",
   "name": "python3"
  },
  "language_info": {
   "codemirror_mode": {
    "name": "ipython",
    "version": 3
   },
   "file_extension": ".py",
   "mimetype": "text/x-python",
   "name": "python",
   "nbconvert_exporter": "python",
   "pygments_lexer": "ipython3",
   "version": "3.8.10"
  },
  "vscode": {
   "interpreter": {
    "hash": "dc0e7c250a87cc8fe5414641b1a771d1f50750bb5171e38cf778da3d973fd683"
   }
  }
 },
 "nbformat": 4,
 "nbformat_minor": 2
}
