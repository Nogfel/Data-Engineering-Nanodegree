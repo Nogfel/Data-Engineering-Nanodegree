{
 "cells": [
  {
   "cell_type": "markdown",
   "metadata": {},
   "source": [
    "# Imports"
   ]
  },
  {
   "cell_type": "code",
   "execution_count": 1,
   "metadata": {},
   "outputs": [
    {
     "name": "stdout",
     "output_type": "stream",
     "text": [
      "23/01/28 17:03:22 WARN SparkSession: Using an existing Spark session; only runtime SQL configurations will take effect.\n"
     ]
    }
   ],
   "source": [
    "import pyspark\n",
    "from pyspark.sql import SparkSession\n",
    "from datetime import datetime, date\n",
    "import pandas as pd\n",
    "from pyspark.sql import Row\n",
    "import logging\n",
    "import numpy as np\n",
    "import pandas as pd\n",
    "logger = logging.getLogger()\n",
    "logger.setLevel(logging.CRITICAL)\n",
    "spark = SparkSession.builder.appName(\"data-lake-spark\").getOrCreate()\n",
    "\n",
    "# from pyspark.sql.types import (\n",
    "#     StringType, BooleanType, IntegerType, FloatType, DateType\n",
    "# )\n",
    "\n",
    "\n"
   ]
  },
  {
   "cell_type": "code",
   "execution_count": 18,
   "metadata": {},
   "outputs": [],
   "source": [
    "# schema_log = \"`artist` STRING, `auth` STRING, firstName STRING, `gender`:STRING, \\\n",
    "# `itemInSession` INT, `lastName` STRING, `length` FLOAT, `level` STRING, `location` STRING, \\\n",
    "# `method` STRING, `page` STRING, `registration` STRING, `sessionId` INT, `song` STRING, \\\n",
    "# `status` INT, `ts` INT, `userAgent` STRING, `userId`STRING\""
   ]
  },
  {
   "cell_type": "code",
   "execution_count": 19,
   "metadata": {},
   "outputs": [],
   "source": [
    "# schema_song = \"`num_songs` INT, `artist_id` STRING, `artist_latitude` FLOAT, `artist_longitude` FLOAT, \\\n",
    "# `artist_location` STRING, `artist_name` STRING, `song_id` STRING, `title` STRING,\\\n",
    "# `duration` FLOAT,`year` INT\""
   ]
  },
  {
   "cell_type": "code",
   "execution_count": 2,
   "metadata": {},
   "outputs": [
    {
     "name": "stderr",
     "output_type": "stream",
     "text": [
      "                                                                                \r"
     ]
    }
   ],
   "source": [
    "df_log = spark.read.json(\"/home/felipe/Documentos/Udacity/Data Engineering Nanodegree/Data_lake_project/data/log-data/*.json\")\n",
    "df_song = spark.read.json(\"/home/felipe/Documentos/Udacity/Data Engineering Nanodegree/Data_lake_project/data/song-data/song_data/A/*/*/*.json\")\n"
   ]
  },
  {
   "cell_type": "markdown",
   "metadata": {},
   "source": [
    "# Data Wrangling"
   ]
  },
  {
   "cell_type": "code",
   "execution_count": 3,
   "metadata": {},
   "outputs": [],
   "source": [
    "df_log.createOrReplaceTempView(\"staging_events\")\n",
    "df_song.createOrReplaceTempView(\"staging_songs\")"
   ]
  },
  {
   "cell_type": "code",
   "execution_count": 4,
   "metadata": {},
   "outputs": [
    {
     "name": "stderr",
     "output_type": "stream",
     "text": [
      "\r",
      "[Stage 4:============================================>              (3 + 1) / 4]\r",
      "\r",
      "                                                                                \r"
     ]
    },
    {
     "data": {
      "text/html": [
       "<div>\n",
       "<style scoped>\n",
       "    .dataframe tbody tr th:only-of-type {\n",
       "        vertical-align: middle;\n",
       "    }\n",
       "\n",
       "    .dataframe tbody tr th {\n",
       "        vertical-align: top;\n",
       "    }\n",
       "\n",
       "    .dataframe thead th {\n",
       "        text-align: right;\n",
       "    }\n",
       "</style>\n",
       "<table border=\"1\" class=\"dataframe\">\n",
       "  <thead>\n",
       "    <tr style=\"text-align: right;\">\n",
       "      <th></th>\n",
       "      <th>artist_id</th>\n",
       "      <th>artist_latitude</th>\n",
       "      <th>artist_location</th>\n",
       "      <th>artist_longitude</th>\n",
       "      <th>artist_name</th>\n",
       "      <th>duration</th>\n",
       "      <th>num_songs</th>\n",
       "      <th>song_id</th>\n",
       "      <th>title</th>\n",
       "      <th>year</th>\n",
       "    </tr>\n",
       "  </thead>\n",
       "  <tbody>\n",
       "    <tr>\n",
       "      <th>0</th>\n",
       "      <td>ARDR4AC1187FB371A1</td>\n",
       "      <td>NaN</td>\n",
       "      <td></td>\n",
       "      <td>NaN</td>\n",
       "      <td>Montserrat Caballé;Placido Domingo;Vicente Sar...</td>\n",
       "      <td>511.16363</td>\n",
       "      <td>1</td>\n",
       "      <td>SOBAYLL12A8C138AF9</td>\n",
       "      <td>Sono andati? Fingevo di dormire</td>\n",
       "      <td>0</td>\n",
       "    </tr>\n",
       "  </tbody>\n",
       "</table>\n",
       "</div>"
      ],
      "text/plain": [
       "            artist_id  artist_latitude artist_location  artist_longitude  \\\n",
       "0  ARDR4AC1187FB371A1              NaN                               NaN   \n",
       "\n",
       "                                         artist_name   duration  num_songs  \\\n",
       "0  Montserrat Caballé;Placido Domingo;Vicente Sar...  511.16363          1   \n",
       "\n",
       "              song_id                            title  year  \n",
       "0  SOBAYLL12A8C138AF9  Sono andati? Fingevo di dormire     0  "
      ]
     },
     "execution_count": 4,
     "metadata": {},
     "output_type": "execute_result"
    }
   ],
   "source": [
    "spark.sql(\"SELECT * FROM staging_songs\").toPandas().head(1)"
   ]
  },
  {
   "cell_type": "code",
   "execution_count": 5,
   "metadata": {},
   "outputs": [
    {
     "name": "stderr",
     "output_type": "stream",
     "text": [
      "\r",
      "[Stage 5:=============================>                             (2 + 2) / 4]\r",
      "\r",
      "                                                                                \r"
     ]
    },
    {
     "data": {
      "text/html": [
       "<div>\n",
       "<style scoped>\n",
       "    .dataframe tbody tr th:only-of-type {\n",
       "        vertical-align: middle;\n",
       "    }\n",
       "\n",
       "    .dataframe tbody tr th {\n",
       "        vertical-align: top;\n",
       "    }\n",
       "\n",
       "    .dataframe thead th {\n",
       "        text-align: right;\n",
       "    }\n",
       "</style>\n",
       "<table border=\"1\" class=\"dataframe\">\n",
       "  <thead>\n",
       "    <tr style=\"text-align: right;\">\n",
       "      <th></th>\n",
       "      <th>artist</th>\n",
       "      <th>auth</th>\n",
       "      <th>firstName</th>\n",
       "      <th>gender</th>\n",
       "      <th>itemInSession</th>\n",
       "      <th>lastName</th>\n",
       "      <th>length</th>\n",
       "      <th>level</th>\n",
       "      <th>location</th>\n",
       "      <th>method</th>\n",
       "      <th>page</th>\n",
       "      <th>registration</th>\n",
       "      <th>sessionId</th>\n",
       "      <th>song</th>\n",
       "      <th>status</th>\n",
       "      <th>ts</th>\n",
       "      <th>userAgent</th>\n",
       "      <th>userId</th>\n",
       "    </tr>\n",
       "  </thead>\n",
       "  <tbody>\n",
       "    <tr>\n",
       "      <th>0</th>\n",
       "      <td>Harmonia</td>\n",
       "      <td>Logged In</td>\n",
       "      <td>Ryan</td>\n",
       "      <td>M</td>\n",
       "      <td>0</td>\n",
       "      <td>Smith</td>\n",
       "      <td>655.77751</td>\n",
       "      <td>free</td>\n",
       "      <td>San Jose-Sunnyvale-Santa Clara, CA</td>\n",
       "      <td>PUT</td>\n",
       "      <td>NextSong</td>\n",
       "      <td>1.541017e+12</td>\n",
       "      <td>583</td>\n",
       "      <td>Sehr kosmisch</td>\n",
       "      <td>200</td>\n",
       "      <td>1542241826796</td>\n",
       "      <td>\"Mozilla/5.0 (X11; Linux x86_64) AppleWebKit/5...</td>\n",
       "      <td>26</td>\n",
       "    </tr>\n",
       "  </tbody>\n",
       "</table>\n",
       "</div>"
      ],
      "text/plain": [
       "     artist       auth firstName gender  itemInSession lastName     length  \\\n",
       "0  Harmonia  Logged In      Ryan      M              0    Smith  655.77751   \n",
       "\n",
       "  level                            location method      page  registration  \\\n",
       "0  free  San Jose-Sunnyvale-Santa Clara, CA    PUT  NextSong  1.541017e+12   \n",
       "\n",
       "   sessionId           song  status             ts  \\\n",
       "0        583  Sehr kosmisch     200  1542241826796   \n",
       "\n",
       "                                           userAgent userId  \n",
       "0  \"Mozilla/5.0 (X11; Linux x86_64) AppleWebKit/5...     26  "
      ]
     },
     "execution_count": 5,
     "metadata": {},
     "output_type": "execute_result"
    }
   ],
   "source": [
    "spark.sql(\"SELECT * FROM staging_events\").toPandas().head(1)"
   ]
  },
  {
   "cell_type": "code",
   "execution_count": 6,
   "metadata": {},
   "outputs": [],
   "source": [
    "user = spark.sql(\n",
    "\"\"\"\n",
    "WITH uniq_staging_events AS (\n",
    "    SELECT \n",
    "        userid, \n",
    "        firstName,\n",
    "        lastName,\n",
    "        gender,\n",
    "        level,\n",
    "        ROW_NUMBER() OVER(PARTITION BY userid ORDER BY ts DESC) AS rank\n",
    "    FROM staging_events\n",
    "            WHERE userid IS NOT NULL\n",
    ")\n",
    "SELECT \n",
    "    CAST(userid AS STRING) AS userid,\n",
    "    CAST(firstName AS STRING) AS first_name, \n",
    "    CAST(lastName AS STRING) AS last_name, \n",
    "    CAST(gender AS STRING) AS gender,\n",
    "    CAST(level AS STRING) AS level\n",
    "    FROM uniq_staging_events\n",
    "WHERE rank = 1;\n",
    "\"\"\")"
   ]
  },
  {
   "cell_type": "code",
   "execution_count": 7,
   "metadata": {},
   "outputs": [],
   "source": [
    "songs = spark.sql(\"\"\"\n",
    "SELECT DISTINCT\n",
    "    CAST(song_id AS STRING) AS song_id, \n",
    "    CAST(title AS STRING) AS title, \n",
    "    CAST(artist_id AS STRING) AS artist_id, \n",
    "    CAST(year AS INT) AS year, \n",
    "    CAST(duration AS FLOAT) AS duration\n",
    "FROM staging_songs\n",
    "\"\"\")"
   ]
  },
  {
   "cell_type": "code",
   "execution_count": 8,
   "metadata": {},
   "outputs": [],
   "source": [
    "artists = spark.sql(\"\"\"\n",
    "SELECT\n",
    "    CAST(artist_id AS STRING) AS artist_id, \n",
    "    CAST(artist_name AS STRING) AS name, \n",
    "    CAST(artist_location AS STRING) AS location, \n",
    "    CAST(artist_latitude AS FLOAT) AS lattitude, \n",
    "    CAST(artist_longitude AS FLOAT) AS longitude\n",
    "FROM staging_songs\n",
    "\"\"\")"
   ]
  },
  {
   "cell_type": "code",
   "execution_count": 10,
   "metadata": {},
   "outputs": [],
   "source": [
    "songplay = spark.sql(\"\"\"\n",
    "WITH base AS (\n",
    "SELECT\n",
    "    TIMESTAMP 'epoch' + (ev.ts/1000 * INTERVAL '1 second') AS start_time, \n",
    "    ev.userId AS user_id, \n",
    "    ev.level, \n",
    "    so.song_id, \n",
    "    so.artist_id, \n",
    "    ev.sessionId AS session_id, \n",
    "    ev.location, \n",
    "    ev.userAgent AS user_agent\n",
    "FROM staging_events ev\n",
    "LEFT JOIN staging_songs so ON so.title = ev.song\n",
    "                            AND so.artist_name = ev.artist\n",
    ")\n",
    "SELECT\n",
    "    CAST(start_time AS TIMESTAMP) AS start_time,\n",
    "    CAST(user_id  AS STRING) AS user_id,\n",
    "    CAST(song_id AS STRING) AS song_id,\n",
    "    CAST(artist_id AS STRING) AS artist_id,\n",
    "    CAST(session_id AS INT) AS session_id,\n",
    "    CAST(EXTRACT(MONTH FROM start_time) AS INT) AS month,\n",
    "    CAST(EXTRACT(YEAR FROM start_time) AS INT) AS year\n",
    "FROM base\n",
    "\"\"\")"
   ]
  },
  {
   "cell_type": "code",
   "execution_count": 11,
   "metadata": {},
   "outputs": [],
   "source": [
    "time = spark.sql(\"\"\"\n",
    "WITH time AS (\n",
    "    SELECT DISTINCT\n",
    "        ts,\n",
    "        TIMESTAMP 'epoch' + (ts/1000 * INTERVAL '1 second') AS start_time\n",
    "    FROM staging_events\n",
    ")\n",
    "SELECT\n",
    "    CAST(ts AS INT) AS ts,\n",
    "    CAST(start_time AS TIMESTAMP) AS start_time,\n",
    "    CAST(EXTRACT(HOUR FROM start_time) AS INT) AS hour,\n",
    "    CAST(EXTRACT(DAY FROM start_time) AS INT) AS day,\n",
    "    CAST(EXTRACT(WEEK FROM start_time) AS INT) AS week,\n",
    "    CAST(EXTRACT(MONTH FROM start_time) AS INT) AS month,\n",
    "    CAST(EXTRACT(YEAR FROM start_time) AS INT) AS year,\n",
    "    CAST(EXTRACT(DAYOFWEEK FROM start_time) AS INT) AS weekday\n",
    "FROM time\n",
    "\"\"\")"
   ]
  },
  {
   "cell_type": "markdown",
   "metadata": {},
   "source": [
    "# Exportando códigos para parquet\n",
    "Testei e funcionou"
   ]
  },
  {
   "cell_type": "code",
   "execution_count": 19,
   "metadata": {},
   "outputs": [
    {
     "name": "stderr",
     "output_type": "stream",
     "text": [
      "                                                                                \r"
     ]
    }
   ],
   "source": [
    "    songplay.write.partitionBy('year', 'month').parquet(os.path.join(os.getcwd(), 'songplay'))"
   ]
  },
  {
   "cell_type": "code",
   "execution_count": 20,
   "metadata": {},
   "outputs": [
    {
     "name": "stderr",
     "output_type": "stream",
     "text": [
      "                                                                                \r"
     ]
    }
   ],
   "source": [
    "time.write.partitionBy('year', 'month').parquet(os.path.join(os.getcwd(), 'time'))"
   ]
  },
  {
   "cell_type": "code",
   "execution_count": 21,
   "metadata": {},
   "outputs": [
    {
     "name": "stderr",
     "output_type": "stream",
     "text": [
      "                                                                                \r"
     ]
    }
   ],
   "source": [
    "songs.write.partitionBy('year', 'artist_id').parquet(os.path.join(os.getcwd(), 'song'))"
   ]
  },
  {
   "cell_type": "code",
   "execution_count": 25,
   "metadata": {},
   "outputs": [
    {
     "name": "stderr",
     "output_type": "stream",
     "text": [
      "                                                                                \r"
     ]
    }
   ],
   "source": [
    "user.write.partitionBy('userId').parquet(os.path.join(os.getcwd(), 'user'))"
   ]
  },
  {
   "cell_type": "code",
   "execution_count": 26,
   "metadata": {},
   "outputs": [
    {
     "name": "stderr",
     "output_type": "stream",
     "text": [
      "                                                                                \r"
     ]
    }
   ],
   "source": [
    "artists.write.partitionBy('artist_id').parquet(os.path.join(os.getcwd(), 'artists'))"
   ]
  },
  {
   "cell_type": "code",
   "execution_count": null,
   "metadata": {},
   "outputs": [],
   "source": []
  }
 ],
 "metadata": {
  "kernelspec": {
   "display_name": "Python 3 (ipykernel)",
   "language": "python",
   "name": "python3"
  },
  "language_info": {
   "codemirror_mode": {
    "name": "ipython",
    "version": 3
   },
   "file_extension": ".py",
   "mimetype": "text/x-python",
   "name": "python",
   "nbconvert_exporter": "python",
   "pygments_lexer": "ipython3",
   "version": "3.8.10"
  },
  "vscode": {
   "interpreter": {
    "hash": "dc0e7c250a87cc8fe5414641b1a771d1f50750bb5171e38cf778da3d973fd683"
   }
  }
 },
 "nbformat": 4,
 "nbformat_minor": 2
}
