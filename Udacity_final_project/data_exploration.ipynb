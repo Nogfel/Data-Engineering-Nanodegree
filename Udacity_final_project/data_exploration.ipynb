{
 "cells": [
  {
   "cell_type": "code",
   "execution_count": 2,
   "metadata": {},
   "outputs": [],
   "source": [
    "import pandas as pd"
   ]
  },
  {
   "cell_type": "code",
   "execution_count": 3,
   "metadata": {},
   "outputs": [],
   "source": [
    "pd.set_option('display.max_columns', None)"
   ]
  },
  {
   "attachments": {},
   "cell_type": "markdown",
   "metadata": {},
   "source": [
    "# Data Exploration\n"
   ]
  },
  {
   "attachments": {},
   "cell_type": "markdown",
   "metadata": {},
   "source": [
    "## Parquet files\n",
    "These parquet files too large for my PC to handle.<br>\n",
    "So we are going to explore the data using `immigration_data_sample.csv`."
   ]
  },
  {
   "cell_type": "code",
   "execution_count": 35,
   "metadata": {},
   "outputs": [
    {
     "data": {
      "text/html": [
       "<div>\n",
       "<style scoped>\n",
       "    .dataframe tbody tr th:only-of-type {\n",
       "        vertical-align: middle;\n",
       "    }\n",
       "\n",
       "    .dataframe tbody tr th {\n",
       "        vertical-align: top;\n",
       "    }\n",
       "\n",
       "    .dataframe thead th {\n",
       "        text-align: right;\n",
       "    }\n",
       "</style>\n",
       "<table border=\"1\" class=\"dataframe\">\n",
       "  <thead>\n",
       "    <tr style=\"text-align: right;\">\n",
       "      <th></th>\n",
       "      <th>cicid</th>\n",
       "      <th>i94yr</th>\n",
       "      <th>i94mon</th>\n",
       "      <th>i94cit</th>\n",
       "      <th>i94res</th>\n",
       "      <th>i94port</th>\n",
       "      <th>arrdate</th>\n",
       "      <th>i94mode</th>\n",
       "      <th>i94addr</th>\n",
       "      <th>depdate</th>\n",
       "      <th>i94bir</th>\n",
       "      <th>i94visa</th>\n",
       "      <th>count</th>\n",
       "      <th>dtadfile</th>\n",
       "      <th>visapost</th>\n",
       "      <th>occup</th>\n",
       "      <th>entdepa</th>\n",
       "      <th>entdepd</th>\n",
       "      <th>entdepu</th>\n",
       "      <th>matflag</th>\n",
       "      <th>biryear</th>\n",
       "      <th>dtaddto</th>\n",
       "      <th>gender</th>\n",
       "      <th>insnum</th>\n",
       "      <th>airline</th>\n",
       "      <th>admnum</th>\n",
       "      <th>fltno</th>\n",
       "      <th>visatype</th>\n",
       "    </tr>\n",
       "  </thead>\n",
       "  <tbody>\n",
       "    <tr>\n",
       "      <th>0</th>\n",
       "      <td>6.0</td>\n",
       "      <td>2016.0</td>\n",
       "      <td>4.0</td>\n",
       "      <td>692.0</td>\n",
       "      <td>692.0</td>\n",
       "      <td>XXX</td>\n",
       "      <td>20573.0</td>\n",
       "      <td>NaN</td>\n",
       "      <td>None</td>\n",
       "      <td>NaN</td>\n",
       "      <td>37.0</td>\n",
       "      <td>2.0</td>\n",
       "      <td>1.0</td>\n",
       "      <td>None</td>\n",
       "      <td>None</td>\n",
       "      <td>None</td>\n",
       "      <td>T</td>\n",
       "      <td>None</td>\n",
       "      <td>U</td>\n",
       "      <td>None</td>\n",
       "      <td>1979.0</td>\n",
       "      <td>10282016</td>\n",
       "      <td>None</td>\n",
       "      <td>None</td>\n",
       "      <td>None</td>\n",
       "      <td>1.897628e+09</td>\n",
       "      <td>None</td>\n",
       "      <td>B2</td>\n",
       "    </tr>\n",
       "    <tr>\n",
       "      <th>1</th>\n",
       "      <td>7.0</td>\n",
       "      <td>2016.0</td>\n",
       "      <td>4.0</td>\n",
       "      <td>254.0</td>\n",
       "      <td>276.0</td>\n",
       "      <td>ATL</td>\n",
       "      <td>20551.0</td>\n",
       "      <td>1.0</td>\n",
       "      <td>AL</td>\n",
       "      <td>NaN</td>\n",
       "      <td>25.0</td>\n",
       "      <td>3.0</td>\n",
       "      <td>1.0</td>\n",
       "      <td>20130811</td>\n",
       "      <td>SEO</td>\n",
       "      <td>None</td>\n",
       "      <td>G</td>\n",
       "      <td>None</td>\n",
       "      <td>Y</td>\n",
       "      <td>None</td>\n",
       "      <td>1991.0</td>\n",
       "      <td>D/S</td>\n",
       "      <td>M</td>\n",
       "      <td>None</td>\n",
       "      <td>None</td>\n",
       "      <td>3.736796e+09</td>\n",
       "      <td>00296</td>\n",
       "      <td>F1</td>\n",
       "    </tr>\n",
       "    <tr>\n",
       "      <th>2</th>\n",
       "      <td>15.0</td>\n",
       "      <td>2016.0</td>\n",
       "      <td>4.0</td>\n",
       "      <td>101.0</td>\n",
       "      <td>101.0</td>\n",
       "      <td>WAS</td>\n",
       "      <td>20545.0</td>\n",
       "      <td>1.0</td>\n",
       "      <td>MI</td>\n",
       "      <td>20691.0</td>\n",
       "      <td>55.0</td>\n",
       "      <td>2.0</td>\n",
       "      <td>1.0</td>\n",
       "      <td>20160401</td>\n",
       "      <td>None</td>\n",
       "      <td>None</td>\n",
       "      <td>T</td>\n",
       "      <td>O</td>\n",
       "      <td>None</td>\n",
       "      <td>M</td>\n",
       "      <td>1961.0</td>\n",
       "      <td>09302016</td>\n",
       "      <td>M</td>\n",
       "      <td>None</td>\n",
       "      <td>OS</td>\n",
       "      <td>6.666432e+08</td>\n",
       "      <td>93</td>\n",
       "      <td>B2</td>\n",
       "    </tr>\n",
       "    <tr>\n",
       "      <th>3</th>\n",
       "      <td>16.0</td>\n",
       "      <td>2016.0</td>\n",
       "      <td>4.0</td>\n",
       "      <td>101.0</td>\n",
       "      <td>101.0</td>\n",
       "      <td>NYC</td>\n",
       "      <td>20545.0</td>\n",
       "      <td>1.0</td>\n",
       "      <td>MA</td>\n",
       "      <td>20567.0</td>\n",
       "      <td>28.0</td>\n",
       "      <td>2.0</td>\n",
       "      <td>1.0</td>\n",
       "      <td>20160401</td>\n",
       "      <td>None</td>\n",
       "      <td>None</td>\n",
       "      <td>O</td>\n",
       "      <td>O</td>\n",
       "      <td>None</td>\n",
       "      <td>M</td>\n",
       "      <td>1988.0</td>\n",
       "      <td>09302016</td>\n",
       "      <td>None</td>\n",
       "      <td>None</td>\n",
       "      <td>AA</td>\n",
       "      <td>9.246846e+10</td>\n",
       "      <td>00199</td>\n",
       "      <td>B2</td>\n",
       "    </tr>\n",
       "    <tr>\n",
       "      <th>4</th>\n",
       "      <td>17.0</td>\n",
       "      <td>2016.0</td>\n",
       "      <td>4.0</td>\n",
       "      <td>101.0</td>\n",
       "      <td>101.0</td>\n",
       "      <td>NYC</td>\n",
       "      <td>20545.0</td>\n",
       "      <td>1.0</td>\n",
       "      <td>MA</td>\n",
       "      <td>20567.0</td>\n",
       "      <td>4.0</td>\n",
       "      <td>2.0</td>\n",
       "      <td>1.0</td>\n",
       "      <td>20160401</td>\n",
       "      <td>None</td>\n",
       "      <td>None</td>\n",
       "      <td>O</td>\n",
       "      <td>O</td>\n",
       "      <td>None</td>\n",
       "      <td>M</td>\n",
       "      <td>2012.0</td>\n",
       "      <td>09302016</td>\n",
       "      <td>None</td>\n",
       "      <td>None</td>\n",
       "      <td>AA</td>\n",
       "      <td>9.246846e+10</td>\n",
       "      <td>00199</td>\n",
       "      <td>B2</td>\n",
       "    </tr>\n",
       "  </tbody>\n",
       "</table>\n",
       "</div>"
      ],
      "text/plain": [
       "   cicid   i94yr  i94mon  i94cit  i94res i94port  arrdate  i94mode i94addr  \\\n",
       "0    6.0  2016.0     4.0   692.0   692.0     XXX  20573.0      NaN    None   \n",
       "1    7.0  2016.0     4.0   254.0   276.0     ATL  20551.0      1.0      AL   \n",
       "2   15.0  2016.0     4.0   101.0   101.0     WAS  20545.0      1.0      MI   \n",
       "3   16.0  2016.0     4.0   101.0   101.0     NYC  20545.0      1.0      MA   \n",
       "4   17.0  2016.0     4.0   101.0   101.0     NYC  20545.0      1.0      MA   \n",
       "\n",
       "   depdate  i94bir  i94visa  count  dtadfile visapost occup entdepa entdepd  \\\n",
       "0      NaN    37.0      2.0    1.0      None     None  None       T    None   \n",
       "1      NaN    25.0      3.0    1.0  20130811      SEO  None       G    None   \n",
       "2  20691.0    55.0      2.0    1.0  20160401     None  None       T       O   \n",
       "3  20567.0    28.0      2.0    1.0  20160401     None  None       O       O   \n",
       "4  20567.0     4.0      2.0    1.0  20160401     None  None       O       O   \n",
       "\n",
       "  entdepu matflag  biryear   dtaddto gender insnum airline        admnum  \\\n",
       "0       U    None   1979.0  10282016   None   None    None  1.897628e+09   \n",
       "1       Y    None   1991.0       D/S      M   None    None  3.736796e+09   \n",
       "2    None       M   1961.0  09302016      M   None      OS  6.666432e+08   \n",
       "3    None       M   1988.0  09302016   None   None      AA  9.246846e+10   \n",
       "4    None       M   2012.0  09302016   None   None      AA  9.246846e+10   \n",
       "\n",
       "   fltno visatype  \n",
       "0   None       B2  \n",
       "1  00296       F1  \n",
       "2     93       B2  \n",
       "3  00199       B2  \n",
       "4  00199       B2  "
      ]
     },
     "execution_count": 35,
     "metadata": {},
     "output_type": "execute_result"
    }
   ],
   "source": [
    "df_p = pd.read_parquet('/home/felipe/Documentos/Udacity/Data Engineering Nanodegree/Udacity_final_project/data/parquet_files/', engine='pyarrow')\n",
    "df_p.head()"
   ]
  },
  {
   "cell_type": "code",
   "execution_count": 36,
   "metadata": {},
   "outputs": [
    {
     "name": "stdout",
     "output_type": "stream",
     "text": [
      "<class 'pandas.core.frame.DataFrame'>\n",
      "RangeIndex: 2200708 entries, 0 to 2200707\n",
      "Data columns (total 28 columns):\n",
      " #   Column    Dtype  \n",
      "---  ------    -----  \n",
      " 0   cicid     float64\n",
      " 1   i94yr     float64\n",
      " 2   i94mon    float64\n",
      " 3   i94cit    float64\n",
      " 4   i94res    float64\n",
      " 5   i94port   object \n",
      " 6   arrdate   float64\n",
      " 7   i94mode   float64\n",
      " 8   i94addr   object \n",
      " 9   depdate   float64\n",
      " 10  i94bir    float64\n",
      " 11  i94visa   float64\n",
      " 12  count     float64\n",
      " 13  dtadfile  object \n",
      " 14  visapost  object \n",
      " 15  occup     object \n",
      " 16  entdepa   object \n",
      " 17  entdepd   object \n",
      " 18  entdepu   object \n",
      " 19  matflag   object \n",
      " 20  biryear   float64\n",
      " 21  dtaddto   object \n",
      " 22  gender    object \n",
      " 23  insnum    object \n",
      " 24  airline   object \n",
      " 25  admnum    float64\n",
      " 26  fltno     object \n",
      " 27  visatype  object \n",
      "dtypes: float64(13), object(15)\n",
      "memory usage: 470.1+ MB\n"
     ]
    }
   ],
   "source": [
    "df_p.info()"
   ]
  },
  {
   "cell_type": "code",
   "execution_count": 37,
   "metadata": {},
   "outputs": [
    {
     "name": "stdout",
     "output_type": "stream",
     "text": [
      "['cicid', 'i94yr', 'i94mon', 'i94cit', 'i94res', 'i94port', 'arrdate', 'i94mode', 'i94addr', 'depdate', 'i94bir', 'i94visa', 'count', 'dtadfile', 'visapost', 'occup', 'entdepa', 'entdepd', 'entdepu', 'matflag', 'biryear', 'dtaddto', 'gender', 'insnum', 'airline', 'admnum', 'fltno', 'visatype']\n"
     ]
    }
   ],
   "source": [
    "import pyarrow.parquet as pq\n",
    "schema = pq.read_schema(\"/home/felipe/Documentos/Udacity/Data Engineering Nanodegree/Udacity_final_project/data/parquet_files/part-00000-b9542815-7a8d-45fc-9c67-c9c5007ad0d4-c000.snappy.parquet\", memory_map=True)\n",
    "print(list(schema.names))"
   ]
  },
  {
   "cell_type": "code",
   "execution_count": 38,
   "metadata": {},
   "outputs": [
    {
     "data": {
      "text/plain": [
       "[DataType(double),\n",
       " DataType(double),\n",
       " DataType(double),\n",
       " DataType(double),\n",
       " DataType(double),\n",
       " DataType(string),\n",
       " DataType(double),\n",
       " DataType(double),\n",
       " DataType(string),\n",
       " DataType(double),\n",
       " DataType(double),\n",
       " DataType(double),\n",
       " DataType(double),\n",
       " DataType(string),\n",
       " DataType(string),\n",
       " DataType(string),\n",
       " DataType(string),\n",
       " DataType(string),\n",
       " DataType(string),\n",
       " DataType(string),\n",
       " DataType(double),\n",
       " DataType(string),\n",
       " DataType(string),\n",
       " DataType(string),\n",
       " DataType(string),\n",
       " DataType(double),\n",
       " DataType(string),\n",
       " DataType(string)]"
      ]
     },
     "execution_count": 38,
     "metadata": {},
     "output_type": "execute_result"
    }
   ],
   "source": [
    "schema.types"
   ]
  },
  {
   "cell_type": "code",
   "execution_count": 4,
   "metadata": {},
   "outputs": [
    {
     "data": {
      "text/plain": [
       "2200708"
      ]
     },
     "execution_count": 4,
     "metadata": {},
     "output_type": "execute_result"
    }
   ],
   "source": [
    "len(df_p)"
   ]
  },
  {
   "cell_type": "code",
   "execution_count": 20,
   "metadata": {},
   "outputs": [
    {
     "data": {
      "text/plain": [
       "array([2016.])"
      ]
     },
     "execution_count": 20,
     "metadata": {},
     "output_type": "execute_result"
    }
   ],
   "source": [
    "df_p['i94yr'].unique()"
   ]
  },
  {
   "cell_type": "code",
   "execution_count": 21,
   "metadata": {},
   "outputs": [
    {
     "data": {
      "text/plain": [
       "array([4.])"
      ]
     },
     "execution_count": 21,
     "metadata": {},
     "output_type": "execute_result"
    }
   ],
   "source": [
    "df_p['i94mon'].unique()"
   ]
  },
  {
   "attachments": {},
   "cell_type": "markdown",
   "metadata": {},
   "source": [
    "## `I94_SAS_Labels_Descriptions`\n",
    "To read this data I need to use something like this:<br>\n",
    "https://knowledge.udacity.com/questions/125439"
   ]
  },
  {
   "cell_type": "code",
   "execution_count": 13,
   "metadata": {},
   "outputs": [
    {
     "ename": "ValueError",
     "evalue": "unable to infer format of SAS file from filename: '/home/felipe/documentos/udacity/data engineering nanodegree/udacity_final_project/data/i94_sas_labels_descriptions.sas'",
     "output_type": "error",
     "traceback": [
      "\u001b[0;31m---------------------------------------------------------------------------\u001b[0m",
      "\u001b[0;31mValueError\u001b[0m                                Traceback (most recent call last)",
      "Cell \u001b[0;32mIn [13], line 1\u001b[0m\n\u001b[0;32m----> 1\u001b[0m df_i04 \u001b[39m=\u001b[39m  pd\u001b[39m.\u001b[39;49mread_sas(\u001b[39m'\u001b[39;49m\u001b[39m/home/felipe/Documentos/Udacity/Data Engineering Nanodegree/Udacity_final_project/data/I94_SAS_Labels_Descriptions.SAS\u001b[39;49m\u001b[39m'\u001b[39;49m, \u001b[39mformat\u001b[39;49m\u001b[39m=\u001b[39;49m\u001b[39mNone\u001b[39;49;00m, index\u001b[39m=\u001b[39;49m\u001b[39mNone\u001b[39;49;00m, encoding\u001b[39m=\u001b[39;49m\u001b[39mNone\u001b[39;49;00m, chunksize\u001b[39m=\u001b[39;49m\u001b[39mNone\u001b[39;49;00m, iterator\u001b[39m=\u001b[39;49m\u001b[39mFalse\u001b[39;49;00m)\n\u001b[1;32m      2\u001b[0m df_i04\u001b[39m.\u001b[39mhead()\n",
      "File \u001b[0;32m~/Documentos/Udacity/Data Engineering Nanodegree/.venv/lib/python3.8/site-packages/pandas/util/_decorators.py:331\u001b[0m, in \u001b[0;36mdeprecate_nonkeyword_arguments.<locals>.decorate.<locals>.wrapper\u001b[0;34m(*args, **kwargs)\u001b[0m\n\u001b[1;32m    325\u001b[0m \u001b[39mif\u001b[39;00m \u001b[39mlen\u001b[39m(args) \u001b[39m>\u001b[39m num_allow_args:\n\u001b[1;32m    326\u001b[0m     warnings\u001b[39m.\u001b[39mwarn(\n\u001b[1;32m    327\u001b[0m         msg\u001b[39m.\u001b[39mformat(arguments\u001b[39m=\u001b[39m_format_argument_list(allow_args)),\n\u001b[1;32m    328\u001b[0m         \u001b[39mFutureWarning\u001b[39;00m,\n\u001b[1;32m    329\u001b[0m         stacklevel\u001b[39m=\u001b[39mfind_stack_level(),\n\u001b[1;32m    330\u001b[0m     )\n\u001b[0;32m--> 331\u001b[0m \u001b[39mreturn\u001b[39;00m func(\u001b[39m*\u001b[39;49margs, \u001b[39m*\u001b[39;49m\u001b[39m*\u001b[39;49mkwargs)\n",
      "File \u001b[0;32m~/Documentos/Udacity/Data Engineering Nanodegree/.venv/lib/python3.8/site-packages/pandas/io/sas/sasreader.py:143\u001b[0m, in \u001b[0;36mread_sas\u001b[0;34m(filepath_or_buffer, format, index, encoding, chunksize, iterator, compression)\u001b[0m\n\u001b[1;32m    141\u001b[0m         \u001b[39mformat\u001b[39m \u001b[39m=\u001b[39m \u001b[39m\"\u001b[39m\u001b[39msas7bdat\u001b[39m\u001b[39m\"\u001b[39m\n\u001b[1;32m    142\u001b[0m     \u001b[39melse\u001b[39;00m:\n\u001b[0;32m--> 143\u001b[0m         \u001b[39mraise\u001b[39;00m \u001b[39mValueError\u001b[39;00m(\n\u001b[1;32m    144\u001b[0m             \u001b[39mf\u001b[39m\u001b[39m\"\u001b[39m\u001b[39munable to infer format of SAS file from filename: \u001b[39m\u001b[39m{\u001b[39;00m\u001b[39mrepr\u001b[39m(fname)\u001b[39m}\u001b[39;00m\u001b[39m\"\u001b[39m\n\u001b[1;32m    145\u001b[0m         )\n\u001b[1;32m    147\u001b[0m reader: ReaderBase\n\u001b[1;32m    148\u001b[0m \u001b[39mif\u001b[39;00m \u001b[39mformat\u001b[39m\u001b[39m.\u001b[39mlower() \u001b[39m==\u001b[39m \u001b[39m\"\u001b[39m\u001b[39mxport\u001b[39m\u001b[39m\"\u001b[39m:\n",
      "\u001b[0;31mValueError\u001b[0m: unable to infer format of SAS file from filename: '/home/felipe/documentos/udacity/data engineering nanodegree/udacity_final_project/data/i94_sas_labels_descriptions.sas'"
     ]
    }
   ],
   "source": [
    "df_i04 =  pd.read_sas('/home/felipe/Documentos/Udacity/Data Engineering Nanodegree/Udacity_final_project/data/I94_SAS_Labels_Descriptions.SAS', format=None, index=None, encoding=None, chunksize=None, iterator=False)\n",
    "df_i04.head()\n"
   ]
  },
  {
   "attachments": {},
   "cell_type": "markdown",
   "metadata": {},
   "source": [
    "## `imigration_data_sample.csv`"
   ]
  },
  {
   "cell_type": "code",
   "execution_count": 31,
   "metadata": {},
   "outputs": [
    {
     "data": {
      "text/html": [
       "<div>\n",
       "<style scoped>\n",
       "    .dataframe tbody tr th:only-of-type {\n",
       "        vertical-align: middle;\n",
       "    }\n",
       "\n",
       "    .dataframe tbody tr th {\n",
       "        vertical-align: top;\n",
       "    }\n",
       "\n",
       "    .dataframe thead th {\n",
       "        text-align: right;\n",
       "    }\n",
       "</style>\n",
       "<table border=\"1\" class=\"dataframe\">\n",
       "  <thead>\n",
       "    <tr style=\"text-align: right;\">\n",
       "      <th></th>\n",
       "      <th>Unnamed: 0</th>\n",
       "      <th>cicid</th>\n",
       "      <th>i94yr</th>\n",
       "      <th>i94mon</th>\n",
       "      <th>i94cit</th>\n",
       "      <th>i94res</th>\n",
       "      <th>i94port</th>\n",
       "      <th>arrdate</th>\n",
       "      <th>i94mode</th>\n",
       "      <th>i94addr</th>\n",
       "      <th>depdate</th>\n",
       "      <th>i94bir</th>\n",
       "      <th>i94visa</th>\n",
       "      <th>count</th>\n",
       "      <th>dtadfile</th>\n",
       "      <th>visapost</th>\n",
       "      <th>occup</th>\n",
       "      <th>entdepa</th>\n",
       "      <th>entdepd</th>\n",
       "      <th>entdepu</th>\n",
       "      <th>matflag</th>\n",
       "      <th>biryear</th>\n",
       "      <th>dtaddto</th>\n",
       "      <th>gender</th>\n",
       "      <th>insnum</th>\n",
       "      <th>airline</th>\n",
       "      <th>admnum</th>\n",
       "      <th>fltno</th>\n",
       "      <th>visatype</th>\n",
       "    </tr>\n",
       "  </thead>\n",
       "  <tbody>\n",
       "    <tr>\n",
       "      <th>0</th>\n",
       "      <td>2027561</td>\n",
       "      <td>4084316.0</td>\n",
       "      <td>2016.0</td>\n",
       "      <td>4.0</td>\n",
       "      <td>209.0</td>\n",
       "      <td>209.0</td>\n",
       "      <td>HHW</td>\n",
       "      <td>20566.0</td>\n",
       "      <td>1.0</td>\n",
       "      <td>HI</td>\n",
       "      <td>20573.0</td>\n",
       "      <td>61.0</td>\n",
       "      <td>2.0</td>\n",
       "      <td>1.0</td>\n",
       "      <td>20160422</td>\n",
       "      <td>NaN</td>\n",
       "      <td>NaN</td>\n",
       "      <td>G</td>\n",
       "      <td>O</td>\n",
       "      <td>NaN</td>\n",
       "      <td>M</td>\n",
       "      <td>1955.0</td>\n",
       "      <td>07202016</td>\n",
       "      <td>F</td>\n",
       "      <td>NaN</td>\n",
       "      <td>JL</td>\n",
       "      <td>5.658267e+10</td>\n",
       "      <td>00782</td>\n",
       "      <td>WT</td>\n",
       "    </tr>\n",
       "    <tr>\n",
       "      <th>1</th>\n",
       "      <td>2171295</td>\n",
       "      <td>4422636.0</td>\n",
       "      <td>2016.0</td>\n",
       "      <td>4.0</td>\n",
       "      <td>582.0</td>\n",
       "      <td>582.0</td>\n",
       "      <td>MCA</td>\n",
       "      <td>20567.0</td>\n",
       "      <td>1.0</td>\n",
       "      <td>TX</td>\n",
       "      <td>20568.0</td>\n",
       "      <td>26.0</td>\n",
       "      <td>2.0</td>\n",
       "      <td>1.0</td>\n",
       "      <td>20160423</td>\n",
       "      <td>MTR</td>\n",
       "      <td>NaN</td>\n",
       "      <td>G</td>\n",
       "      <td>R</td>\n",
       "      <td>NaN</td>\n",
       "      <td>M</td>\n",
       "      <td>1990.0</td>\n",
       "      <td>10222016</td>\n",
       "      <td>M</td>\n",
       "      <td>NaN</td>\n",
       "      <td>*GA</td>\n",
       "      <td>9.436200e+10</td>\n",
       "      <td>XBLNG</td>\n",
       "      <td>B2</td>\n",
       "    </tr>\n",
       "    <tr>\n",
       "      <th>2</th>\n",
       "      <td>589494</td>\n",
       "      <td>1195600.0</td>\n",
       "      <td>2016.0</td>\n",
       "      <td>4.0</td>\n",
       "      <td>148.0</td>\n",
       "      <td>112.0</td>\n",
       "      <td>OGG</td>\n",
       "      <td>20551.0</td>\n",
       "      <td>1.0</td>\n",
       "      <td>FL</td>\n",
       "      <td>20571.0</td>\n",
       "      <td>76.0</td>\n",
       "      <td>2.0</td>\n",
       "      <td>1.0</td>\n",
       "      <td>20160407</td>\n",
       "      <td>NaN</td>\n",
       "      <td>NaN</td>\n",
       "      <td>G</td>\n",
       "      <td>O</td>\n",
       "      <td>NaN</td>\n",
       "      <td>M</td>\n",
       "      <td>1940.0</td>\n",
       "      <td>07052016</td>\n",
       "      <td>M</td>\n",
       "      <td>NaN</td>\n",
       "      <td>LH</td>\n",
       "      <td>5.578047e+10</td>\n",
       "      <td>00464</td>\n",
       "      <td>WT</td>\n",
       "    </tr>\n",
       "    <tr>\n",
       "      <th>3</th>\n",
       "      <td>2631158</td>\n",
       "      <td>5291768.0</td>\n",
       "      <td>2016.0</td>\n",
       "      <td>4.0</td>\n",
       "      <td>297.0</td>\n",
       "      <td>297.0</td>\n",
       "      <td>LOS</td>\n",
       "      <td>20572.0</td>\n",
       "      <td>1.0</td>\n",
       "      <td>CA</td>\n",
       "      <td>20581.0</td>\n",
       "      <td>25.0</td>\n",
       "      <td>2.0</td>\n",
       "      <td>1.0</td>\n",
       "      <td>20160428</td>\n",
       "      <td>DOH</td>\n",
       "      <td>NaN</td>\n",
       "      <td>G</td>\n",
       "      <td>O</td>\n",
       "      <td>NaN</td>\n",
       "      <td>M</td>\n",
       "      <td>1991.0</td>\n",
       "      <td>10272016</td>\n",
       "      <td>M</td>\n",
       "      <td>NaN</td>\n",
       "      <td>QR</td>\n",
       "      <td>9.478970e+10</td>\n",
       "      <td>00739</td>\n",
       "      <td>B2</td>\n",
       "    </tr>\n",
       "    <tr>\n",
       "      <th>4</th>\n",
       "      <td>3032257</td>\n",
       "      <td>985523.0</td>\n",
       "      <td>2016.0</td>\n",
       "      <td>4.0</td>\n",
       "      <td>111.0</td>\n",
       "      <td>111.0</td>\n",
       "      <td>CHM</td>\n",
       "      <td>20550.0</td>\n",
       "      <td>3.0</td>\n",
       "      <td>NY</td>\n",
       "      <td>20553.0</td>\n",
       "      <td>19.0</td>\n",
       "      <td>2.0</td>\n",
       "      <td>1.0</td>\n",
       "      <td>20160406</td>\n",
       "      <td>NaN</td>\n",
       "      <td>NaN</td>\n",
       "      <td>Z</td>\n",
       "      <td>K</td>\n",
       "      <td>NaN</td>\n",
       "      <td>M</td>\n",
       "      <td>1997.0</td>\n",
       "      <td>07042016</td>\n",
       "      <td>F</td>\n",
       "      <td>NaN</td>\n",
       "      <td>NaN</td>\n",
       "      <td>4.232257e+10</td>\n",
       "      <td>LAND</td>\n",
       "      <td>WT</td>\n",
       "    </tr>\n",
       "  </tbody>\n",
       "</table>\n",
       "</div>"
      ],
      "text/plain": [
       "   Unnamed: 0      cicid   i94yr  i94mon  i94cit  i94res i94port  arrdate  \\\n",
       "0     2027561  4084316.0  2016.0     4.0   209.0   209.0     HHW  20566.0   \n",
       "1     2171295  4422636.0  2016.0     4.0   582.0   582.0     MCA  20567.0   \n",
       "2      589494  1195600.0  2016.0     4.0   148.0   112.0     OGG  20551.0   \n",
       "3     2631158  5291768.0  2016.0     4.0   297.0   297.0     LOS  20572.0   \n",
       "4     3032257   985523.0  2016.0     4.0   111.0   111.0     CHM  20550.0   \n",
       "\n",
       "   i94mode i94addr  depdate  i94bir  i94visa  count  dtadfile visapost occup  \\\n",
       "0      1.0      HI  20573.0    61.0      2.0    1.0  20160422      NaN   NaN   \n",
       "1      1.0      TX  20568.0    26.0      2.0    1.0  20160423      MTR   NaN   \n",
       "2      1.0      FL  20571.0    76.0      2.0    1.0  20160407      NaN   NaN   \n",
       "3      1.0      CA  20581.0    25.0      2.0    1.0  20160428      DOH   NaN   \n",
       "4      3.0      NY  20553.0    19.0      2.0    1.0  20160406      NaN   NaN   \n",
       "\n",
       "  entdepa entdepd  entdepu matflag  biryear   dtaddto gender  insnum airline  \\\n",
       "0       G       O      NaN       M   1955.0  07202016      F     NaN      JL   \n",
       "1       G       R      NaN       M   1990.0  10222016      M     NaN     *GA   \n",
       "2       G       O      NaN       M   1940.0  07052016      M     NaN      LH   \n",
       "3       G       O      NaN       M   1991.0  10272016      M     NaN      QR   \n",
       "4       Z       K      NaN       M   1997.0  07042016      F     NaN     NaN   \n",
       "\n",
       "         admnum  fltno visatype  \n",
       "0  5.658267e+10  00782       WT  \n",
       "1  9.436200e+10  XBLNG       B2  \n",
       "2  5.578047e+10  00464       WT  \n",
       "3  9.478970e+10  00739       B2  \n",
       "4  4.232257e+10   LAND       WT  "
      ]
     },
     "execution_count": 31,
     "metadata": {},
     "output_type": "execute_result"
    }
   ],
   "source": [
    "df_i = pd.read_csv('/home/felipe/Documentos/Udacity/Data Engineering Nanodegree/Udacity_final_project/data/immigration_data_sample.csv')\n",
    "df_i.head()"
   ]
  },
  {
   "cell_type": "code",
   "execution_count": 7,
   "metadata": {},
   "outputs": [
    {
     "data": {
      "text/plain": [
       "array([1955., 1990., 1940., 1991., 1997., 1965., 1968., 1983., 1977.,\n",
       "       1981., 2012., 1944., 1962., 1954., 1982., 1986., 1995., 1973.,\n",
       "       1970., 2002., 1976., 1975., 1994., 1952., 1999., 1974., 2000.,\n",
       "       1989., 1960., 1984., 2008., 1957., 1978., 2006., 1951., 1964.,\n",
       "       1985., 1958., 1950., 1988., 1948., 1972., 1987., 1980., 2004.,\n",
       "       1956., 1998., 1953., 1996., 1966., 1992., 2010., 1943., 1945.,\n",
       "       1969., 1979., 1967., 1938., 1961., 1963., 1947., 1993., 1936.,\n",
       "       2005., 1941., 1932., 1971., 1959., 1949., 2015., 1939., 1946.,\n",
       "       2011., 1928., 2013., 2001., 1933., 2003., 1935., 2014., 1923.,\n",
       "       2007., 1929., 1942., 1931.])"
      ]
     },
     "execution_count": 7,
     "metadata": {},
     "output_type": "execute_result"
    }
   ],
   "source": [
    "df_i.biryear.unique()"
   ]
  },
  {
   "cell_type": "code",
   "execution_count": 8,
   "metadata": {},
   "outputs": [
    {
     "data": {
      "text/plain": [
       "array([209., 582., 148., 297., 111., 577., 245., 113., 131., 116., 438.,\n",
       "       260., 512., 689., 746., 115., 251., 268., 129., 213., 135., 133.,\n",
       "       373., 126., 252., 696., 117., 687., 528., 123., 258., 691., 130.,\n",
       "       107., 103., 694., 254., 574., 368., 575., 586., 734., 514., 273.,\n",
       "       692., 109., 579., 164., 263., 464., 124., 602., 121., 162., 274.,\n",
       "       690., 207., 104., 525., 105., 343., 576., 585., 272., 108., 114.,\n",
       "       140., 180., 526., 603., 332., 513., 516., 218., 204., 296., 201.,\n",
       "       257., 266., 520., 718., 112., 261., 299., 688., 141., 350., 340.])"
      ]
     },
     "execution_count": 8,
     "metadata": {},
     "output_type": "execute_result"
    }
   ],
   "source": [
    "df_i.i94cit.unique()"
   ]
  },
  {
   "cell_type": "code",
   "execution_count": 4,
   "metadata": {},
   "outputs": [
    {
     "data": {
      "text/plain": [
       "array([4084316., 4422636., 1195600., 5291768.,  985523., 1481650.,\n",
       "       2197173.,  232708., 5227851.,   13213., 1230572., 5056736.,\n",
       "       2711583., 4916639., 1387607., 5960799., 1056530., 2466971.,\n",
       "       4668286., 2556646., 4042798., 2139030., 3097076., 2741251.,\n",
       "       2721962.,  513779., 3669540., 5070551., 2006623., 2826530.,\n",
       "       5692439., 5835717., 2752883.,  239999., 4805034., 6055103.,\n",
       "        216657., 2495693., 2929149., 4462449.,  800571.,  692716.,\n",
       "       5472659.,  999282., 2572618., 4269184.,  861557., 2863583.,\n",
       "       5973747., 4842142., 2955388., 1592228., 3108700., 5287221.,\n",
       "       4455709.,   36661., 2655122., 2873671., 2053392.,  450692.,\n",
       "       1840249., 4086972., 2686134., 4299497., 6030826., 3148387.,\n",
       "       1787495., 2522724., 3293058., 4507487., 3599863.,  832555.,\n",
       "       2351028., 4032526., 5418580.,  243918., 1186211., 4469436.,\n",
       "       5234881., 5957654., 4243216., 2324901., 1435383., 2887088.,\n",
       "       3335777., 1860945., 3371259., 1905596., 2138291., 1636545.,\n",
       "       5270355., 5695448., 5021687., 3681899.,   95870., 2653900.,\n",
       "       2002746.,  289809., 4969309., 3364934., 1843262., 6053964.,\n",
       "       2027276.,  650850., 2926213., 2892078., 4231176., 3172408.,\n",
       "       5044435., 5756066., 1028660.,  811826.,   13208., 2295923.,\n",
       "        935114., 5883463., 3178503., 5097572.,  680812., 5759722.,\n",
       "       1602004.,  267021., 3111179., 1643294., 3502393., 5008746.,\n",
       "       1346007., 4732257., 1093165., 2720247., 3652711., 3845208.,\n",
       "       2514747., 3686758., 5475279.,  975537., 3147418., 4865466.,\n",
       "       3898468., 3001596.,   80353., 5245089., 5979647., 4407381.,\n",
       "       4537062., 2301889., 1408683., 2161755.,   13826.,  660066.,\n",
       "       2369303.,  873857., 3814096.,  835775., 2914164., 5133426.,\n",
       "       4025365., 4255430., 2943425., 4709156., 1006905., 2859612.,\n",
       "         22388.,   17786., 3529728., 4499590., 1999678.,  475483.,\n",
       "       1389098., 5284360.,  354216., 5500240., 2870032.,   54324.,\n",
       "       5135218., 4406725., 2473547.,  688605., 1379698., 1396100.,\n",
       "       2711123., 3636229., 6058513., 2343856., 5492918., 4866976.,\n",
       "       3507228., 5913269., 4526989., 1496112., 5062245., 5016696.,\n",
       "       3106766., 2489526.,  687285., 4874583.,  512308., 4024419.,\n",
       "       3076465., 3475529., 1217552., 2353538., 3554693., 2023436.,\n",
       "       5032473., 4912411., 5014510., 2489005., 1936298.,  997142.,\n",
       "        864073., 5644410., 5881744., 2615091., 3649436.,   25478.,\n",
       "       1604063., 5000485., 5034128., 2755321., 5136021., 3664296.,\n",
       "        276351., 4876422., 5231114., 3123550.,  684429., 5488331.,\n",
       "        237254., 5278774., 5515091., 5469766., 5651108., 5454506.,\n",
       "       4806300.,  879820.,  834035.,  452796.,  513953., 3493719.,\n",
       "       2209495.,  847150., 2867437., 4560971.,   86265., 3639514.,\n",
       "       1147049., 5092679.,  224390., 4879567., 2175688., 2920807.,\n",
       "       4459037., 5901083., 6028314., 2913751., 5899181., 2368032.,\n",
       "       4741049., 5974385.,  235326.,  235947., 2305457., 2323011.,\n",
       "       4187631., 3898364.,   81344., 1362272., 4017499.,  696029.,\n",
       "        510204., 4348794., 1040289., 2509310., 2209111., 1347695.,\n",
       "       3722852., 5957963., 2735489., 2051330., 1046624., 5193362.,\n",
       "       4526006., 5483093., 4319371., 2573307., 4700630., 3661175.,\n",
       "       4210478., 1768810., 2751598., 3669469., 2013603., 4490715.,\n",
       "       3426228.,  255177.,  559860., 4167704., 4668071., 2903779.,\n",
       "       1216269., 4268549., 3140598., 2938927.,  287911., 2932211.,\n",
       "       3846710., 1540610., 1048108., 2378019., 5662583., 5826788.,\n",
       "       3859552.,  969559., 3476890., 1421234.,   48659., 3136802.,\n",
       "       5450392.,   61611., 2737342.,  445587., 1983761.,   45531.,\n",
       "       6019883., 5250382., 2487808., 4498036., 2572103., 1864244.,\n",
       "       2326063., 5927858., 4178297., 3861001., 4013399., 4098212.,\n",
       "       4338665., 5514177., 3898900., 3552753., 1782513., 1376054.,\n",
       "       5097840., 3726176., 1863656., 1776348., 5696484., 3813900.,\n",
       "        229043., 2137931., 2908117., 1803491., 4494327., 1143832.,\n",
       "       4267184., 1026490., 4487041., 1339481., 5693192., 3886754.,\n",
       "       1002291., 3905922., 1991822., 1046737., 3085571., 2011700.,\n",
       "       1173719.,  715185., 5963414., 2652805., 1858517., 6057910.,\n",
       "       5980604., 5653283., 4697112., 4116633.,  685207., 2053904.,\n",
       "       5243784., 3886516., 5074129., 4082575., 1851628., 3110964.,\n",
       "       5891340., 1553590., 1577711.,  867033., 2520663., 5710005.,\n",
       "       3542252., 5679004., 1649166., 2209939.,  467207., 5832309.,\n",
       "         86281., 5301075., 3866997.,  211561., 3334127., 1428778.,\n",
       "       1420768., 4547068.,  820045., 3112694., 2706307., 2955651.,\n",
       "        626444., 3442997., 5660225., 4885133., 5470326., 2319989.,\n",
       "       2720964., 1400880., 4038162., 2723913., 3914231., 5982639.,\n",
       "        982263., 1330915., 4842948., 3765424., 2568615., 1624057.,\n",
       "       4538779., 1826960., 2216875., 3859178., 5760102., 1195419.,\n",
       "        647849., 4505923.,   87211., 3543377., 5951265., 2346741.,\n",
       "       5500649., 3891814., 6045611., 2165928., 1817106., 4338296.,\n",
       "        701007., 2683469., 4525494., 4745361., 2371488., 3551626.,\n",
       "       4916874., 4800385., 2901425., 2378775., 1999393., 1393049.,\n",
       "       3145084., 4251217., 3172891.,  284782., 4913166., 1181033.,\n",
       "       3481574., 3547150., 4877203., 1553520., 2195092., 3064434.,\n",
       "       2147566., 1803405., 4054245., 2477529., 3549552., 2635148.,\n",
       "       5210254., 1422091., 5665973., 5956950., 1401034., 3682251.,\n",
       "       4698239., 2258431., 3155905.,  641842., 4406370., 6019750.,\n",
       "       4877171., 3343735., 5206051., 4702607., 1034637., 4321597.,\n",
       "       5342910., 1583932., 4518344.,  691843., 2758683., 5415601.,\n",
       "       5472156., 5484369., 2865828.,  211301., 2759806., 5517803.,\n",
       "         19751.,  624009., 4116830., 1195982., 1498315., 4913292.,\n",
       "       3865265., 3385048., 5698234., 4616564., 5703109., 2424686.,\n",
       "       2168671., 1170620., 1351033., 3341644., 2762951.,  714371.,\n",
       "       1413332., 3530227., 1020076., 2679743., 3253815., 4866124.,\n",
       "       1636523.,  838246., 1960284.,  485199., 1600731., 4317940.,\n",
       "       1921440., 3811781., 3599914., 1434452.,  494733., 2038184.,\n",
       "       2865787., 2107301., 5688796.,  852513., 5516452.,  261165.,\n",
       "       5293311., 2902077.,   38637.,  157256., 1606014., 3849271.,\n",
       "       4718538., 4909999., 5428448., 2161628., 5029772., 1564821.,\n",
       "       4337016., 1977165., 3174311., 2897919., 2869687., 5451416.,\n",
       "        630827., 2139998., 3141666., 4030833., 3380572., 4522231.,\n",
       "       4289482.,  636324., 2048872., 2933588., 3331441., 2307913.,\n",
       "       4756602., 3155478.,  243257.,  862818., 6009632., 1570667.,\n",
       "       4248046., 3300843., 1036934., 5750198., 2906098., 4243068.,\n",
       "       5273693.,  253555.,   48878.,  509225., 3959662., 4236787.,\n",
       "       5827765.,  471394., 1848870., 2025435., 3910822., 3888676.,\n",
       "       3299598., 5252852., 2511828.,  523239., 1809655., 5020014.,\n",
       "       5655662., 4698964., 5072687., 5133973.,  751810., 3095246.,\n",
       "       1390539.,  266409., 1231815.,  499578., 1969525., 5252446.,\n",
       "         54317., 2690389.,   45157., 5771544., 2292245., 1794308.,\n",
       "        293362., 2734662., 5963522., 1346274., 3640076., 1721456.,\n",
       "       5653917., 1232357.,   54229., 1345803.,  652881., 2469865.,\n",
       "       3115632., 4718122., 1566033., 5886229., 3179870.,  699077.,\n",
       "        824863., 5678526.,  352846.,  298424., 4851069., 5961217.,\n",
       "       3507607., 1383491.,  867234., 4625869., 5032769., 3139866.,\n",
       "       1334404., 5979347., 5640026., 2658696., 5250285., 1695849.,\n",
       "       5638801., 3655992., 4804280., 5021720., 2907046.,   32582.,\n",
       "       3656427., 1025877., 1345422., 2308338., 1170649.,  878052.,\n",
       "       5999391.,  442028., 3517920.,  257403., 5516418., 4116530.,\n",
       "        263870., 6061994., 5902022., 1349112., 2656268., 5064157.,\n",
       "       4552209., 5757922., 4718060.,  751451., 2340245., 1648938.,\n",
       "        480428., 5827717.,   56107., 3503887., 6034994., 2051443.,\n",
       "       4231640., 1870573., 3543194., 3106819., 2372111., 1331768.,\n",
       "        155381., 5011988., 1053226., 6055844., 2814946.,  840431.,\n",
       "       5020169., 2330915., 2496533.,  169126., 3119472., 1794581.,\n",
       "       1793960., 2293512., 4903433., 1583343., 3636527., 4340220.,\n",
       "       3675104., 2142356., 3859815., 2187824., 2892590., 3108923.,\n",
       "       5835261., 5974788., 3135817., 1278563., 1975402., 6034750.,\n",
       "        823410., 5430874., 4489534., 5026709., 5441846.,  275285.,\n",
       "       5687991.,  514906., 2327918., 3838865., 5965743., 5206668.,\n",
       "       5285085., 4711317., 3434626.,  682147., 3069265., 1044320.,\n",
       "       3854905.,  697792., 6027626.,  215616., 3330175., 2011996.,\n",
       "       5471104., 2763068., 3098965., 2948769.,  289649.,  813390.,\n",
       "       3071228., 2956283., 2882086., 1560415., 4893326., 2006895.,\n",
       "       3697368., 1964434.,   67523., 2512913., 3326716.,  751491.,\n",
       "       5591745., 2884981., 5882487.,   56519., 3017841.,  502445.,\n",
       "       5253767.,  994837., 3291050., 5643776.,   91889., 5429441.,\n",
       "       3652390., 4899947., 4291831., 1782990., 4051263., 4106787.,\n",
       "       2021799., 4078254., 2023167.,  442884., 1577932., 4471633.,\n",
       "       2693162., 5081528., 2673594., 1714703., 1182448.,  712131.,\n",
       "       4749124., 4456287., 5834016., 1333584., 4737343.,  561992.,\n",
       "       5724253., 1344231., 4489316., 3869924., 4729596., 3900131.,\n",
       "       1193133., 3907700., 5226618., 5892575., 3292986., 4168875.,\n",
       "       3162474.,  662899., 4525560., 5069811., 2468972.,  858814.,\n",
       "        621527., 2318687., 3352680.,  431930., 2810765., 5248600.,\n",
       "       3661015., 3863510.,  247003., 5418335., 5928244., 1051236.,\n",
       "       5295362., 2928372., 5714054., 2486203., 5246711., 4344944.,\n",
       "        628369., 1037028.,  982461., 4865286., 5411783., 5270782.,\n",
       "       4273827.,  886260., 1006956., 1214788., 2320039., 3837135.,\n",
       "       1163269.,  264030., 2758084., 5365953.,  888522., 2007033.,\n",
       "       2884459., 1366324., 1772879.,   18310.,  934333., 5402467.,\n",
       "       2369222., 5714501., 2876316., 2497179., 1799852., 3083727.,\n",
       "       5680234., 1632631.,  594975., 6046172., 3826085.,  428602.,\n",
       "       4753503.,   34343., 3835875., 2167869., 3548734.,  642558.,\n",
       "       3652687., 3360046.,   32221., 4300706., 1215382., 6057882.,\n",
       "       4511860.,   80898., 3387259.,  991350., 1040218., 1232307.,\n",
       "       3425763., 2933080., 5516628., 2362315., 1598903., 5713141.,\n",
       "       5735642., 5673587., 4882428., 2546113., 5731122., 2709302.,\n",
       "       1225506.,  435495., 5512209., 1364080., 5292921., 2496521.,\n",
       "       4739992.,  706970., 5762766., 5002887., 4541593., 5707240.,\n",
       "       4043656., 2859914.,  307397., 1760330., 3506997., 3029600.,\n",
       "        873211., 4302956., 5429364.,  252362., 5743519., 3481453.,\n",
       "        446046., 2751431., 1211380.,  441018., 2825582., 3078710.,\n",
       "        852702., 5724005., 1016822., 5928085., 2479583., 3484147.,\n",
       "       2012102., 5446642., 1369267., 5015059., 5258247., 3477144.,\n",
       "       4693164., 3468375., 5358837., 5646741., 3079773., 2916461.,\n",
       "       3535501., 5433584., 2756515., 1984857.,  692088., 3501748.,\n",
       "       2557045.,  674661.,  499823., 2536368., 1185184., 4889422.,\n",
       "       1032729., 4687494., 3870400., 1355619., 5018908., 4853913.,\n",
       "       3691189., 1000074., 5746779., 3187040., 2302459., 1481945.,\n",
       "       3133114., 5510883., 5518986.,  306972., 1407986., 1360834.,\n",
       "       5242730., 1777652., 3874218.,  930868., 5081809., 4288772.,\n",
       "       2947585., 2883298., 2264857., 4654865.])"
      ]
     },
     "execution_count": 4,
     "metadata": {},
     "output_type": "execute_result"
    }
   ],
   "source": [
    "df_i.cicid.unique()"
   ]
  },
  {
   "cell_type": "code",
   "execution_count": 15,
   "metadata": {},
   "outputs": [
    {
     "data": {
      "text/html": [
       "<div>\n",
       "<style scoped>\n",
       "    .dataframe tbody tr th:only-of-type {\n",
       "        vertical-align: middle;\n",
       "    }\n",
       "\n",
       "    .dataframe tbody tr th {\n",
       "        vertical-align: top;\n",
       "    }\n",
       "\n",
       "    .dataframe thead th {\n",
       "        text-align: right;\n",
       "    }\n",
       "</style>\n",
       "<table border=\"1\" class=\"dataframe\">\n",
       "  <thead>\n",
       "    <tr style=\"text-align: right;\">\n",
       "      <th></th>\n",
       "      <th>Unnamed: 0</th>\n",
       "      <th>cicid</th>\n",
       "      <th>i94yr</th>\n",
       "      <th>i94mon</th>\n",
       "      <th>i94cit</th>\n",
       "      <th>i94res</th>\n",
       "      <th>i94port</th>\n",
       "      <th>arrdate</th>\n",
       "      <th>i94mode</th>\n",
       "      <th>i94addr</th>\n",
       "      <th>depdate</th>\n",
       "      <th>i94bir</th>\n",
       "      <th>i94visa</th>\n",
       "      <th>count</th>\n",
       "      <th>dtadfile</th>\n",
       "      <th>visapost</th>\n",
       "      <th>occup</th>\n",
       "      <th>entdepa</th>\n",
       "      <th>entdepd</th>\n",
       "      <th>entdepu</th>\n",
       "      <th>matflag</th>\n",
       "      <th>biryear</th>\n",
       "      <th>dtaddto</th>\n",
       "      <th>gender</th>\n",
       "      <th>insnum</th>\n",
       "      <th>airline</th>\n",
       "      <th>admnum</th>\n",
       "      <th>fltno</th>\n",
       "      <th>visatype</th>\n",
       "    </tr>\n",
       "  </thead>\n",
       "  <tbody>\n",
       "    <tr>\n",
       "      <th>15</th>\n",
       "      <td>2938436</td>\n",
       "      <td>5960799.0</td>\n",
       "      <td>2016.0</td>\n",
       "      <td>4.0</td>\n",
       "      <td>245.0</td>\n",
       "      <td>245.0</td>\n",
       "      <td>SAI</td>\n",
       "      <td>20545.0</td>\n",
       "      <td>1.0</td>\n",
       "      <td>NaN</td>\n",
       "      <td>20550.0</td>\n",
       "      <td>30.0</td>\n",
       "      <td>2.0</td>\n",
       "      <td>1.0</td>\n",
       "      <td>20160615</td>\n",
       "      <td>NaN</td>\n",
       "      <td>NaN</td>\n",
       "      <td>P</td>\n",
       "      <td>D</td>\n",
       "      <td>NaN</td>\n",
       "      <td>M</td>\n",
       "      <td>1986.0</td>\n",
       "      <td>04132016</td>\n",
       "      <td>M</td>\n",
       "      <td>3882.0</td>\n",
       "      <td>MU</td>\n",
       "      <td>4.416258e+10</td>\n",
       "      <td>00763</td>\n",
       "      <td>CP</td>\n",
       "    </tr>\n",
       "    <tr>\n",
       "      <th>35</th>\n",
       "      <td>3020206</td>\n",
       "      <td>6055103.0</td>\n",
       "      <td>2016.0</td>\n",
       "      <td>4.0</td>\n",
       "      <td>252.0</td>\n",
       "      <td>209.0</td>\n",
       "      <td>AGA</td>\n",
       "      <td>20572.0</td>\n",
       "      <td>1.0</td>\n",
       "      <td>GU</td>\n",
       "      <td>20577.0</td>\n",
       "      <td>27.0</td>\n",
       "      <td>2.0</td>\n",
       "      <td>1.0</td>\n",
       "      <td>20160801</td>\n",
       "      <td>NaN</td>\n",
       "      <td>NaN</td>\n",
       "      <td>A</td>\n",
       "      <td>D</td>\n",
       "      <td>NaN</td>\n",
       "      <td>M</td>\n",
       "      <td>1989.0</td>\n",
       "      <td>06112016</td>\n",
       "      <td>M</td>\n",
       "      <td>3943.0</td>\n",
       "      <td>TW</td>\n",
       "      <td>5.109649e+10</td>\n",
       "      <td>00311</td>\n",
       "      <td>GMT</td>\n",
       "    </tr>\n",
       "    <tr>\n",
       "      <th>48</th>\n",
       "      <td>2951108</td>\n",
       "      <td>5973747.0</td>\n",
       "      <td>2016.0</td>\n",
       "      <td>4.0</td>\n",
       "      <td>252.0</td>\n",
       "      <td>209.0</td>\n",
       "      <td>SAI</td>\n",
       "      <td>20552.0</td>\n",
       "      <td>1.0</td>\n",
       "      <td>NaN</td>\n",
       "      <td>20554.0</td>\n",
       "      <td>65.0</td>\n",
       "      <td>2.0</td>\n",
       "      <td>1.0</td>\n",
       "      <td>20160615</td>\n",
       "      <td>NaN</td>\n",
       "      <td>NaN</td>\n",
       "      <td>A</td>\n",
       "      <td>D</td>\n",
       "      <td>NaN</td>\n",
       "      <td>M</td>\n",
       "      <td>1951.0</td>\n",
       "      <td>05222016</td>\n",
       "      <td>M</td>\n",
       "      <td>3971.0</td>\n",
       "      <td>DL</td>\n",
       "      <td>4.729111e+10</td>\n",
       "      <td>00298</td>\n",
       "      <td>GMT</td>\n",
       "    </tr>\n",
       "    <tr>\n",
       "      <th>79</th>\n",
       "      <td>2937355</td>\n",
       "      <td>5957654.0</td>\n",
       "      <td>2016.0</td>\n",
       "      <td>4.0</td>\n",
       "      <td>254.0</td>\n",
       "      <td>276.0</td>\n",
       "      <td>SAI</td>\n",
       "      <td>20556.0</td>\n",
       "      <td>1.0</td>\n",
       "      <td>GU</td>\n",
       "      <td>NaN</td>\n",
       "      <td>20.0</td>\n",
       "      <td>2.0</td>\n",
       "      <td>1.0</td>\n",
       "      <td>20160610</td>\n",
       "      <td>NaN</td>\n",
       "      <td>NaN</td>\n",
       "      <td>A</td>\n",
       "      <td>NaN</td>\n",
       "      <td>NaN</td>\n",
       "      <td>NaN</td>\n",
       "      <td>1996.0</td>\n",
       "      <td>05262016</td>\n",
       "      <td>M</td>\n",
       "      <td>3993.0</td>\n",
       "      <td>7C</td>\n",
       "      <td>4.511468e+10</td>\n",
       "      <td>03404</td>\n",
       "      <td>GMT</td>\n",
       "    </tr>\n",
       "    <tr>\n",
       "      <th>101</th>\n",
       "      <td>3019076</td>\n",
       "      <td>6053964.0</td>\n",
       "      <td>2016.0</td>\n",
       "      <td>4.0</td>\n",
       "      <td>252.0</td>\n",
       "      <td>209.0</td>\n",
       "      <td>AGA</td>\n",
       "      <td>20546.0</td>\n",
       "      <td>1.0</td>\n",
       "      <td>GU</td>\n",
       "      <td>20583.0</td>\n",
       "      <td>6.0</td>\n",
       "      <td>2.0</td>\n",
       "      <td>1.0</td>\n",
       "      <td>20160801</td>\n",
       "      <td>NaN</td>\n",
       "      <td>NaN</td>\n",
       "      <td>A</td>\n",
       "      <td>D</td>\n",
       "      <td>NaN</td>\n",
       "      <td>M</td>\n",
       "      <td>2010.0</td>\n",
       "      <td>06152016</td>\n",
       "      <td>M</td>\n",
       "      <td>3691.0</td>\n",
       "      <td>JL</td>\n",
       "      <td>5.752208e+10</td>\n",
       "      <td>00473</td>\n",
       "      <td>GMT</td>\n",
       "    </tr>\n",
       "  </tbody>\n",
       "</table>\n",
       "</div>"
      ],
      "text/plain": [
       "     Unnamed: 0      cicid   i94yr  i94mon  i94cit  i94res i94port  arrdate  \\\n",
       "15      2938436  5960799.0  2016.0     4.0   245.0   245.0     SAI  20545.0   \n",
       "35      3020206  6055103.0  2016.0     4.0   252.0   209.0     AGA  20572.0   \n",
       "48      2951108  5973747.0  2016.0     4.0   252.0   209.0     SAI  20552.0   \n",
       "79      2937355  5957654.0  2016.0     4.0   254.0   276.0     SAI  20556.0   \n",
       "101     3019076  6053964.0  2016.0     4.0   252.0   209.0     AGA  20546.0   \n",
       "\n",
       "     i94mode i94addr  depdate  i94bir  i94visa  count  dtadfile visapost  \\\n",
       "15       1.0     NaN  20550.0    30.0      2.0    1.0  20160615      NaN   \n",
       "35       1.0      GU  20577.0    27.0      2.0    1.0  20160801      NaN   \n",
       "48       1.0     NaN  20554.0    65.0      2.0    1.0  20160615      NaN   \n",
       "79       1.0      GU      NaN    20.0      2.0    1.0  20160610      NaN   \n",
       "101      1.0      GU  20583.0     6.0      2.0    1.0  20160801      NaN   \n",
       "\n",
       "    occup entdepa entdepd  entdepu matflag  biryear   dtaddto gender  insnum  \\\n",
       "15    NaN       P       D      NaN       M   1986.0  04132016      M  3882.0   \n",
       "35    NaN       A       D      NaN       M   1989.0  06112016      M  3943.0   \n",
       "48    NaN       A       D      NaN       M   1951.0  05222016      M  3971.0   \n",
       "79    NaN       A     NaN      NaN     NaN   1996.0  05262016      M  3993.0   \n",
       "101   NaN       A       D      NaN       M   2010.0  06152016      M  3691.0   \n",
       "\n",
       "    airline        admnum  fltno visatype  \n",
       "15       MU  4.416258e+10  00763       CP  \n",
       "35       TW  5.109649e+10  00311      GMT  \n",
       "48       DL  4.729111e+10  00298      GMT  \n",
       "79       7C  4.511468e+10  03404      GMT  \n",
       "101      JL  5.752208e+10  00473      GMT  "
      ]
     },
     "execution_count": 15,
     "metadata": {},
     "output_type": "execute_result"
    }
   ],
   "source": [
    "df_i[~df_i['insnum'].isnull()].head(5)"
   ]
  },
  {
   "cell_type": "code",
   "execution_count": 8,
   "metadata": {},
   "outputs": [
    {
     "data": {
      "text/plain": [
       "Index(['Unnamed: 0', 'cicid', 'i94yr', 'i94mon', 'i94cit', 'i94res', 'i94port',\n",
       "       'arrdate', 'i94mode', 'i94addr', 'depdate', 'i94bir', 'i94visa',\n",
       "       'count', 'dtadfile', 'visapost', 'occup', 'entdepa', 'entdepd',\n",
       "       'entdepu', 'matflag', 'biryear', 'dtaddto', 'gender', 'insnum',\n",
       "       'airline', 'admnum', 'fltno', 'visatype'],\n",
       "      dtype='object')"
      ]
     },
     "execution_count": 8,
     "metadata": {},
     "output_type": "execute_result"
    }
   ],
   "source": [
    "df_i.columns"
   ]
  },
  {
   "cell_type": "code",
   "execution_count": 10,
   "metadata": {},
   "outputs": [
    {
     "name": "stdout",
     "output_type": "stream",
     "text": [
      "<class 'pandas.core.frame.DataFrame'>\n",
      "RangeIndex: 1000 entries, 0 to 999\n",
      "Data columns (total 29 columns):\n",
      " #   Column      Non-Null Count  Dtype  \n",
      "---  ------      --------------  -----  \n",
      " 0   Unnamed: 0  1000 non-null   int64  \n",
      " 1   cicid       1000 non-null   float64\n",
      " 2   i94yr       1000 non-null   float64\n",
      " 3   i94mon      1000 non-null   float64\n",
      " 4   i94cit      1000 non-null   float64\n",
      " 5   i94res      1000 non-null   float64\n",
      " 6   i94port     1000 non-null   object \n",
      " 7   arrdate     1000 non-null   float64\n",
      " 8   i94mode     1000 non-null   float64\n",
      " 9   i94addr     941 non-null    object \n",
      " 10  depdate     951 non-null    float64\n",
      " 11  i94bir      1000 non-null   float64\n",
      " 12  i94visa     1000 non-null   float64\n",
      " 13  count       1000 non-null   float64\n",
      " 14  dtadfile    1000 non-null   int64  \n",
      " 15  visapost    382 non-null    object \n",
      " 16  occup       4 non-null      object \n",
      " 17  entdepa     1000 non-null   object \n",
      " 18  entdepd     954 non-null    object \n",
      " 19  entdepu     0 non-null      float64\n",
      " 20  matflag     954 non-null    object \n",
      " 21  biryear     1000 non-null   float64\n",
      " 22  dtaddto     1000 non-null   object \n",
      " 23  gender      859 non-null    object \n",
      " 24  insnum      35 non-null     float64\n",
      " 25  airline     967 non-null    object \n",
      " 26  admnum      1000 non-null   float64\n",
      " 27  fltno       992 non-null    object \n",
      " 28  visatype    1000 non-null   object \n",
      "dtypes: float64(15), int64(2), object(12)\n",
      "memory usage: 226.7+ KB\n"
     ]
    }
   ],
   "source": [
    "df_i.info()"
   ]
  },
  {
   "attachments": {},
   "cell_type": "markdown",
   "metadata": {},
   "source": [
    "When we take a look at the columns `count` and `cicid` to check for unique values and duplicates we can see that the `cicid` column can be used as key for information of imigrant dimension table."
   ]
  },
  {
   "cell_type": "code",
   "execution_count": 5,
   "metadata": {},
   "outputs": [
    {
     "data": {
      "text/plain": [
       "array([1.])"
      ]
     },
     "execution_count": 5,
     "metadata": {},
     "output_type": "execute_result"
    }
   ],
   "source": [
    "df_i['count'].unique()"
   ]
  },
  {
   "cell_type": "code",
   "execution_count": 7,
   "metadata": {},
   "outputs": [
    {
     "data": {
      "text/plain": [
       "cicid\n",
       "6061994.0    1\n",
       "6058513.0    1\n",
       "6057910.0    1\n",
       "6057882.0    1\n",
       "6055844.0    1\n",
       "            ..\n",
       "18310.0      1\n",
       "17786.0      1\n",
       "13826.0      1\n",
       "13213.0      1\n",
       "13208.0      1\n",
       "Name: cicid, Length: 1000, dtype: int64"
      ]
     },
     "execution_count": 7,
     "metadata": {},
     "output_type": "execute_result"
    }
   ],
   "source": [
    "df_i.groupby(['cicid'])['cicid'].count().sort_index(ascending=False)"
   ]
  },
  {
   "cell_type": "code",
   "execution_count": 10,
   "metadata": {},
   "outputs": [
    {
     "data": {
      "text/plain": [
       "Unnamed: 0\n",
       "3095749    1\n",
       "3091119    1\n",
       "3089516    1\n",
       "3089082    1\n",
       "3087594    1\n",
       "          ..\n",
       "15053      1\n",
       "14575      1\n",
       "11328      1\n",
       "10930      1\n",
       "10925      1\n",
       "Name: Unnamed: 0, Length: 1000, dtype: int64"
      ]
     },
     "execution_count": 10,
     "metadata": {},
     "output_type": "execute_result"
    }
   ],
   "source": [
    "df_i.groupby(['Unnamed: 0'])['Unnamed: 0'].count().sort_index(ascending=False)"
   ]
  },
  {
   "cell_type": "code",
   "execution_count": 6,
   "metadata": {},
   "outputs": [
    {
     "data": {
      "text/plain": [
       "array([nan, 'STU', 'PHA', 'OTH'], dtype=object)"
      ]
     },
     "execution_count": 6,
     "metadata": {},
     "output_type": "execute_result"
    }
   ],
   "source": [
    "df_i.occup.unique()"
   ]
  },
  {
   "cell_type": "code",
   "execution_count": 7,
   "metadata": {},
   "outputs": [
    {
     "data": {
      "text/plain": [
       "array(['G', 'Z', 'T', 'O', 'P', 'A', 'K', 'U', 'H'], dtype=object)"
      ]
     },
     "execution_count": 7,
     "metadata": {},
     "output_type": "execute_result"
    }
   ],
   "source": [
    "df_i.entdepa.unique()"
   ]
  },
  {
   "cell_type": "code",
   "execution_count": 8,
   "metadata": {},
   "outputs": [
    {
     "data": {
      "text/plain": [
       "array(['O', 'R', 'K', 'N', 'D', nan, 'I', 'Q', 'J', 'W', 'L'],\n",
       "      dtype=object)"
      ]
     },
     "execution_count": 8,
     "metadata": {},
     "output_type": "execute_result"
    }
   ],
   "source": [
    "df_i.entdepd.unique()"
   ]
  },
  {
   "cell_type": "code",
   "execution_count": 10,
   "metadata": {},
   "outputs": [
    {
     "data": {
      "text/plain": [
       "array(['M', nan], dtype=object)"
      ]
     },
     "execution_count": 10,
     "metadata": {},
     "output_type": "execute_result"
    }
   ],
   "source": [
    "df_i.matflag.unique()"
   ]
  },
  {
   "cell_type": "code",
   "execution_count": 11,
   "metadata": {},
   "outputs": [
    {
     "data": {
      "text/plain": [
       "array([nan, 'MTR', 'DOH', 'MNL', 'NSS', 'MOS', 'TLV', 'MDR', 'MEX', 'IST',\n",
       "       'CPT', 'CRS', 'DUB', 'SPL', 'BNS', 'BEJ', 'TGG', 'RDJ', 'CLG',\n",
       "       'NWD', 'BGT', 'KRK', 'VNN', 'LMA', 'CRO', 'SNJ', 'GUZ', 'KNG',\n",
       "       'BEN', 'KLL', 'QTO', 'CHE', 'GTM', 'SGP', 'BRA', 'HYD', 'MNG',\n",
       "       'SHG', 'SAR', 'BNK', 'BMB', 'ACK', 'WRW', 'NVL', 'PRM', 'KEV',\n",
       "       'TAI', 'DHK', 'JDD', 'SPT', 'SAJ', 'SOF', 'SNS', 'VAC', 'SDO',\n",
       "       'KWT', 'GDL', 'SNT', 'CHN', 'GEO', 'ABU', 'BGN', 'RCF', 'PTS',\n",
       "       'GYQ', 'NCS', 'RID', 'SYD', 'MTM', 'JAK', 'ABD', 'KRC', 'PHP',\n",
       "       'MER', 'LND', 'PRS', 'KDU', 'MST', 'RME', 'SEO', 'JRS', 'HNK',\n",
       "       'RNG', 'CDJ', 'ULN', 'ISL', 'LPZ', 'KHT', 'ANK', 'CSB', 'LGS',\n",
       "       'FRN', 'NRB', 'CUS', 'PTP', 'VIL', 'TKY', 'HML'], dtype=object)"
      ]
     },
     "execution_count": 11,
     "metadata": {},
     "output_type": "execute_result"
    }
   ],
   "source": [
    "df_i.visapost.unique()"
   ]
  },
  {
   "cell_type": "code",
   "execution_count": 8,
   "metadata": {},
   "outputs": [
    {
     "name": "stdout",
     "output_type": "stream",
     "text": [
      "20545.0\n",
      "20574.0\n"
     ]
    }
   ],
   "source": [
    "print(df_i.arrdate.min())\n",
    "print(df_i.arrdate.max())"
   ]
  },
  {
   "cell_type": "code",
   "execution_count": 9,
   "metadata": {},
   "outputs": [
    {
     "data": {
      "text/plain": [
       "array([nan, 'STU', 'PHA', 'OTH'], dtype=object)"
      ]
     },
     "execution_count": 9,
     "metadata": {},
     "output_type": "execute_result"
    }
   ],
   "source": [
    "df_i.occup.unique()"
   ]
  },
  {
   "cell_type": "code",
   "execution_count": 10,
   "metadata": {},
   "outputs": [
    {
     "data": {
      "text/plain": [
       "array([nan])"
      ]
     },
     "execution_count": 10,
     "metadata": {},
     "output_type": "execute_result"
    }
   ],
   "source": [
    "df_i.entdepu.unique()"
   ]
  },
  {
   "cell_type": "code",
   "execution_count": 11,
   "metadata": {},
   "outputs": [
    {
     "data": {
      "text/plain": [
       "array([  nan, 3882., 3943., 3971., 3993., 3691., 3693., 3979., 3468.,\n",
       "       3969., 3668., 3517., 3895., 3940., 3954., 3982., 3663., 3930.,\n",
       "       4686., 3661., 3872., 3887., 3703., 3941., 3682., 3675., 3934.,\n",
       "       3890., 3576., 3980.])"
      ]
     },
     "execution_count": 11,
     "metadata": {},
     "output_type": "execute_result"
    }
   ],
   "source": [
    "df_i.insnum.unique()"
   ]
  },
  {
   "attachments": {},
   "cell_type": "markdown",
   "metadata": {},
   "source": [
    "## `airport-codes_csv.csv`"
   ]
  },
  {
   "cell_type": "code",
   "execution_count": 3,
   "metadata": {},
   "outputs": [
    {
     "data": {
      "text/html": [
       "<div>\n",
       "<style scoped>\n",
       "    .dataframe tbody tr th:only-of-type {\n",
       "        vertical-align: middle;\n",
       "    }\n",
       "\n",
       "    .dataframe tbody tr th {\n",
       "        vertical-align: top;\n",
       "    }\n",
       "\n",
       "    .dataframe thead th {\n",
       "        text-align: right;\n",
       "    }\n",
       "</style>\n",
       "<table border=\"1\" class=\"dataframe\">\n",
       "  <thead>\n",
       "    <tr style=\"text-align: right;\">\n",
       "      <th></th>\n",
       "      <th>ident</th>\n",
       "      <th>type</th>\n",
       "      <th>name</th>\n",
       "      <th>elevation_ft</th>\n",
       "      <th>continent</th>\n",
       "      <th>iso_country</th>\n",
       "      <th>iso_region</th>\n",
       "      <th>municipality</th>\n",
       "      <th>gps_code</th>\n",
       "      <th>iata_code</th>\n",
       "      <th>local_code</th>\n",
       "      <th>coordinates</th>\n",
       "    </tr>\n",
       "  </thead>\n",
       "  <tbody>\n",
       "    <tr>\n",
       "      <th>0</th>\n",
       "      <td>00A</td>\n",
       "      <td>heliport</td>\n",
       "      <td>Total Rf Heliport</td>\n",
       "      <td>11.0</td>\n",
       "      <td>NaN</td>\n",
       "      <td>US</td>\n",
       "      <td>US-PA</td>\n",
       "      <td>Bensalem</td>\n",
       "      <td>00A</td>\n",
       "      <td>NaN</td>\n",
       "      <td>00A</td>\n",
       "      <td>-74.93360137939453, 40.07080078125</td>\n",
       "    </tr>\n",
       "    <tr>\n",
       "      <th>1</th>\n",
       "      <td>00AA</td>\n",
       "      <td>small_airport</td>\n",
       "      <td>Aero B Ranch Airport</td>\n",
       "      <td>3435.0</td>\n",
       "      <td>NaN</td>\n",
       "      <td>US</td>\n",
       "      <td>US-KS</td>\n",
       "      <td>Leoti</td>\n",
       "      <td>00AA</td>\n",
       "      <td>NaN</td>\n",
       "      <td>00AA</td>\n",
       "      <td>-101.473911, 38.704022</td>\n",
       "    </tr>\n",
       "    <tr>\n",
       "      <th>2</th>\n",
       "      <td>00AK</td>\n",
       "      <td>small_airport</td>\n",
       "      <td>Lowell Field</td>\n",
       "      <td>450.0</td>\n",
       "      <td>NaN</td>\n",
       "      <td>US</td>\n",
       "      <td>US-AK</td>\n",
       "      <td>Anchor Point</td>\n",
       "      <td>00AK</td>\n",
       "      <td>NaN</td>\n",
       "      <td>00AK</td>\n",
       "      <td>-151.695999146, 59.94919968</td>\n",
       "    </tr>\n",
       "    <tr>\n",
       "      <th>3</th>\n",
       "      <td>00AL</td>\n",
       "      <td>small_airport</td>\n",
       "      <td>Epps Airpark</td>\n",
       "      <td>820.0</td>\n",
       "      <td>NaN</td>\n",
       "      <td>US</td>\n",
       "      <td>US-AL</td>\n",
       "      <td>Harvest</td>\n",
       "      <td>00AL</td>\n",
       "      <td>NaN</td>\n",
       "      <td>00AL</td>\n",
       "      <td>-86.77030181884766, 34.86479949951172</td>\n",
       "    </tr>\n",
       "    <tr>\n",
       "      <th>4</th>\n",
       "      <td>00AR</td>\n",
       "      <td>closed</td>\n",
       "      <td>Newport Hospital &amp; Clinic Heliport</td>\n",
       "      <td>237.0</td>\n",
       "      <td>NaN</td>\n",
       "      <td>US</td>\n",
       "      <td>US-AR</td>\n",
       "      <td>Newport</td>\n",
       "      <td>NaN</td>\n",
       "      <td>NaN</td>\n",
       "      <td>NaN</td>\n",
       "      <td>-91.254898, 35.6087</td>\n",
       "    </tr>\n",
       "  </tbody>\n",
       "</table>\n",
       "</div>"
      ],
      "text/plain": [
       "  ident           type                                name  elevation_ft  \\\n",
       "0   00A       heliport                   Total Rf Heliport          11.0   \n",
       "1  00AA  small_airport                Aero B Ranch Airport        3435.0   \n",
       "2  00AK  small_airport                        Lowell Field         450.0   \n",
       "3  00AL  small_airport                        Epps Airpark         820.0   \n",
       "4  00AR         closed  Newport Hospital & Clinic Heliport         237.0   \n",
       "\n",
       "  continent iso_country iso_region  municipality gps_code iata_code  \\\n",
       "0       NaN          US      US-PA      Bensalem      00A       NaN   \n",
       "1       NaN          US      US-KS         Leoti     00AA       NaN   \n",
       "2       NaN          US      US-AK  Anchor Point     00AK       NaN   \n",
       "3       NaN          US      US-AL       Harvest     00AL       NaN   \n",
       "4       NaN          US      US-AR       Newport      NaN       NaN   \n",
       "\n",
       "  local_code                            coordinates  \n",
       "0        00A     -74.93360137939453, 40.07080078125  \n",
       "1       00AA                 -101.473911, 38.704022  \n",
       "2       00AK            -151.695999146, 59.94919968  \n",
       "3       00AL  -86.77030181884766, 34.86479949951172  \n",
       "4        NaN                    -91.254898, 35.6087  "
      ]
     },
     "execution_count": 3,
     "metadata": {},
     "output_type": "execute_result"
    }
   ],
   "source": [
    "df_a = pd.read_csv('/home/felipe/Documentos/Udacity/Data Engineering Nanodegree/Udacity_final_project/data/airport-codes_csv.csv')\n",
    "df_a.head()"
   ]
  },
  {
   "cell_type": "code",
   "execution_count": 4,
   "metadata": {},
   "outputs": [
    {
     "data": {
      "text/plain": [
       "9043"
      ]
     },
     "execution_count": 4,
     "metadata": {},
     "output_type": "execute_result"
    }
   ],
   "source": [
    "len(df_a.iata_code.unique())"
   ]
  },
  {
   "cell_type": "code",
   "execution_count": 5,
   "metadata": {},
   "outputs": [
    {
     "data": {
      "text/plain": [
       "array([nan, 'OC', 'AF', 'AN', 'EU', 'AS', 'SA'], dtype=object)"
      ]
     },
     "execution_count": 5,
     "metadata": {},
     "output_type": "execute_result"
    }
   ],
   "source": [
    "df_a.continent.unique()"
   ]
  },
  {
   "cell_type": "code",
   "execution_count": 6,
   "metadata": {},
   "outputs": [
    {
     "data": {
      "text/plain": [
       "array(['00A', '00AA', '00AK', ..., 'FAWT', 'ZEN', 'ZNC'], dtype=object)"
      ]
     },
     "execution_count": 6,
     "metadata": {},
     "output_type": "execute_result"
    }
   ],
   "source": [
    "df_a.local_code.unique()"
   ]
  },
  {
   "cell_type": "code",
   "execution_count": 7,
   "metadata": {},
   "outputs": [
    {
     "data": {
      "text/html": [
       "<div>\n",
       "<style scoped>\n",
       "    .dataframe tbody tr th:only-of-type {\n",
       "        vertical-align: middle;\n",
       "    }\n",
       "\n",
       "    .dataframe tbody tr th {\n",
       "        vertical-align: top;\n",
       "    }\n",
       "\n",
       "    .dataframe thead th {\n",
       "        text-align: right;\n",
       "    }\n",
       "</style>\n",
       "<table border=\"1\" class=\"dataframe\">\n",
       "  <thead>\n",
       "    <tr style=\"text-align: right;\">\n",
       "      <th></th>\n",
       "      <th>ident</th>\n",
       "      <th>type</th>\n",
       "      <th>name</th>\n",
       "      <th>elevation_ft</th>\n",
       "      <th>continent</th>\n",
       "      <th>iso_country</th>\n",
       "      <th>iso_region</th>\n",
       "      <th>municipality</th>\n",
       "      <th>gps_code</th>\n",
       "      <th>iata_code</th>\n",
       "      <th>local_code</th>\n",
       "      <th>coordinates</th>\n",
       "    </tr>\n",
       "  </thead>\n",
       "  <tbody>\n",
       "    <tr>\n",
       "      <th>22740</th>\n",
       "      <td>GUMA</td>\n",
       "      <td>small_airport</td>\n",
       "      <td>Macenta Airport</td>\n",
       "      <td>1690.0</td>\n",
       "      <td>AF</td>\n",
       "      <td>GN</td>\n",
       "      <td>GN-N</td>\n",
       "      <td>Macenta</td>\n",
       "      <td>GUMA</td>\n",
       "      <td>MCA</td>\n",
       "      <td>NaN</td>\n",
       "      <td>-9.525071, 8.481857</td>\n",
       "    </tr>\n",
       "  </tbody>\n",
       "</table>\n",
       "</div>"
      ],
      "text/plain": [
       "      ident           type             name  elevation_ft continent  \\\n",
       "22740  GUMA  small_airport  Macenta Airport        1690.0        AF   \n",
       "\n",
       "      iso_country iso_region municipality gps_code iata_code local_code  \\\n",
       "22740          GN       GN-N      Macenta     GUMA       MCA        NaN   \n",
       "\n",
       "               coordinates  \n",
       "22740  -9.525071, 8.481857  "
      ]
     },
     "execution_count": 7,
     "metadata": {},
     "output_type": "execute_result"
    }
   ],
   "source": [
    "df_a[df_a['iata_code'] == 'MCA']"
   ]
  },
  {
   "cell_type": "code",
   "execution_count": 8,
   "metadata": {},
   "outputs": [
    {
     "data": {
      "text/plain": [
       "array(['heliport', 'small_airport', 'closed', 'seaplane_base',\n",
       "       'balloonport', 'medium_airport', 'large_airport'], dtype=object)"
      ]
     },
     "execution_count": 8,
     "metadata": {},
     "output_type": "execute_result"
    }
   ],
   "source": [
    "df_a.type.unique()"
   ]
  },
  {
   "attachments": {},
   "cell_type": "markdown",
   "metadata": {},
   "source": [
    "In case we choose to use the `iata_code` as a key, we should pay attention to duplicate records."
   ]
  },
  {
   "cell_type": "code",
   "execution_count": 9,
   "metadata": {},
   "outputs": [
    {
     "data": {
      "text/plain": [
       "iata_code\n",
       "0      80\n",
       "OHE     3\n",
       "PRI     3\n",
       "BCK     2\n",
       "CLG     2\n",
       "       ..\n",
       "HMA     1\n",
       "HLZ     1\n",
       "HLW     1\n",
       "HLV     1\n",
       "ZZV     1\n",
       "Name: iata_code, Length: 9042, dtype: int64"
      ]
     },
     "execution_count": 9,
     "metadata": {},
     "output_type": "execute_result"
    }
   ],
   "source": [
    "df_a.groupby('iata_code')['iata_code'].count().sort_values(ascending=False)"
   ]
  },
  {
   "cell_type": "code",
   "execution_count": 10,
   "metadata": {},
   "outputs": [
    {
     "data": {
      "text/html": [
       "<div>\n",
       "<style scoped>\n",
       "    .dataframe tbody tr th:only-of-type {\n",
       "        vertical-align: middle;\n",
       "    }\n",
       "\n",
       "    .dataframe tbody tr th {\n",
       "        vertical-align: top;\n",
       "    }\n",
       "\n",
       "    .dataframe thead th {\n",
       "        text-align: right;\n",
       "    }\n",
       "</style>\n",
       "<table border=\"1\" class=\"dataframe\">\n",
       "  <thead>\n",
       "    <tr style=\"text-align: right;\">\n",
       "      <th></th>\n",
       "      <th>ident</th>\n",
       "      <th>type</th>\n",
       "      <th>name</th>\n",
       "      <th>elevation_ft</th>\n",
       "      <th>continent</th>\n",
       "      <th>iso_country</th>\n",
       "      <th>iso_region</th>\n",
       "      <th>municipality</th>\n",
       "      <th>gps_code</th>\n",
       "      <th>iata_code</th>\n",
       "      <th>local_code</th>\n",
       "      <th>coordinates</th>\n",
       "    </tr>\n",
       "  </thead>\n",
       "  <tbody>\n",
       "    <tr>\n",
       "      <th>15089</th>\n",
       "      <td>CN-0011</td>\n",
       "      <td>closed</td>\n",
       "      <td>[Duplicate] Gu-Lian Airport</td>\n",
       "      <td>1836.0</td>\n",
       "      <td>AS</td>\n",
       "      <td>CN</td>\n",
       "      <td>CN-23</td>\n",
       "      <td>Mohe</td>\n",
       "      <td>ZYMH</td>\n",
       "      <td>OHE</td>\n",
       "      <td>NaN</td>\n",
       "      <td>122.427768, 52.913917</td>\n",
       "    </tr>\n",
       "    <tr>\n",
       "      <th>37384</th>\n",
       "      <td>OHE</td>\n",
       "      <td>closed</td>\n",
       "      <td>[Duplicate] Gu-Lian Airport</td>\n",
       "      <td>1836.0</td>\n",
       "      <td>AS</td>\n",
       "      <td>CN</td>\n",
       "      <td>CN-23</td>\n",
       "      <td>Mohe</td>\n",
       "      <td>ZYMH</td>\n",
       "      <td>OHE</td>\n",
       "      <td>NaN</td>\n",
       "      <td>122.429056, 52.913244</td>\n",
       "    </tr>\n",
       "    <tr>\n",
       "      <th>55062</th>\n",
       "      <td>ZYMH</td>\n",
       "      <td>medium_airport</td>\n",
       "      <td>Gu-Lian Airport</td>\n",
       "      <td>1836.0</td>\n",
       "      <td>AS</td>\n",
       "      <td>CN</td>\n",
       "      <td>CN-23</td>\n",
       "      <td>Mohe</td>\n",
       "      <td>ZYMH</td>\n",
       "      <td>OHE</td>\n",
       "      <td>NaN</td>\n",
       "      <td>122.43, 52.912777777799995</td>\n",
       "    </tr>\n",
       "  </tbody>\n",
       "</table>\n",
       "</div>"
      ],
      "text/plain": [
       "         ident            type                         name  elevation_ft  \\\n",
       "15089  CN-0011          closed  [Duplicate] Gu-Lian Airport        1836.0   \n",
       "37384      OHE          closed  [Duplicate] Gu-Lian Airport        1836.0   \n",
       "55062     ZYMH  medium_airport              Gu-Lian Airport        1836.0   \n",
       "\n",
       "      continent iso_country iso_region municipality gps_code iata_code  \\\n",
       "15089        AS          CN      CN-23         Mohe     ZYMH       OHE   \n",
       "37384        AS          CN      CN-23         Mohe     ZYMH       OHE   \n",
       "55062        AS          CN      CN-23         Mohe     ZYMH       OHE   \n",
       "\n",
       "      local_code                 coordinates  \n",
       "15089        NaN       122.427768, 52.913917  \n",
       "37384        NaN       122.429056, 52.913244  \n",
       "55062        NaN  122.43, 52.912777777799995  "
      ]
     },
     "execution_count": 10,
     "metadata": {},
     "output_type": "execute_result"
    }
   ],
   "source": [
    "df_a[df_a['iata_code'] == 'OHE']"
   ]
  },
  {
   "attachments": {},
   "cell_type": "markdown",
   "metadata": {},
   "source": [
    "Even though we get only the airports with type other than 'closed' we will still face duplicate records."
   ]
  },
  {
   "cell_type": "code",
   "execution_count": 11,
   "metadata": {},
   "outputs": [
    {
     "data": {
      "text/plain": [
       "iata_code\n",
       "0      80\n",
       "RCH     2\n",
       "LPE     2\n",
       "MRE     2\n",
       "PRM     2\n",
       "       ..\n",
       "HLT     1\n",
       "HLS     1\n",
       "HLR     1\n",
       "HLP     1\n",
       "ZZV     1\n",
       "Name: iata_code, Length: 8798, dtype: int64"
      ]
     },
     "execution_count": 11,
     "metadata": {},
     "output_type": "execute_result"
    }
   ],
   "source": [
    "df_a[df_a['type'] != 'closed'].groupby('iata_code')['iata_code'].count().sort_values(ascending=False)"
   ]
  },
  {
   "cell_type": "code",
   "execution_count": 12,
   "metadata": {},
   "outputs": [
    {
     "data": {
      "text/html": [
       "<div>\n",
       "<style scoped>\n",
       "    .dataframe tbody tr th:only-of-type {\n",
       "        vertical-align: middle;\n",
       "    }\n",
       "\n",
       "    .dataframe tbody tr th {\n",
       "        vertical-align: top;\n",
       "    }\n",
       "\n",
       "    .dataframe thead th {\n",
       "        text-align: right;\n",
       "    }\n",
       "</style>\n",
       "<table border=\"1\" class=\"dataframe\">\n",
       "  <thead>\n",
       "    <tr style=\"text-align: right;\">\n",
       "      <th></th>\n",
       "      <th>ident</th>\n",
       "      <th>type</th>\n",
       "      <th>name</th>\n",
       "      <th>elevation_ft</th>\n",
       "      <th>continent</th>\n",
       "      <th>iso_country</th>\n",
       "      <th>iso_region</th>\n",
       "      <th>municipality</th>\n",
       "      <th>gps_code</th>\n",
       "      <th>iata_code</th>\n",
       "      <th>local_code</th>\n",
       "      <th>coordinates</th>\n",
       "    </tr>\n",
       "  </thead>\n",
       "  <tbody>\n",
       "    <tr>\n",
       "      <th>44593</th>\n",
       "      <td>SKRH</td>\n",
       "      <td>medium_airport</td>\n",
       "      <td>Almirante Padilla Airport</td>\n",
       "      <td>43.0</td>\n",
       "      <td>SA</td>\n",
       "      <td>CO</td>\n",
       "      <td>CO-LAG</td>\n",
       "      <td>Riohacha</td>\n",
       "      <td>SKRH</td>\n",
       "      <td>RCH</td>\n",
       "      <td>RCH</td>\n",
       "      <td>-72.926, 11.5262</td>\n",
       "    </tr>\n",
       "    <tr>\n",
       "      <th>50421</th>\n",
       "      <td>UY-0002</td>\n",
       "      <td>small_airport</td>\n",
       "      <td>Rocha Airport</td>\n",
       "      <td>91.0</td>\n",
       "      <td>SA</td>\n",
       "      <td>UY</td>\n",
       "      <td>UY-RO</td>\n",
       "      <td>Rocha</td>\n",
       "      <td>NaN</td>\n",
       "      <td>RCH</td>\n",
       "      <td>NaN</td>\n",
       "      <td>-54.27989959716797, -34.47809982299805</td>\n",
       "    </tr>\n",
       "  </tbody>\n",
       "</table>\n",
       "</div>"
      ],
      "text/plain": [
       "         ident            type                       name  elevation_ft  \\\n",
       "44593     SKRH  medium_airport  Almirante Padilla Airport          43.0   \n",
       "50421  UY-0002   small_airport              Rocha Airport          91.0   \n",
       "\n",
       "      continent iso_country iso_region municipality gps_code iata_code  \\\n",
       "44593        SA          CO     CO-LAG     Riohacha     SKRH       RCH   \n",
       "50421        SA          UY      UY-RO        Rocha      NaN       RCH   \n",
       "\n",
       "      local_code                             coordinates  \n",
       "44593        RCH                        -72.926, 11.5262  \n",
       "50421        NaN  -54.27989959716797, -34.47809982299805  "
      ]
     },
     "execution_count": 12,
     "metadata": {},
     "output_type": "execute_result"
    }
   ],
   "source": [
    "df_a[df_a['iata_code'] == 'RCH']"
   ]
  },
  {
   "attachments": {},
   "cell_type": "markdown",
   "metadata": {},
   "source": [
    "Looking for airports with more then one `iata_code`."
   ]
  },
  {
   "cell_type": "code",
   "execution_count": 13,
   "metadata": {},
   "outputs": [
    {
     "data": {
      "text/html": [
       "<div>\n",
       "<style scoped>\n",
       "    .dataframe tbody tr th:only-of-type {\n",
       "        vertical-align: middle;\n",
       "    }\n",
       "\n",
       "    .dataframe tbody tr th {\n",
       "        vertical-align: top;\n",
       "    }\n",
       "\n",
       "    .dataframe thead th {\n",
       "        text-align: right;\n",
       "    }\n",
       "</style>\n",
       "<table border=\"1\" class=\"dataframe\">\n",
       "  <thead>\n",
       "    <tr style=\"text-align: right;\">\n",
       "      <th></th>\n",
       "      <th>iata_code</th>\n",
       "      <th>name</th>\n",
       "    </tr>\n",
       "  </thead>\n",
       "  <tbody>\n",
       "    <tr>\n",
       "      <th>0</th>\n",
       "      <td>0</td>\n",
       "      <td>80</td>\n",
       "    </tr>\n",
       "    <tr>\n",
       "      <th>1</th>\n",
       "      <td>OHE</td>\n",
       "      <td>3</td>\n",
       "    </tr>\n",
       "    <tr>\n",
       "      <th>2</th>\n",
       "      <td>PRI</td>\n",
       "      <td>3</td>\n",
       "    </tr>\n",
       "    <tr>\n",
       "      <th>3</th>\n",
       "      <td>BCK</td>\n",
       "      <td>2</td>\n",
       "    </tr>\n",
       "    <tr>\n",
       "      <th>4</th>\n",
       "      <td>CLG</td>\n",
       "      <td>2</td>\n",
       "    </tr>\n",
       "  </tbody>\n",
       "</table>\n",
       "</div>"
      ],
      "text/plain": [
       "  iata_code  name\n",
       "0         0    80\n",
       "1       OHE     3\n",
       "2       PRI     3\n",
       "3       BCK     2\n",
       "4       CLG     2"
      ]
     },
     "execution_count": 13,
     "metadata": {},
     "output_type": "execute_result"
    }
   ],
   "source": [
    "df_a1 = df_a[~df_a['iata_code'].isnull()].groupby('iata_code')['name'].count().sort_values(ascending=False).reset_index()\n",
    "df_a1.head()"
   ]
  },
  {
   "cell_type": "code",
   "execution_count": 14,
   "metadata": {},
   "outputs": [
    {
     "data": {
      "text/html": [
       "<div>\n",
       "<style scoped>\n",
       "    .dataframe tbody tr th:only-of-type {\n",
       "        vertical-align: middle;\n",
       "    }\n",
       "\n",
       "    .dataframe tbody tr th {\n",
       "        vertical-align: top;\n",
       "    }\n",
       "\n",
       "    .dataframe thead th {\n",
       "        text-align: right;\n",
       "    }\n",
       "</style>\n",
       "<table border=\"1\" class=\"dataframe\">\n",
       "  <thead>\n",
       "    <tr style=\"text-align: right;\">\n",
       "      <th></th>\n",
       "      <th>iata_code</th>\n",
       "      <th>name</th>\n",
       "    </tr>\n",
       "  </thead>\n",
       "  <tbody>\n",
       "    <tr>\n",
       "      <th>0</th>\n",
       "      <td>0</td>\n",
       "      <td>80</td>\n",
       "    </tr>\n",
       "    <tr>\n",
       "      <th>1</th>\n",
       "      <td>OHE</td>\n",
       "      <td>3</td>\n",
       "    </tr>\n",
       "    <tr>\n",
       "      <th>2</th>\n",
       "      <td>PRI</td>\n",
       "      <td>3</td>\n",
       "    </tr>\n",
       "    <tr>\n",
       "      <th>3</th>\n",
       "      <td>BCK</td>\n",
       "      <td>2</td>\n",
       "    </tr>\n",
       "    <tr>\n",
       "      <th>4</th>\n",
       "      <td>CLG</td>\n",
       "      <td>2</td>\n",
       "    </tr>\n",
       "  </tbody>\n",
       "</table>\n",
       "</div>"
      ],
      "text/plain": [
       "  iata_code  name\n",
       "0         0    80\n",
       "1       OHE     3\n",
       "2       PRI     3\n",
       "3       BCK     2\n",
       "4       CLG     2"
      ]
     },
     "execution_count": 14,
     "metadata": {},
     "output_type": "execute_result"
    }
   ],
   "source": [
    "df_a2 = df_a1[df_a1['name'] >1]\n",
    "df_a2.head()"
   ]
  },
  {
   "attachments": {},
   "cell_type": "markdown",
   "metadata": {},
   "source": [
    "We will have to remove `iata_code` = 0."
   ]
  },
  {
   "cell_type": "code",
   "execution_count": 15,
   "metadata": {},
   "outputs": [
    {
     "data": {
      "text/html": [
       "<div>\n",
       "<style scoped>\n",
       "    .dataframe tbody tr th:only-of-type {\n",
       "        vertical-align: middle;\n",
       "    }\n",
       "\n",
       "    .dataframe tbody tr th {\n",
       "        vertical-align: top;\n",
       "    }\n",
       "\n",
       "    .dataframe thead th {\n",
       "        text-align: right;\n",
       "    }\n",
       "</style>\n",
       "<table border=\"1\" class=\"dataframe\">\n",
       "  <thead>\n",
       "    <tr style=\"text-align: right;\">\n",
       "      <th></th>\n",
       "      <th>iata_code</th>\n",
       "      <th>name</th>\n",
       "    </tr>\n",
       "  </thead>\n",
       "  <tbody>\n",
       "    <tr>\n",
       "      <th>1</th>\n",
       "      <td>OHE</td>\n",
       "      <td>3</td>\n",
       "    </tr>\n",
       "    <tr>\n",
       "      <th>2</th>\n",
       "      <td>PRI</td>\n",
       "      <td>3</td>\n",
       "    </tr>\n",
       "    <tr>\n",
       "      <th>3</th>\n",
       "      <td>BCK</td>\n",
       "      <td>2</td>\n",
       "    </tr>\n",
       "    <tr>\n",
       "      <th>4</th>\n",
       "      <td>CLG</td>\n",
       "      <td>2</td>\n",
       "    </tr>\n",
       "    <tr>\n",
       "      <th>5</th>\n",
       "      <td>RTI</td>\n",
       "      <td>2</td>\n",
       "    </tr>\n",
       "  </tbody>\n",
       "</table>\n",
       "</div>"
      ],
      "text/plain": [
       "  iata_code  name\n",
       "1       OHE     3\n",
       "2       PRI     3\n",
       "3       BCK     2\n",
       "4       CLG     2\n",
       "5       RTI     2"
      ]
     },
     "execution_count": 15,
     "metadata": {},
     "output_type": "execute_result"
    }
   ],
   "source": [
    "df_a3 = df_a2[df_a2['iata_code'] != '0']\n",
    "df_a3.head()"
   ]
  },
  {
   "attachments": {},
   "cell_type": "markdown",
   "metadata": {},
   "source": [
    "List containing all duplicate `iata_codes`."
   ]
  },
  {
   "cell_type": "code",
   "execution_count": 16,
   "metadata": {},
   "outputs": [],
   "source": [
    "dup_iata = df_a3.iata_code.to_list()"
   ]
  },
  {
   "attachments": {},
   "cell_type": "markdown",
   "metadata": {},
   "source": [
    "Looking at the registers below we can see some airport names with the prefix \"\\[Duplicate]\" in the `name` column."
   ]
  },
  {
   "cell_type": "code",
   "execution_count": 17,
   "metadata": {},
   "outputs": [
    {
     "data": {
      "text/html": [
       "<div>\n",
       "<style scoped>\n",
       "    .dataframe tbody tr th:only-of-type {\n",
       "        vertical-align: middle;\n",
       "    }\n",
       "\n",
       "    .dataframe tbody tr th {\n",
       "        vertical-align: top;\n",
       "    }\n",
       "\n",
       "    .dataframe thead th {\n",
       "        text-align: right;\n",
       "    }\n",
       "</style>\n",
       "<table border=\"1\" class=\"dataframe\">\n",
       "  <thead>\n",
       "    <tr style=\"text-align: right;\">\n",
       "      <th></th>\n",
       "      <th>ident</th>\n",
       "      <th>type</th>\n",
       "      <th>name</th>\n",
       "      <th>elevation_ft</th>\n",
       "      <th>continent</th>\n",
       "      <th>iso_country</th>\n",
       "      <th>iso_region</th>\n",
       "      <th>municipality</th>\n",
       "      <th>gps_code</th>\n",
       "      <th>iata_code</th>\n",
       "      <th>local_code</th>\n",
       "      <th>coordinates</th>\n",
       "    </tr>\n",
       "  </thead>\n",
       "  <tbody>\n",
       "    <tr>\n",
       "      <th>15089</th>\n",
       "      <td>CN-0011</td>\n",
       "      <td>closed</td>\n",
       "      <td>[Duplicate] Gu-Lian Airport</td>\n",
       "      <td>1836.0</td>\n",
       "      <td>AS</td>\n",
       "      <td>CN</td>\n",
       "      <td>CN-23</td>\n",
       "      <td>Mohe</td>\n",
       "      <td>ZYMH</td>\n",
       "      <td>OHE</td>\n",
       "      <td>NaN</td>\n",
       "      <td>122.427768, 52.913917</td>\n",
       "    </tr>\n",
       "    <tr>\n",
       "      <th>37384</th>\n",
       "      <td>OHE</td>\n",
       "      <td>closed</td>\n",
       "      <td>[Duplicate] Gu-Lian Airport</td>\n",
       "      <td>1836.0</td>\n",
       "      <td>AS</td>\n",
       "      <td>CN</td>\n",
       "      <td>CN-23</td>\n",
       "      <td>Mohe</td>\n",
       "      <td>ZYMH</td>\n",
       "      <td>OHE</td>\n",
       "      <td>NaN</td>\n",
       "      <td>122.429056, 52.913244</td>\n",
       "    </tr>\n",
       "    <tr>\n",
       "      <th>55062</th>\n",
       "      <td>ZYMH</td>\n",
       "      <td>medium_airport</td>\n",
       "      <td>Gu-Lian Airport</td>\n",
       "      <td>1836.0</td>\n",
       "      <td>AS</td>\n",
       "      <td>CN</td>\n",
       "      <td>CN-23</td>\n",
       "      <td>Mohe</td>\n",
       "      <td>ZYMH</td>\n",
       "      <td>OHE</td>\n",
       "      <td>NaN</td>\n",
       "      <td>122.43, 52.912777777799995</td>\n",
       "    </tr>\n",
       "  </tbody>\n",
       "</table>\n",
       "</div>"
      ],
      "text/plain": [
       "         ident            type                         name  elevation_ft  \\\n",
       "15089  CN-0011          closed  [Duplicate] Gu-Lian Airport        1836.0   \n",
       "37384      OHE          closed  [Duplicate] Gu-Lian Airport        1836.0   \n",
       "55062     ZYMH  medium_airport              Gu-Lian Airport        1836.0   \n",
       "\n",
       "      continent iso_country iso_region municipality gps_code iata_code  \\\n",
       "15089        AS          CN      CN-23         Mohe     ZYMH       OHE   \n",
       "37384        AS          CN      CN-23         Mohe     ZYMH       OHE   \n",
       "55062        AS          CN      CN-23         Mohe     ZYMH       OHE   \n",
       "\n",
       "      local_code                 coordinates  \n",
       "15089        NaN       122.427768, 52.913917  \n",
       "37384        NaN       122.429056, 52.913244  \n",
       "55062        NaN  122.43, 52.912777777799995  "
      ]
     },
     "execution_count": 17,
     "metadata": {},
     "output_type": "execute_result"
    }
   ],
   "source": [
    "df_a[df_a['iata_code'] == 'OHE']"
   ]
  },
  {
   "attachments": {},
   "cell_type": "markdown",
   "metadata": {},
   "source": [
    "So, we need to check if all the iata codes in dup_iata list behaves the same way."
   ]
  },
  {
   "cell_type": "code",
   "execution_count": 18,
   "metadata": {},
   "outputs": [
    {
     "data": {
      "text/plain": [
       "66"
      ]
     },
     "execution_count": 18,
     "metadata": {},
     "output_type": "execute_result"
    }
   ],
   "source": [
    "# 66 cases....\n",
    "len(dup_iata)"
   ]
  },
  {
   "attachments": {},
   "cell_type": "markdown",
   "metadata": {},
   "source": [
    "Filtering all duplicated names."
   ]
  },
  {
   "cell_type": "code",
   "execution_count": 19,
   "metadata": {},
   "outputs": [
    {
     "data": {
      "text/html": [
       "<div>\n",
       "<style scoped>\n",
       "    .dataframe tbody tr th:only-of-type {\n",
       "        vertical-align: middle;\n",
       "    }\n",
       "\n",
       "    .dataframe tbody tr th {\n",
       "        vertical-align: top;\n",
       "    }\n",
       "\n",
       "    .dataframe thead th {\n",
       "        text-align: right;\n",
       "    }\n",
       "</style>\n",
       "<table border=\"1\" class=\"dataframe\">\n",
       "  <thead>\n",
       "    <tr style=\"text-align: right;\">\n",
       "      <th></th>\n",
       "      <th>ident</th>\n",
       "      <th>type</th>\n",
       "      <th>name</th>\n",
       "      <th>elevation_ft</th>\n",
       "      <th>continent</th>\n",
       "      <th>iso_country</th>\n",
       "      <th>iso_region</th>\n",
       "      <th>municipality</th>\n",
       "      <th>gps_code</th>\n",
       "      <th>iata_code</th>\n",
       "      <th>local_code</th>\n",
       "      <th>coordinates</th>\n",
       "    </tr>\n",
       "  </thead>\n",
       "  <tbody>\n",
       "    <tr>\n",
       "      <th>2331</th>\n",
       "      <td>1W5</td>\n",
       "      <td>closed</td>\n",
       "      <td>[Duplicate] Hoby Wolf Airport</td>\n",
       "      <td>600.0</td>\n",
       "      <td>NaN</td>\n",
       "      <td>US</td>\n",
       "      <td>US-MD</td>\n",
       "      <td>Eldersburg</td>\n",
       "      <td>1W5</td>\n",
       "      <td>NaN</td>\n",
       "      <td>1W5</td>\n",
       "      <td>-76.9274978638, 39.4079017639</td>\n",
       "    </tr>\n",
       "    <tr>\n",
       "      <th>4191</th>\n",
       "      <td>3C5</td>\n",
       "      <td>closed</td>\n",
       "      <td>[Duplicate] Wheeler Airport</td>\n",
       "      <td>720.0</td>\n",
       "      <td>NaN</td>\n",
       "      <td>US</td>\n",
       "      <td>US-IN</td>\n",
       "      <td>Knox</td>\n",
       "      <td>3C5</td>\n",
       "      <td>NaN</td>\n",
       "      <td>3C5</td>\n",
       "      <td>-86.60700225830001, 41.1898002625</td>\n",
       "    </tr>\n",
       "    <tr>\n",
       "      <th>10769</th>\n",
       "      <td>AR-0006</td>\n",
       "      <td>closed</td>\n",
       "      <td>[Duplicate] Brigadier Hector Ruiz Airport</td>\n",
       "      <td>228.0</td>\n",
       "      <td>SA</td>\n",
       "      <td>AR</td>\n",
       "      <td>AR-B</td>\n",
       "      <td>Coronel Suarez</td>\n",
       "      <td>NaN</td>\n",
       "      <td>CSZ</td>\n",
       "      <td>NaN</td>\n",
       "      <td>-61.8833007812, -37.4333000183</td>\n",
       "    </tr>\n",
       "    <tr>\n",
       "      <th>11564</th>\n",
       "      <td>AU-0051</td>\n",
       "      <td>closed</td>\n",
       "      <td>[Duplicate] Baralaba</td>\n",
       "      <td>340.0</td>\n",
       "      <td>OC</td>\n",
       "      <td>AU</td>\n",
       "      <td>AU-QLD</td>\n",
       "      <td>Baralaba</td>\n",
       "      <td>YBAB</td>\n",
       "      <td>NaN</td>\n",
       "      <td>NaN</td>\n",
       "      <td>149.843166, -24.19357</td>\n",
       "    </tr>\n",
       "    <tr>\n",
       "      <th>11637</th>\n",
       "      <td>AU-BCK</td>\n",
       "      <td>closed</td>\n",
       "      <td>[Duplicate] Bolwarra Airport</td>\n",
       "      <td>NaN</td>\n",
       "      <td>OC</td>\n",
       "      <td>AU</td>\n",
       "      <td>AU-QLD</td>\n",
       "      <td>Bolwarra</td>\n",
       "      <td>NaN</td>\n",
       "      <td>BCK</td>\n",
       "      <td>NaN</td>\n",
       "      <td>144.169006348, -17.388299942</td>\n",
       "    </tr>\n",
       "  </tbody>\n",
       "</table>\n",
       "</div>"
      ],
      "text/plain": [
       "         ident    type                                       name  \\\n",
       "2331       1W5  closed              [Duplicate] Hoby Wolf Airport   \n",
       "4191       3C5  closed                [Duplicate] Wheeler Airport   \n",
       "10769  AR-0006  closed  [Duplicate] Brigadier Hector Ruiz Airport   \n",
       "11564  AU-0051  closed                       [Duplicate] Baralaba   \n",
       "11637   AU-BCK  closed               [Duplicate] Bolwarra Airport   \n",
       "\n",
       "       elevation_ft continent iso_country iso_region    municipality gps_code  \\\n",
       "2331          600.0       NaN          US      US-MD      Eldersburg      1W5   \n",
       "4191          720.0       NaN          US      US-IN            Knox      3C5   \n",
       "10769         228.0        SA          AR       AR-B  Coronel Suarez      NaN   \n",
       "11564         340.0        OC          AU     AU-QLD        Baralaba     YBAB   \n",
       "11637           NaN        OC          AU     AU-QLD        Bolwarra      NaN   \n",
       "\n",
       "      iata_code local_code                        coordinates  \n",
       "2331        NaN        1W5      -76.9274978638, 39.4079017639  \n",
       "4191        NaN        3C5  -86.60700225830001, 41.1898002625  \n",
       "10769       CSZ        NaN     -61.8833007812, -37.4333000183  \n",
       "11564       NaN        NaN              149.843166, -24.19357  \n",
       "11637       BCK        NaN       144.169006348, -17.388299942  "
      ]
     },
     "execution_count": 19,
     "metadata": {},
     "output_type": "execute_result"
    }
   ],
   "source": [
    "df_a_dup = df_a[df_a['name'].str.startswith('[Duplicate]')]\n",
    "df_a_dup.head()"
   ]
  },
  {
   "attachments": {},
   "cell_type": "markdown",
   "metadata": {},
   "source": [
    "Removing the ones where iata_code is null."
   ]
  },
  {
   "cell_type": "code",
   "execution_count": 20,
   "metadata": {},
   "outputs": [
    {
     "data": {
      "text/html": [
       "<div>\n",
       "<style scoped>\n",
       "    .dataframe tbody tr th:only-of-type {\n",
       "        vertical-align: middle;\n",
       "    }\n",
       "\n",
       "    .dataframe tbody tr th {\n",
       "        vertical-align: top;\n",
       "    }\n",
       "\n",
       "    .dataframe thead th {\n",
       "        text-align: right;\n",
       "    }\n",
       "</style>\n",
       "<table border=\"1\" class=\"dataframe\">\n",
       "  <thead>\n",
       "    <tr style=\"text-align: right;\">\n",
       "      <th></th>\n",
       "      <th>ident</th>\n",
       "      <th>type</th>\n",
       "      <th>name</th>\n",
       "      <th>elevation_ft</th>\n",
       "      <th>continent</th>\n",
       "      <th>iso_country</th>\n",
       "      <th>iso_region</th>\n",
       "      <th>municipality</th>\n",
       "      <th>gps_code</th>\n",
       "      <th>iata_code</th>\n",
       "      <th>local_code</th>\n",
       "      <th>coordinates</th>\n",
       "    </tr>\n",
       "  </thead>\n",
       "  <tbody>\n",
       "    <tr>\n",
       "      <th>10769</th>\n",
       "      <td>AR-0006</td>\n",
       "      <td>closed</td>\n",
       "      <td>[Duplicate] Brigadier Hector Ruiz Airport</td>\n",
       "      <td>228.0</td>\n",
       "      <td>SA</td>\n",
       "      <td>AR</td>\n",
       "      <td>AR-B</td>\n",
       "      <td>Coronel Suarez</td>\n",
       "      <td>NaN</td>\n",
       "      <td>CSZ</td>\n",
       "      <td>NaN</td>\n",
       "      <td>-61.8833007812, -37.4333000183</td>\n",
       "    </tr>\n",
       "    <tr>\n",
       "      <th>11637</th>\n",
       "      <td>AU-BCK</td>\n",
       "      <td>closed</td>\n",
       "      <td>[Duplicate] Bolwarra Airport</td>\n",
       "      <td>NaN</td>\n",
       "      <td>OC</td>\n",
       "      <td>AU</td>\n",
       "      <td>AU-QLD</td>\n",
       "      <td>Bolwarra</td>\n",
       "      <td>NaN</td>\n",
       "      <td>BCK</td>\n",
       "      <td>NaN</td>\n",
       "      <td>144.169006348, -17.388299942</td>\n",
       "    </tr>\n",
       "    <tr>\n",
       "      <th>11638</th>\n",
       "      <td>AU-BFC</td>\n",
       "      <td>closed</td>\n",
       "      <td>[Duplicate] Bloomfield Airport</td>\n",
       "      <td>66.0</td>\n",
       "      <td>OC</td>\n",
       "      <td>AU</td>\n",
       "      <td>AU-QLD</td>\n",
       "      <td>Bloomfield</td>\n",
       "      <td>NaN</td>\n",
       "      <td>BFC</td>\n",
       "      <td>NaN</td>\n",
       "      <td>145.330001831, -15.8736000061</td>\n",
       "    </tr>\n",
       "    <tr>\n",
       "      <th>11639</th>\n",
       "      <td>AU-BVW</td>\n",
       "      <td>closed</td>\n",
       "      <td>[Duplicate] Batavia Downs Airport</td>\n",
       "      <td>NaN</td>\n",
       "      <td>OC</td>\n",
       "      <td>AU</td>\n",
       "      <td>AU-QLD</td>\n",
       "      <td>Batavia Downs</td>\n",
       "      <td>NaN</td>\n",
       "      <td>BVW</td>\n",
       "      <td>NaN</td>\n",
       "      <td>142.675003052, -12.6591997147</td>\n",
       "    </tr>\n",
       "    <tr>\n",
       "      <th>11642</th>\n",
       "      <td>AU-CQP</td>\n",
       "      <td>closed</td>\n",
       "      <td>[Duplicate] Cape Flattery Airport</td>\n",
       "      <td>NaN</td>\n",
       "      <td>OC</td>\n",
       "      <td>AU</td>\n",
       "      <td>AU-QLD</td>\n",
       "      <td>Cape Flattery</td>\n",
       "      <td>NaN</td>\n",
       "      <td>CQP</td>\n",
       "      <td>NaN</td>\n",
       "      <td>145.311004639, -14.9709997177</td>\n",
       "    </tr>\n",
       "  </tbody>\n",
       "</table>\n",
       "</div>"
      ],
      "text/plain": [
       "         ident    type                                       name  \\\n",
       "10769  AR-0006  closed  [Duplicate] Brigadier Hector Ruiz Airport   \n",
       "11637   AU-BCK  closed               [Duplicate] Bolwarra Airport   \n",
       "11638   AU-BFC  closed             [Duplicate] Bloomfield Airport   \n",
       "11639   AU-BVW  closed          [Duplicate] Batavia Downs Airport   \n",
       "11642   AU-CQP  closed          [Duplicate] Cape Flattery Airport   \n",
       "\n",
       "       elevation_ft continent iso_country iso_region    municipality gps_code  \\\n",
       "10769         228.0        SA          AR       AR-B  Coronel Suarez      NaN   \n",
       "11637           NaN        OC          AU     AU-QLD        Bolwarra      NaN   \n",
       "11638          66.0        OC          AU     AU-QLD      Bloomfield      NaN   \n",
       "11639           NaN        OC          AU     AU-QLD   Batavia Downs      NaN   \n",
       "11642           NaN        OC          AU     AU-QLD   Cape Flattery      NaN   \n",
       "\n",
       "      iata_code local_code                     coordinates  \n",
       "10769       CSZ        NaN  -61.8833007812, -37.4333000183  \n",
       "11637       BCK        NaN    144.169006348, -17.388299942  \n",
       "11638       BFC        NaN   145.330001831, -15.8736000061  \n",
       "11639       BVW        NaN   142.675003052, -12.6591997147  \n",
       "11642       CQP        NaN   145.311004639, -14.9709997177  "
      ]
     },
     "execution_count": 20,
     "metadata": {},
     "output_type": "execute_result"
    }
   ],
   "source": [
    "df_a_dup_not_null = df_a_dup[~df_a_dup['iata_code'].isnull()]\n",
    "df_a_dup_not_null.head()"
   ]
  },
  {
   "attachments": {},
   "cell_type": "markdown",
   "metadata": {},
   "source": [
    "How many duplicated iata_code there are now?"
   ]
  },
  {
   "cell_type": "code",
   "execution_count": 21,
   "metadata": {},
   "outputs": [
    {
     "data": {
      "text/plain": [
       "24"
      ]
     },
     "execution_count": 21,
     "metadata": {},
     "output_type": "execute_result"
    }
   ],
   "source": [
    "len(df_a_dup_not_null['iata_code'].to_list())"
   ]
  },
  {
   "attachments": {},
   "cell_type": "markdown",
   "metadata": {},
   "source": [
    "I ran all the codes and generated the informations on Redshift and still found duplicates there on `dim_port` using this query:<br>\n",
    "```sql\n",
    "SELECT\n",
    "    port_id,\n",
    "    COUNT(port_id) AS count_id\n",
    "FROM dim_port\n",
    "GROUP BY 1\n",
    "ORDER BY 2 DESC\n",
    "```\n",
    "Let's take a look at those ids....<br>\n",
    "Looking at these cases below we can see that that are no duplicates for this registers in the `staging_airport_codes`.<br>\n",
    "So, I will have to look at the query that generates the table `dim_port`."
   ]
  },
  {
   "cell_type": "code",
   "execution_count": 24,
   "metadata": {},
   "outputs": [
    {
     "data": {
      "text/html": [
       "<div>\n",
       "<style scoped>\n",
       "    .dataframe tbody tr th:only-of-type {\n",
       "        vertical-align: middle;\n",
       "    }\n",
       "\n",
       "    .dataframe tbody tr th {\n",
       "        vertical-align: top;\n",
       "    }\n",
       "\n",
       "    .dataframe thead th {\n",
       "        text-align: right;\n",
       "    }\n",
       "</style>\n",
       "<table border=\"1\" class=\"dataframe\">\n",
       "  <thead>\n",
       "    <tr style=\"text-align: right;\">\n",
       "      <th></th>\n",
       "      <th>ident</th>\n",
       "      <th>type</th>\n",
       "      <th>name</th>\n",
       "      <th>elevation_ft</th>\n",
       "      <th>continent</th>\n",
       "      <th>iso_country</th>\n",
       "      <th>iso_region</th>\n",
       "      <th>municipality</th>\n",
       "      <th>gps_code</th>\n",
       "      <th>iata_code</th>\n",
       "      <th>local_code</th>\n",
       "      <th>coordinates</th>\n",
       "    </tr>\n",
       "  </thead>\n",
       "  <tbody>\n",
       "    <tr>\n",
       "      <th>17551</th>\n",
       "      <td>DNMM</td>\n",
       "      <td>large_airport</td>\n",
       "      <td>Murtala Muhammed International Airport</td>\n",
       "      <td>135.0</td>\n",
       "      <td>AF</td>\n",
       "      <td>NG</td>\n",
       "      <td>NG-LA</td>\n",
       "      <td>Lagos</td>\n",
       "      <td>DNMM</td>\n",
       "      <td>LOS</td>\n",
       "      <td>NaN</td>\n",
       "      <td>3.321160078048706, 6.5773701667785645</td>\n",
       "    </tr>\n",
       "  </tbody>\n",
       "</table>\n",
       "</div>"
      ],
      "text/plain": [
       "      ident           type                                    name  \\\n",
       "17551  DNMM  large_airport  Murtala Muhammed International Airport   \n",
       "\n",
       "       elevation_ft continent iso_country iso_region municipality gps_code  \\\n",
       "17551         135.0        AF          NG      NG-LA        Lagos     DNMM   \n",
       "\n",
       "      iata_code local_code                            coordinates  \n",
       "17551       LOS        NaN  3.321160078048706, 6.5773701667785645  "
      ]
     },
     "execution_count": 24,
     "metadata": {},
     "output_type": "execute_result"
    }
   ],
   "source": [
    "duplicate_port_id = ['LOS', 'MIA', 'SFR', 'HOU', 'DEN', 'TAM', 'SNA']\n",
    "df_a[df_a['iata_code'] == 'LOS']"
   ]
  },
  {
   "cell_type": "code",
   "execution_count": 25,
   "metadata": {},
   "outputs": [
    {
     "data": {
      "text/html": [
       "<div>\n",
       "<style scoped>\n",
       "    .dataframe tbody tr th:only-of-type {\n",
       "        vertical-align: middle;\n",
       "    }\n",
       "\n",
       "    .dataframe tbody tr th {\n",
       "        vertical-align: top;\n",
       "    }\n",
       "\n",
       "    .dataframe thead th {\n",
       "        text-align: right;\n",
       "    }\n",
       "</style>\n",
       "<table border=\"1\" class=\"dataframe\">\n",
       "  <thead>\n",
       "    <tr style=\"text-align: right;\">\n",
       "      <th></th>\n",
       "      <th>ident</th>\n",
       "      <th>type</th>\n",
       "      <th>name</th>\n",
       "      <th>elevation_ft</th>\n",
       "      <th>continent</th>\n",
       "      <th>iso_country</th>\n",
       "      <th>iso_region</th>\n",
       "      <th>municipality</th>\n",
       "      <th>gps_code</th>\n",
       "      <th>iata_code</th>\n",
       "      <th>local_code</th>\n",
       "      <th>coordinates</th>\n",
       "    </tr>\n",
       "  </thead>\n",
       "  <tbody>\n",
       "    <tr>\n",
       "      <th>28044</th>\n",
       "      <td>KMIA</td>\n",
       "      <td>large_airport</td>\n",
       "      <td>Miami International Airport</td>\n",
       "      <td>8.0</td>\n",
       "      <td>NaN</td>\n",
       "      <td>US</td>\n",
       "      <td>US-FL</td>\n",
       "      <td>Miami</td>\n",
       "      <td>KMIA</td>\n",
       "      <td>MIA</td>\n",
       "      <td>MIA</td>\n",
       "      <td>-80.29060363769531, 25.79319953918457</td>\n",
       "    </tr>\n",
       "  </tbody>\n",
       "</table>\n",
       "</div>"
      ],
      "text/plain": [
       "      ident           type                         name  elevation_ft  \\\n",
       "28044  KMIA  large_airport  Miami International Airport           8.0   \n",
       "\n",
       "      continent iso_country iso_region municipality gps_code iata_code  \\\n",
       "28044       NaN          US      US-FL        Miami     KMIA       MIA   \n",
       "\n",
       "      local_code                            coordinates  \n",
       "28044        MIA  -80.29060363769531, 25.79319953918457  "
      ]
     },
     "execution_count": 25,
     "metadata": {},
     "output_type": "execute_result"
    }
   ],
   "source": [
    "df_a[df_a['iata_code'] == 'MIA']"
   ]
  },
  {
   "cell_type": "code",
   "execution_count": 26,
   "metadata": {},
   "outputs": [
    {
     "data": {
      "text/html": [
       "<div>\n",
       "<style scoped>\n",
       "    .dataframe tbody tr th:only-of-type {\n",
       "        vertical-align: middle;\n",
       "    }\n",
       "\n",
       "    .dataframe tbody tr th {\n",
       "        vertical-align: top;\n",
       "    }\n",
       "\n",
       "    .dataframe thead th {\n",
       "        text-align: right;\n",
       "    }\n",
       "</style>\n",
       "<table border=\"1\" class=\"dataframe\">\n",
       "  <thead>\n",
       "    <tr style=\"text-align: right;\">\n",
       "      <th></th>\n",
       "      <th>ident</th>\n",
       "      <th>type</th>\n",
       "      <th>name</th>\n",
       "      <th>elevation_ft</th>\n",
       "      <th>continent</th>\n",
       "      <th>iso_country</th>\n",
       "      <th>iso_region</th>\n",
       "      <th>municipality</th>\n",
       "      <th>gps_code</th>\n",
       "      <th>iata_code</th>\n",
       "      <th>local_code</th>\n",
       "      <th>coordinates</th>\n",
       "    </tr>\n",
       "  </thead>\n",
       "  <tbody>\n",
       "    <tr>\n",
       "      <th>42481</th>\n",
       "      <td>SFR</td>\n",
       "      <td>closed</td>\n",
       "      <td>San Fernando Airport</td>\n",
       "      <td>1168.0</td>\n",
       "      <td>NaN</td>\n",
       "      <td>US</td>\n",
       "      <td>US-CA</td>\n",
       "      <td>Los Angeles</td>\n",
       "      <td>NaN</td>\n",
       "      <td>SFR</td>\n",
       "      <td>NaN</td>\n",
       "      <td>-118.422, 34.289</td>\n",
       "    </tr>\n",
       "  </tbody>\n",
       "</table>\n",
       "</div>"
      ],
      "text/plain": [
       "      ident    type                  name  elevation_ft continent iso_country  \\\n",
       "42481   SFR  closed  San Fernando Airport        1168.0       NaN          US   \n",
       "\n",
       "      iso_region municipality gps_code iata_code local_code       coordinates  \n",
       "42481      US-CA  Los Angeles      NaN       SFR        NaN  -118.422, 34.289  "
      ]
     },
     "execution_count": 26,
     "metadata": {},
     "output_type": "execute_result"
    }
   ],
   "source": [
    "df_a[df_a['iata_code'] == 'SFR']"
   ]
  },
  {
   "cell_type": "code",
   "execution_count": 27,
   "metadata": {},
   "outputs": [
    {
     "data": {
      "text/html": [
       "<div>\n",
       "<style scoped>\n",
       "    .dataframe tbody tr th:only-of-type {\n",
       "        vertical-align: middle;\n",
       "    }\n",
       "\n",
       "    .dataframe tbody tr th {\n",
       "        vertical-align: top;\n",
       "    }\n",
       "\n",
       "    .dataframe thead th {\n",
       "        text-align: right;\n",
       "    }\n",
       "</style>\n",
       "<table border=\"1\" class=\"dataframe\">\n",
       "  <thead>\n",
       "    <tr style=\"text-align: right;\">\n",
       "      <th></th>\n",
       "      <th>ident</th>\n",
       "      <th>type</th>\n",
       "      <th>name</th>\n",
       "      <th>elevation_ft</th>\n",
       "      <th>continent</th>\n",
       "      <th>iso_country</th>\n",
       "      <th>iso_region</th>\n",
       "      <th>municipality</th>\n",
       "      <th>gps_code</th>\n",
       "      <th>iata_code</th>\n",
       "      <th>local_code</th>\n",
       "      <th>coordinates</th>\n",
       "    </tr>\n",
       "  </thead>\n",
       "  <tbody>\n",
       "    <tr>\n",
       "      <th>27500</th>\n",
       "      <td>KHOU</td>\n",
       "      <td>large_airport</td>\n",
       "      <td>William P Hobby Airport</td>\n",
       "      <td>46.0</td>\n",
       "      <td>NaN</td>\n",
       "      <td>US</td>\n",
       "      <td>US-TX</td>\n",
       "      <td>Houston</td>\n",
       "      <td>KHOU</td>\n",
       "      <td>HOU</td>\n",
       "      <td>HOU</td>\n",
       "      <td>-95.27890015, 29.64539909</td>\n",
       "    </tr>\n",
       "  </tbody>\n",
       "</table>\n",
       "</div>"
      ],
      "text/plain": [
       "      ident           type                     name  elevation_ft continent  \\\n",
       "27500  KHOU  large_airport  William P Hobby Airport          46.0       NaN   \n",
       "\n",
       "      iso_country iso_region municipality gps_code iata_code local_code  \\\n",
       "27500          US      US-TX      Houston     KHOU       HOU        HOU   \n",
       "\n",
       "                     coordinates  \n",
       "27500  -95.27890015, 29.64539909  "
      ]
     },
     "execution_count": 27,
     "metadata": {},
     "output_type": "execute_result"
    }
   ],
   "source": [
    "df_a[df_a['iata_code'] == 'HOU']"
   ]
  },
  {
   "cell_type": "code",
   "execution_count": 28,
   "metadata": {},
   "outputs": [
    {
     "data": {
      "text/html": [
       "<div>\n",
       "<style scoped>\n",
       "    .dataframe tbody tr th:only-of-type {\n",
       "        vertical-align: middle;\n",
       "    }\n",
       "\n",
       "    .dataframe tbody tr th {\n",
       "        vertical-align: top;\n",
       "    }\n",
       "\n",
       "    .dataframe thead th {\n",
       "        text-align: right;\n",
       "    }\n",
       "</style>\n",
       "<table border=\"1\" class=\"dataframe\">\n",
       "  <thead>\n",
       "    <tr style=\"text-align: right;\">\n",
       "      <th></th>\n",
       "      <th>ident</th>\n",
       "      <th>type</th>\n",
       "      <th>name</th>\n",
       "      <th>elevation_ft</th>\n",
       "      <th>continent</th>\n",
       "      <th>iso_country</th>\n",
       "      <th>iso_region</th>\n",
       "      <th>municipality</th>\n",
       "      <th>gps_code</th>\n",
       "      <th>iata_code</th>\n",
       "      <th>local_code</th>\n",
       "      <th>coordinates</th>\n",
       "    </tr>\n",
       "  </thead>\n",
       "  <tbody>\n",
       "    <tr>\n",
       "      <th>26558</th>\n",
       "      <td>KDEN</td>\n",
       "      <td>large_airport</td>\n",
       "      <td>Denver International Airport</td>\n",
       "      <td>5431.0</td>\n",
       "      <td>NaN</td>\n",
       "      <td>US</td>\n",
       "      <td>US-CO</td>\n",
       "      <td>Denver</td>\n",
       "      <td>KDEN</td>\n",
       "      <td>DEN</td>\n",
       "      <td>DEN</td>\n",
       "      <td>-104.672996521, 39.861698150635</td>\n",
       "    </tr>\n",
       "  </tbody>\n",
       "</table>\n",
       "</div>"
      ],
      "text/plain": [
       "      ident           type                          name  elevation_ft  \\\n",
       "26558  KDEN  large_airport  Denver International Airport        5431.0   \n",
       "\n",
       "      continent iso_country iso_region municipality gps_code iata_code  \\\n",
       "26558       NaN          US      US-CO       Denver     KDEN       DEN   \n",
       "\n",
       "      local_code                      coordinates  \n",
       "26558        DEN  -104.672996521, 39.861698150635  "
      ]
     },
     "execution_count": 28,
     "metadata": {},
     "output_type": "execute_result"
    }
   ],
   "source": [
    "df_a[df_a['iata_code'] == 'DEN']"
   ]
  },
  {
   "cell_type": "code",
   "execution_count": 29,
   "metadata": {},
   "outputs": [
    {
     "data": {
      "text/html": [
       "<div>\n",
       "<style scoped>\n",
       "    .dataframe tbody tr th:only-of-type {\n",
       "        vertical-align: middle;\n",
       "    }\n",
       "\n",
       "    .dataframe tbody tr th {\n",
       "        vertical-align: top;\n",
       "    }\n",
       "\n",
       "    .dataframe thead th {\n",
       "        text-align: right;\n",
       "    }\n",
       "</style>\n",
       "<table border=\"1\" class=\"dataframe\">\n",
       "  <thead>\n",
       "    <tr style=\"text-align: right;\">\n",
       "      <th></th>\n",
       "      <th>ident</th>\n",
       "      <th>type</th>\n",
       "      <th>name</th>\n",
       "      <th>elevation_ft</th>\n",
       "      <th>continent</th>\n",
       "      <th>iso_country</th>\n",
       "      <th>iso_region</th>\n",
       "      <th>municipality</th>\n",
       "      <th>gps_code</th>\n",
       "      <th>iata_code</th>\n",
       "      <th>local_code</th>\n",
       "      <th>coordinates</th>\n",
       "    </tr>\n",
       "  </thead>\n",
       "  <tbody>\n",
       "    <tr>\n",
       "      <th>33415</th>\n",
       "      <td>MMTM</td>\n",
       "      <td>medium_airport</td>\n",
       "      <td>General Francisco Javier Mina International Ai...</td>\n",
       "      <td>80.0</td>\n",
       "      <td>NaN</td>\n",
       "      <td>MX</td>\n",
       "      <td>MX-TAM</td>\n",
       "      <td>Tampico</td>\n",
       "      <td>MMTM</td>\n",
       "      <td>TAM</td>\n",
       "      <td>NaN</td>\n",
       "      <td>-97.8658981323, 22.2964000702</td>\n",
       "    </tr>\n",
       "  </tbody>\n",
       "</table>\n",
       "</div>"
      ],
      "text/plain": [
       "      ident            type  \\\n",
       "33415  MMTM  medium_airport   \n",
       "\n",
       "                                                    name  elevation_ft  \\\n",
       "33415  General Francisco Javier Mina International Ai...          80.0   \n",
       "\n",
       "      continent iso_country iso_region municipality gps_code iata_code  \\\n",
       "33415       NaN          MX     MX-TAM      Tampico     MMTM       TAM   \n",
       "\n",
       "      local_code                    coordinates  \n",
       "33415        NaN  -97.8658981323, 22.2964000702  "
      ]
     },
     "execution_count": 29,
     "metadata": {},
     "output_type": "execute_result"
    }
   ],
   "source": [
    "df_a[df_a['iata_code'] == 'TAM']"
   ]
  },
  {
   "cell_type": "code",
   "execution_count": 30,
   "metadata": {},
   "outputs": [
    {
     "data": {
      "text/html": [
       "<div>\n",
       "<style scoped>\n",
       "    .dataframe tbody tr th:only-of-type {\n",
       "        vertical-align: middle;\n",
       "    }\n",
       "\n",
       "    .dataframe tbody tr th {\n",
       "        vertical-align: top;\n",
       "    }\n",
       "\n",
       "    .dataframe thead th {\n",
       "        text-align: right;\n",
       "    }\n",
       "</style>\n",
       "<table border=\"1\" class=\"dataframe\">\n",
       "  <thead>\n",
       "    <tr style=\"text-align: right;\">\n",
       "      <th></th>\n",
       "      <th>ident</th>\n",
       "      <th>type</th>\n",
       "      <th>name</th>\n",
       "      <th>elevation_ft</th>\n",
       "      <th>continent</th>\n",
       "      <th>iso_country</th>\n",
       "      <th>iso_region</th>\n",
       "      <th>municipality</th>\n",
       "      <th>gps_code</th>\n",
       "      <th>iata_code</th>\n",
       "      <th>local_code</th>\n",
       "      <th>coordinates</th>\n",
       "    </tr>\n",
       "  </thead>\n",
       "  <tbody>\n",
       "    <tr>\n",
       "      <th>29989</th>\n",
       "      <td>KSNA</td>\n",
       "      <td>large_airport</td>\n",
       "      <td>John Wayne Airport-Orange County Airport</td>\n",
       "      <td>56.0</td>\n",
       "      <td>NaN</td>\n",
       "      <td>US</td>\n",
       "      <td>US-CA</td>\n",
       "      <td>Santa Ana</td>\n",
       "      <td>KSNA</td>\n",
       "      <td>SNA</td>\n",
       "      <td>SNA</td>\n",
       "      <td>-117.8679962, 33.67570114</td>\n",
       "    </tr>\n",
       "  </tbody>\n",
       "</table>\n",
       "</div>"
      ],
      "text/plain": [
       "      ident           type                                      name  \\\n",
       "29989  KSNA  large_airport  John Wayne Airport-Orange County Airport   \n",
       "\n",
       "       elevation_ft continent iso_country iso_region municipality gps_code  \\\n",
       "29989          56.0       NaN          US      US-CA    Santa Ana     KSNA   \n",
       "\n",
       "      iata_code local_code                coordinates  \n",
       "29989       SNA        SNA  -117.8679962, 33.67570114  "
      ]
     },
     "execution_count": 30,
     "metadata": {},
     "output_type": "execute_result"
    }
   ],
   "source": [
    "df_a[df_a['iata_code'] == 'SNA']"
   ]
  },
  {
   "attachments": {},
   "cell_type": "markdown",
   "metadata": {},
   "source": [
    "Since we have duplicates for this cities, we have to take a look at the imigration table to see if there are imigrants arriving at this cities by another modal type."
   ]
  },
  {
   "cell_type": "code",
   "execution_count": 32,
   "metadata": {},
   "outputs": [
    {
     "data": {
      "text/plain": [
       "Index(['Unnamed: 0', 'cicid', 'i94yr', 'i94mon', 'i94cit', 'i94res', 'i94port',\n",
       "       'arrdate', 'i94mode', 'i94addr', 'depdate', 'i94bir', 'i94visa',\n",
       "       'count', 'dtadfile', 'visapost', 'occup', 'entdepa', 'entdepd',\n",
       "       'entdepu', 'matflag', 'biryear', 'dtaddto', 'gender', 'insnum',\n",
       "       'airline', 'admnum', 'fltno', 'visatype'],\n",
       "      dtype='object')"
      ]
     },
     "execution_count": 32,
     "metadata": {},
     "output_type": "execute_result"
    }
   ],
   "source": [
    "df_i.columns"
   ]
  },
  {
   "cell_type": "code",
   "execution_count": 34,
   "metadata": {},
   "outputs": [
    {
     "data": {
      "text/plain": [
       "i94port  i94mode\n",
       "MIA      1.0        110\n",
       "LOS      1.0        104\n",
       "SFR      1.0         54\n",
       "HOU      1.0         30\n",
       "TAM      1.0         10\n",
       "DEN      1.0          2\n",
       "TAM      3.0          2\n",
       "DEN      2.0          1\n",
       "HOU      3.0          1\n",
       "LOS      2.0          1\n",
       "         9.0          1\n",
       "MIA      2.0          1\n",
       "SFR      3.0          1\n",
       "SNA      1.0          1\n",
       "         2.0          1\n",
       "Name: cicid, dtype: int64"
      ]
     },
     "execution_count": 34,
     "metadata": {},
     "output_type": "execute_result"
    }
   ],
   "source": [
    "df_i[df_i['i94port'].isin(duplicate_port_id)].groupby(['i94port', 'i94mode'])['cicid'].count().sort_values(ascending=False)"
   ]
  },
  {
   "attachments": {},
   "cell_type": "markdown",
   "metadata": {},
   "source": [
    "Since in imigration table we have arrival by more then one type of mode and in airport dataset we only have the air modal, we have to adjust the join in the query so we do not duplicate the registers.<br>\n",
    "\n",
    "The ports with dupĺicate keys on `dim_port` tables are due to the fact that there are more than one port with the same id, but with different modal of transportation. So, it is not possible to have the `port_id` column as a key for this table. To solve this problem we will have to create a new key based on the concatenation of port_id and modal_id. The final result will be a key that looks like: 'AAA_1', 'AAA_3'."
   ]
  },
  {
   "attachments": {},
   "cell_type": "markdown",
   "metadata": {},
   "source": [
    "## `sas_desciptive_information.csv`"
   ]
  },
  {
   "cell_type": "code",
   "execution_count": 4,
   "metadata": {},
   "outputs": [
    {
     "data": {
      "text/html": [
       "<div>\n",
       "<style scoped>\n",
       "    .dataframe tbody tr th:only-of-type {\n",
       "        vertical-align: middle;\n",
       "    }\n",
       "\n",
       "    .dataframe tbody tr th {\n",
       "        vertical-align: top;\n",
       "    }\n",
       "\n",
       "    .dataframe thead th {\n",
       "        text-align: right;\n",
       "    }\n",
       "</style>\n",
       "<table border=\"1\" class=\"dataframe\">\n",
       "  <thead>\n",
       "    <tr style=\"text-align: right;\">\n",
       "      <th></th>\n",
       "      <th>id</th>\n",
       "      <th>description</th>\n",
       "      <th>column</th>\n",
       "    </tr>\n",
       "  </thead>\n",
       "  <tbody>\n",
       "    <tr>\n",
       "      <th>0</th>\n",
       "      <td>582</td>\n",
       "      <td>MEXICO Air Sea, and Not Reported (I-94, no lan...</td>\n",
       "      <td>i94cit_res</td>\n",
       "    </tr>\n",
       "    <tr>\n",
       "      <th>1</th>\n",
       "      <td>236</td>\n",
       "      <td>AFGHANISTAN</td>\n",
       "      <td>i94cit_res</td>\n",
       "    </tr>\n",
       "    <tr>\n",
       "      <th>2</th>\n",
       "      <td>101</td>\n",
       "      <td>ALBANIA</td>\n",
       "      <td>i94cit_res</td>\n",
       "    </tr>\n",
       "    <tr>\n",
       "      <th>3</th>\n",
       "      <td>316</td>\n",
       "      <td>ALGERIA</td>\n",
       "      <td>i94cit_res</td>\n",
       "    </tr>\n",
       "    <tr>\n",
       "      <th>4</th>\n",
       "      <td>102</td>\n",
       "      <td>ANDORRA</td>\n",
       "      <td>i94cit_res</td>\n",
       "    </tr>\n",
       "  </tbody>\n",
       "</table>\n",
       "</div>"
      ],
      "text/plain": [
       "    id                                        description      column\n",
       "0  582  MEXICO Air Sea, and Not Reported (I-94, no lan...  i94cit_res\n",
       "1  236                                        AFGHANISTAN  i94cit_res\n",
       "2  101                                            ALBANIA  i94cit_res\n",
       "3  316                                            ALGERIA  i94cit_res\n",
       "4  102                                            ANDORRA  i94cit_res"
      ]
     },
     "execution_count": 4,
     "metadata": {},
     "output_type": "execute_result"
    }
   ],
   "source": [
    "df_sas = pd.read_csv('/home/felipe/Documentos/Udacity/Data Engineering Nanodegree/Udacity_final_project/data/sas_descriptive_information.csv', delimiter='|')\n",
    "df_sas.head()"
   ]
  },
  {
   "cell_type": "code",
   "execution_count": 5,
   "metadata": {},
   "outputs": [
    {
     "name": "stdout",
     "output_type": "stream",
     "text": [
      "<class 'pandas.core.frame.DataFrame'>\n",
      "RangeIndex: 1011 entries, 0 to 1010\n",
      "Data columns (total 3 columns):\n",
      " #   Column       Non-Null Count  Dtype \n",
      "---  ------       --------------  ----- \n",
      " 0   id           1011 non-null   object\n",
      " 1   description  1011 non-null   object\n",
      " 2   column       1011 non-null   object\n",
      "dtypes: object(3)\n",
      "memory usage: 23.8+ KB\n"
     ]
    }
   ],
   "source": [
    "df_sas.info()"
   ]
  },
  {
   "cell_type": "code",
   "execution_count": 12,
   "metadata": {},
   "outputs": [
    {
     "data": {
      "text/plain": [
       "array(['i94cit_res', 'i94port', 'i94mode', 'i94addr', 'i94visa'],\n",
       "      dtype=object)"
      ]
     },
     "execution_count": 12,
     "metadata": {},
     "output_type": "execute_result"
    }
   ],
   "source": [
    "df_sas.column.unique()"
   ]
  },
  {
   "cell_type": "code",
   "execution_count": 12,
   "metadata": {},
   "outputs": [
    {
     "data": {
      "text/plain": [
       "id\n",
       "3      2\n",
       "1      2\n",
       "2      2\n",
       "MAL    1\n",
       "MBO    1\n",
       "      ..\n",
       "ATB    1\n",
       "ATL    1\n",
       "ATW    1\n",
       "AUH    1\n",
       "ZZZ    1\n",
       "Name: id, Length: 1008, dtype: int64"
      ]
     },
     "execution_count": 12,
     "metadata": {},
     "output_type": "execute_result"
    }
   ],
   "source": [
    "df_sas.groupby('id')['id'].count().sort_values(ascending=False)"
   ]
  },
  {
   "cell_type": "code",
   "execution_count": 13,
   "metadata": {},
   "outputs": [
    {
     "data": {
      "text/plain": [
       "description\n",
       "CANNON CORNERS, NY        2\n",
       "AKRON, OH                 2\n",
       "INVALID: STATELESS        2\n",
       "Collapsed into INT, MN    2\n",
       "INVALID: UNITED STATES    2\n",
       "                         ..\n",
       "HARLINGEN, TX             1\n",
       "HARRISBURG, PA            1\n",
       "HARRISONBURG, PA          1\n",
       "HARTFORD, CT              1\n",
       "ZIMBABWE                  1\n",
       "Name: description, Length: 1001, dtype: int64"
      ]
     },
     "execution_count": 13,
     "metadata": {},
     "output_type": "execute_result"
    }
   ],
   "source": [
    "df_sas.groupby('description')['description'].count().sort_values(ascending=False)"
   ]
  },
  {
   "cell_type": "code",
   "execution_count": 14,
   "metadata": {},
   "outputs": [
    {
     "data": {
      "text/html": [
       "<div>\n",
       "<style scoped>\n",
       "    .dataframe tbody tr th:only-of-type {\n",
       "        vertical-align: middle;\n",
       "    }\n",
       "\n",
       "    .dataframe tbody tr th {\n",
       "        vertical-align: top;\n",
       "    }\n",
       "\n",
       "    .dataframe thead th {\n",
       "        text-align: right;\n",
       "    }\n",
       "</style>\n",
       "<table border=\"1\" class=\"dataframe\">\n",
       "  <thead>\n",
       "    <tr style=\"text-align: right;\">\n",
       "      <th></th>\n",
       "      <th>id</th>\n",
       "      <th>description</th>\n",
       "      <th>column</th>\n",
       "    </tr>\n",
       "  </thead>\n",
       "  <tbody>\n",
       "    <tr>\n",
       "      <th>603</th>\n",
       "      <td>CNH</td>\n",
       "      <td>CANNON CORNERS, NY</td>\n",
       "      <td>i94port</td>\n",
       "    </tr>\n",
       "    <tr>\n",
       "      <th>866</th>\n",
       "      <td>CNC</td>\n",
       "      <td>CANNON CORNERS, NY</td>\n",
       "      <td>i94port</td>\n",
       "    </tr>\n",
       "  </tbody>\n",
       "</table>\n",
       "</div>"
      ],
      "text/plain": [
       "      id         description   column\n",
       "603  CNH  CANNON CORNERS, NY  i94port\n",
       "866  CNC  CANNON CORNERS, NY  i94port"
      ]
     },
     "execution_count": 14,
     "metadata": {},
     "output_type": "execute_result"
    }
   ],
   "source": [
    "df_sas[df_sas['description'] == 'CANNON CORNERS, NY']"
   ]
  },
  {
   "cell_type": "code",
   "execution_count": null,
   "metadata": {},
   "outputs": [],
   "source": [
    "df_sas[df_sas['description'] == 'CANNON CORNERS, NY']"
   ]
  },
  {
   "attachments": {},
   "cell_type": "markdown",
   "metadata": {},
   "source": [
    "### Do these (`i94cit_res`, `i94addr`) tables present the same information?\n",
    "The `i94addr` is consisted of **United States states** and **some places like 'Virgin Island', 'Guam', 'Puerto Rico', 'All Other Codes'**.<br>\n",
    "THe `i94cit_res` are **countries**."
   ]
  },
  {
   "cell_type": "code",
   "execution_count": 15,
   "metadata": {},
   "outputs": [],
   "source": [
    "df_cit = df_sas[df_sas['column'] == 'i94cit_res']\n",
    "df_add = df_sas[df_sas['column'] == 'i94addr']"
   ]
  },
  {
   "cell_type": "code",
   "execution_count": 14,
   "metadata": {},
   "outputs": [
    {
     "name": "stdout",
     "output_type": "stream",
     "text": [
      "len df_cit:  289\n",
      "len df_add:  55\n"
     ]
    }
   ],
   "source": [
    "print('len df_cit: ', len(df_cit))\n",
    "print('len df_add: ', len(df_add))"
   ]
  },
  {
   "cell_type": "code",
   "execution_count": 15,
   "metadata": {},
   "outputs": [
    {
     "data": {
      "text/html": [
       "<div>\n",
       "<style scoped>\n",
       "    .dataframe tbody tr th:only-of-type {\n",
       "        vertical-align: middle;\n",
       "    }\n",
       "\n",
       "    .dataframe tbody tr th {\n",
       "        vertical-align: top;\n",
       "    }\n",
       "\n",
       "    .dataframe thead th {\n",
       "        text-align: right;\n",
       "    }\n",
       "</style>\n",
       "<table border=\"1\" class=\"dataframe\">\n",
       "  <thead>\n",
       "    <tr style=\"text-align: right;\">\n",
       "      <th></th>\n",
       "      <th>id</th>\n",
       "      <th>description</th>\n",
       "      <th>column</th>\n",
       "    </tr>\n",
       "  </thead>\n",
       "  <tbody>\n",
       "    <tr>\n",
       "      <th>0</th>\n",
       "      <td>582</td>\n",
       "      <td>MEXICO Air Sea, and Not Reported (I-94, no lan...</td>\n",
       "      <td>i94cit_res</td>\n",
       "    </tr>\n",
       "    <tr>\n",
       "      <th>1</th>\n",
       "      <td>236</td>\n",
       "      <td>AFGHANISTAN</td>\n",
       "      <td>i94cit_res</td>\n",
       "    </tr>\n",
       "    <tr>\n",
       "      <th>2</th>\n",
       "      <td>101</td>\n",
       "      <td>ALBANIA</td>\n",
       "      <td>i94cit_res</td>\n",
       "    </tr>\n",
       "    <tr>\n",
       "      <th>3</th>\n",
       "      <td>316</td>\n",
       "      <td>ALGERIA</td>\n",
       "      <td>i94cit_res</td>\n",
       "    </tr>\n",
       "    <tr>\n",
       "      <th>4</th>\n",
       "      <td>102</td>\n",
       "      <td>ANDORRA</td>\n",
       "      <td>i94cit_res</td>\n",
       "    </tr>\n",
       "  </tbody>\n",
       "</table>\n",
       "</div>"
      ],
      "text/plain": [
       "    id                                        description      column\n",
       "0  582  MEXICO Air Sea, and Not Reported (I-94, no lan...  i94cit_res\n",
       "1  236                                        AFGHANISTAN  i94cit_res\n",
       "2  101                                            ALBANIA  i94cit_res\n",
       "3  316                                            ALGERIA  i94cit_res\n",
       "4  102                                            ANDORRA  i94cit_res"
      ]
     },
     "execution_count": 15,
     "metadata": {},
     "output_type": "execute_result"
    }
   ],
   "source": [
    "df_cit.head()"
   ]
  },
  {
   "cell_type": "code",
   "execution_count": 16,
   "metadata": {},
   "outputs": [
    {
     "data": {
      "text/html": [
       "<div>\n",
       "<style scoped>\n",
       "    .dataframe tbody tr th:only-of-type {\n",
       "        vertical-align: middle;\n",
       "    }\n",
       "\n",
       "    .dataframe tbody tr th {\n",
       "        vertical-align: top;\n",
       "    }\n",
       "\n",
       "    .dataframe thead th {\n",
       "        text-align: right;\n",
       "    }\n",
       "</style>\n",
       "<table border=\"1\" class=\"dataframe\">\n",
       "  <thead>\n",
       "    <tr style=\"text-align: right;\">\n",
       "      <th></th>\n",
       "      <th>id</th>\n",
       "      <th>description</th>\n",
       "      <th>column</th>\n",
       "    </tr>\n",
       "  </thead>\n",
       "  <tbody>\n",
       "    <tr>\n",
       "      <th>953</th>\n",
       "      <td>AL</td>\n",
       "      <td>ALABAMA</td>\n",
       "      <td>i94addr</td>\n",
       "    </tr>\n",
       "    <tr>\n",
       "      <th>954</th>\n",
       "      <td>AK</td>\n",
       "      <td>ALASKA</td>\n",
       "      <td>i94addr</td>\n",
       "    </tr>\n",
       "    <tr>\n",
       "      <th>955</th>\n",
       "      <td>AZ</td>\n",
       "      <td>ARIZONA</td>\n",
       "      <td>i94addr</td>\n",
       "    </tr>\n",
       "    <tr>\n",
       "      <th>956</th>\n",
       "      <td>AR</td>\n",
       "      <td>ARKANSAS</td>\n",
       "      <td>i94addr</td>\n",
       "    </tr>\n",
       "    <tr>\n",
       "      <th>957</th>\n",
       "      <td>CA</td>\n",
       "      <td>CALIFORNIA</td>\n",
       "      <td>i94addr</td>\n",
       "    </tr>\n",
       "  </tbody>\n",
       "</table>\n",
       "</div>"
      ],
      "text/plain": [
       "     id description   column\n",
       "953  AL     ALABAMA  i94addr\n",
       "954  AK      ALASKA  i94addr\n",
       "955  AZ     ARIZONA  i94addr\n",
       "956  AR    ARKANSAS  i94addr\n",
       "957  CA  CALIFORNIA  i94addr"
      ]
     },
     "execution_count": 16,
     "metadata": {},
     "output_type": "execute_result"
    }
   ],
   "source": [
    "df_add.head()"
   ]
  },
  {
   "cell_type": "code",
   "execution_count": 19,
   "metadata": {},
   "outputs": [
    {
     "data": {
      "text/plain": [
       "array(['ALABAMA', 'ALASKA', 'ARIZONA', 'ARKANSAS', 'CALIFORNIA',\n",
       "       'COLORADO', 'CONNECTICUT', 'DELAWARE', 'DIST. OF COLUMBIA',\n",
       "       'FLORIDA', 'GEORGIA', 'GUAM', 'HAWAII', 'IDAHO', 'ILLINOIS',\n",
       "       'INDIANA', 'IOWA', 'KANSAS', 'KENTUCKY', 'LOUISIANA', 'MAINE',\n",
       "       'MARYLAND', 'MASSACHUSETTS', 'MICHIGAN', 'MINNESOTA',\n",
       "       'MISSISSIPPI', 'MISSOURI', 'MONTANA', 'N. CAROLINA', 'N. DAKOTA',\n",
       "       'NEBRASKA', 'NEVADA', 'NEW HAMPSHIRE', 'NEW JERSEY', 'NEW MEXICO',\n",
       "       'NEW YORK', 'OHIO', 'OKLAHOMA', 'OREGON', 'PENNSYLVANIA',\n",
       "       'PUERTO RICO', 'RHODE ISLAND', 'S. CAROLINA', 'S. DAKOTA',\n",
       "       'TENNESSEE', 'TEXAS', 'UTAH', 'VERMONT', 'VIRGIN ISLANDS',\n",
       "       'VIRGINIA', 'W. VIRGINIA', 'WASHINGTON', 'WISCONSON', 'WYOMING',\n",
       "       'All Other Codes'], dtype=object)"
      ]
     },
     "execution_count": 19,
     "metadata": {},
     "output_type": "execute_result"
    }
   ],
   "source": [
    "df_add.description.unique()"
   ]
  },
  {
   "cell_type": "code",
   "execution_count": 21,
   "metadata": {},
   "outputs": [
    {
     "data": {
      "text/html": [
       "<div>\n",
       "<style scoped>\n",
       "    .dataframe tbody tr th:only-of-type {\n",
       "        vertical-align: middle;\n",
       "    }\n",
       "\n",
       "    .dataframe tbody tr th {\n",
       "        vertical-align: top;\n",
       "    }\n",
       "\n",
       "    .dataframe thead th {\n",
       "        text-align: right;\n",
       "    }\n",
       "</style>\n",
       "<table border=\"1\" class=\"dataframe\">\n",
       "  <thead>\n",
       "    <tr style=\"text-align: right;\">\n",
       "      <th></th>\n",
       "      <th>id</th>\n",
       "      <th>description</th>\n",
       "      <th>column</th>\n",
       "    </tr>\n",
       "  </thead>\n",
       "  <tbody>\n",
       "    <tr>\n",
       "      <th>964</th>\n",
       "      <td>GU</td>\n",
       "      <td>GUAM</td>\n",
       "      <td>i94addr</td>\n",
       "    </tr>\n",
       "    <tr>\n",
       "      <th>993</th>\n",
       "      <td>PR</td>\n",
       "      <td>PUERTO RICO</td>\n",
       "      <td>i94addr</td>\n",
       "    </tr>\n",
       "    <tr>\n",
       "      <th>1001</th>\n",
       "      <td>VI</td>\n",
       "      <td>VIRGIN ISLANDS</td>\n",
       "      <td>i94addr</td>\n",
       "    </tr>\n",
       "    <tr>\n",
       "      <th>1007</th>\n",
       "      <td>99</td>\n",
       "      <td>All Other Codes</td>\n",
       "      <td>i94addr</td>\n",
       "    </tr>\n",
       "  </tbody>\n",
       "</table>\n",
       "</div>"
      ],
      "text/plain": [
       "      id      description   column\n",
       "964   GU             GUAM  i94addr\n",
       "993   PR      PUERTO RICO  i94addr\n",
       "1001  VI   VIRGIN ISLANDS  i94addr\n",
       "1007  99  All Other Codes  i94addr"
      ]
     },
     "execution_count": 21,
     "metadata": {},
     "output_type": "execute_result"
    }
   ],
   "source": [
    "df_add[df_add['description'].isin(['GUAM', 'PUERTO RICO', 'VIRGIN ISLANDS', 'All Other Codes'])]"
   ]
  },
  {
   "cell_type": "code",
   "execution_count": 23,
   "metadata": {},
   "outputs": [
    {
     "data": {
      "text/plain": [
       "51"
      ]
     },
     "execution_count": 23,
     "metadata": {},
     "output_type": "execute_result"
    }
   ],
   "source": [
    "len(df_add[~df_add['description'].isin(['GUAM', 'PUERTO RICO', 'VIRGIN ISLANDS', 'All Other Codes'])])"
   ]
  },
  {
   "cell_type": "code",
   "execution_count": 20,
   "metadata": {},
   "outputs": [
    {
     "data": {
      "text/plain": [
       "array(['MEXICO Air Sea, and Not Reported (I-94, no land arrivals)',\n",
       "       'AFGHANISTAN', 'ALBANIA', 'ALGERIA', 'ANDORRA', 'ANGOLA',\n",
       "       'ANGUILLA', 'ANTIGUA-BARBUDA', 'ARGENTINA', 'ARMENIA', 'ARUBA',\n",
       "       'AUSTRALIA', 'AUSTRIA', 'AZERBAIJAN', 'BAHAMAS', 'BAHRAIN',\n",
       "       'BANGLADESH', 'BARBADOS', 'BELGIUM', 'BELIZE', 'BENIN', 'BERMUDA',\n",
       "       'BELARUS', 'BHUTAN', 'BOLIVIA', 'BONAIRE, ST EUSTATIUS, SABA',\n",
       "       'BOSNIA-HERZEGOVINA', 'BOTSWANA', 'BRAZIL',\n",
       "       'BRITISH VIRGIN ISLANDS', 'BRUNEI', 'BULGARIA', 'BURKINA FASO',\n",
       "       'BURMA', 'BURUNDI', 'CAMEROON', 'CAPE VERDE', 'CAYMAN ISLANDS',\n",
       "       'CENTRAL AFRICAN REPUBLIC', 'CHAD', 'CHILE', 'CHINA, PRC',\n",
       "       'CURACAO', 'CHRISTMAS ISLAND', 'COCOS ISLANDS', 'COLOMBIA',\n",
       "       'COMOROS', 'CONGO', 'COOK ISLANDS', 'COSTA RICA', 'CROATIA',\n",
       "       'CUBA', 'CYPRUS', 'CZECH REPUBLIC',\n",
       "       'FAROE ISLANDS (PART OF DENMARK)', 'DENMARK', 'DJIBOUTI',\n",
       "       'DOMINICA', 'DOMINICAN REPUBLIC', 'EAST TIMOR', 'ECUADOR', 'EGYPT',\n",
       "       'EL SALVADOR', 'EQUATORIAL GUINEA', 'ERITREA', 'ESTONIA',\n",
       "       'ETHIOPIA', 'FALKLAND ISLANDS', 'FIJI', 'FINLAND', 'FRANCE',\n",
       "       'FRENCH GUIANA', 'FRENCH POLYNESIA', 'GABON', 'GAMBIA',\n",
       "       'GAZA STRIP', 'GEORGIA', 'GERMANY', 'GHANA', 'GIBRALTAR', 'GREECE',\n",
       "       'GRENADA', 'GUADELOUPE', 'GUATEMALA', 'GUINEA', 'GUINEA-BISSAU',\n",
       "       'GUYANA', 'HAITI', 'HEARD AND MCDONALD IS.', 'HOLY SEE/VATICAN',\n",
       "       'HONDURAS', 'HONG KONG', 'HUNGARY', 'ICELAND', 'INDIA',\n",
       "       'INDIAN OCEAN AREAS (FRENCH)', 'INDIAN OCEAN TERRITORY',\n",
       "       'INDONESIA', 'IRAN', 'IRAQ', 'IRELAND', 'ISRAEL', 'ITALY',\n",
       "       'IVORY COAST', 'JAMAICA', 'JAPAN', 'JORDAN', 'KAMPUCHEA',\n",
       "       'KAZAKHSTAN', 'KENYA', 'KIRIBATI', 'KOSOVO', 'KUWAIT',\n",
       "       'KYRGYZSTAN', 'LAOS', 'LATVIA', 'LEBANON', 'LESOTHO', 'LIBERIA',\n",
       "       'LIBYA', 'LIECHTENSTEIN', 'LITHUANIA', 'LUXEMBOURG', 'MACAU',\n",
       "       'MACEDONIA', 'MADAGASCAR', 'MALAWI', 'MALAYSIA', 'MALDIVES',\n",
       "       'MALI', 'MALTA', 'MARSHALL ISLANDS', 'MARTINIQUE', 'MAURITANIA',\n",
       "       'MAURITIUS', 'MAYOTTE (AFRICA - FRENCH)',\n",
       "       'MICRONESIA, FED. STATES OF', 'MOLDOVA', 'MONACO', 'MONGOLIA',\n",
       "       'MONTENEGRO', 'MONTSERRAT', 'MOROCCO', 'MOZAMBIQUE', 'NAMIBIA',\n",
       "       'NAURU', 'NEPAL', 'NETHERLANDS', 'NETHERLANDS ANTILLES',\n",
       "       'NEW CALEDONIA', 'NEW ZEALAND', 'NICARAGUA', 'NIGER', 'NIGERIA',\n",
       "       'NIUE', 'NORTH KOREA', 'NORWAY', 'OMAN', 'PAKISTAN', 'PALAU',\n",
       "       'PALESTINE', 'PANAMA', 'PAPUA NEW GUINEA', 'PARAGUAY', 'PERU',\n",
       "       'PHILIPPINES', 'PITCAIRN ISLANDS', 'POLAND', 'PORTUGAL', 'QATAR',\n",
       "       'REPUBLIC OF SOUTH SUDAN', 'REUNION', 'ROMANIA', 'RUSSIA',\n",
       "       'RWANDA', 'SAN MARINO', 'SAO TOME AND PRINCIPE', 'SAUDI ARABIA',\n",
       "       'SENEGAL', 'SERBIA AND MONTENEGRO', 'SERBIA', 'SEYCHELLES',\n",
       "       'SIERRA LEONE', 'SINGAPORE', 'SLOVAKIA', 'SLOVENIA',\n",
       "       'SOLOMON ISLANDS', 'SOMALIA', 'SOUTH AFRICA', 'SOUTH KOREA',\n",
       "       'SPAIN', 'SRI LANKA', 'ST. HELENA', 'ST. KITTS-NEVIS', 'ST. LUCIA',\n",
       "       'ST. PIERRE AND MIQUELON', 'ST. VINCENT-GRENADINES',\n",
       "       'SAINT BARTHELEMY', 'SAINT MARTIN', 'SAINT MAARTEN', 'SUDAN',\n",
       "       'SURINAME', 'SWAZILAND', 'SWEDEN', 'SWITZERLAND', 'SYRIA',\n",
       "       'TAIWAN', 'TAJIKISTAN', 'TANZANIA', 'THAILAND', 'TOGO', 'TONGA',\n",
       "       'TRINIDAD AND TOBAGO', 'TUNISIA', 'TURKEY', 'TURKMENISTAN',\n",
       "       'TURKS AND CAICOS ISLANDS', 'TUVALU', 'UGANDA', 'UKRAINE',\n",
       "       'UNITED ARAB EMIRATES', 'UNITED KINGDOM', 'URUGUAY', 'UZBEKISTAN',\n",
       "       'VANUATU', 'VENEZUELA', 'VIETNAM', 'WALLIS AND FUTUNA ISLANDS',\n",
       "       'WEST INDIES (FRENCH)', 'WESTERN SAHARA', 'WESTERN SAMOA', 'YEMEN',\n",
       "       'YUGOSLAVIA', 'ZAIRE', 'ZAMBIA', 'ZIMBABWE',\n",
       "       'INVALID: AMERICAN SAMOA', 'INVALID: ANTARCTICA',\n",
       "       'INVALID: BORN ON BOARD SHIP',\n",
       "       'INVALID: BOUVET ISLAND (ANTARCTICA/NORWAY TERR.)',\n",
       "       'INVALID: CANADA', 'INVALID: CANTON AND ENDERBURY ISLS',\n",
       "       'INVALID: CZECHOSLOVAKIA',\n",
       "       'INVALID: DRONNING MAUD LAND (ANTARCTICA-NORWAY)',\n",
       "       'INVALID: FRENCH SOUTHERN AND ANTARCTIC', 'INVALID: GREENLAND',\n",
       "       'INVALID: GUAM', 'INVALID: INTERNATIONAL WATERS',\n",
       "       'INVALID: JOHNSON ISLAND', 'INVALID: MARIANA ISLANDS, NORTHERN',\n",
       "       'INVALID: MIDWAY ISLANDS', 'INVALID: MINOR OUTLYING ISLANDS - USA',\n",
       "       'INVALID: NEUTRAL ZONE (S. ARABIA/IRAQ)',\n",
       "       'INVALID: NON-QUOTA IMMIGRANT', 'INVALID: PUERTO RICO',\n",
       "       'INVALID: STATELESS', 'INVALID: UNITED STATES', 'INVALID: UNKNOWN',\n",
       "       'INVALID: UNKNOWN COUNTRY', 'INVALID: USSR',\n",
       "       'INVALID: U.S. VIRGIN ISLANDS', 'INVALID: WAKE ISLAND',\n",
       "       'Collapsed Tanzania (should not show)',\n",
       "       'Collapsed Curacao (should not show)', 'No Country Code (54)',\n",
       "       'No Country Code (100)', 'No Country Code (187)',\n",
       "       'No Country Code (190)', 'No Country Code (200)',\n",
       "       'No Country Code (219)', 'No Country Code (238)',\n",
       "       'No Country Code (277)', 'No Country Code (293)',\n",
       "       'No Country Code (300)', 'No Country Code (319)',\n",
       "       'No Country Code (365)', 'No Country Code (395)',\n",
       "       'No Country Code (400)', 'No Country Code (485)',\n",
       "       'No Country Code (503)', 'No Country Code (589)',\n",
       "       'No Country Code (592)', 'No Country Code (791)',\n",
       "       'No Country Code (849)', 'No Country Code (914)',\n",
       "       'No Country Code (944)', 'No Country Code (996)'], dtype=object)"
      ]
     },
     "execution_count": 20,
     "metadata": {},
     "output_type": "execute_result"
    }
   ],
   "source": [
    "df_cit.description.unique()"
   ]
  },
  {
   "cell_type": "code",
   "execution_count": 6,
   "metadata": {},
   "outputs": [
    {
     "data": {
      "text/html": [
       "<div>\n",
       "<style scoped>\n",
       "    .dataframe tbody tr th:only-of-type {\n",
       "        vertical-align: middle;\n",
       "    }\n",
       "\n",
       "    .dataframe tbody tr th {\n",
       "        vertical-align: top;\n",
       "    }\n",
       "\n",
       "    .dataframe thead th {\n",
       "        text-align: right;\n",
       "    }\n",
       "</style>\n",
       "<table border=\"1\" class=\"dataframe\">\n",
       "  <thead>\n",
       "    <tr style=\"text-align: right;\">\n",
       "      <th></th>\n",
       "      <th>id</th>\n",
       "      <th>description</th>\n",
       "      <th>column</th>\n",
       "    </tr>\n",
       "  </thead>\n",
       "  <tbody>\n",
       "    <tr>\n",
       "      <th>949</th>\n",
       "      <td>1</td>\n",
       "      <td>Air</td>\n",
       "      <td>i94mode</td>\n",
       "    </tr>\n",
       "    <tr>\n",
       "      <th>950</th>\n",
       "      <td>2</td>\n",
       "      <td>Sea</td>\n",
       "      <td>i94mode</td>\n",
       "    </tr>\n",
       "    <tr>\n",
       "      <th>951</th>\n",
       "      <td>3</td>\n",
       "      <td>Land</td>\n",
       "      <td>i94mode</td>\n",
       "    </tr>\n",
       "    <tr>\n",
       "      <th>952</th>\n",
       "      <td>9</td>\n",
       "      <td>Not reported</td>\n",
       "      <td>i94mode</td>\n",
       "    </tr>\n",
       "  </tbody>\n",
       "</table>\n",
       "</div>"
      ],
      "text/plain": [
       "    id   description   column\n",
       "949  1           Air  i94mode\n",
       "950  2           Sea  i94mode\n",
       "951  3          Land  i94mode\n",
       "952  9  Not reported  i94mode"
      ]
     },
     "execution_count": 6,
     "metadata": {},
     "output_type": "execute_result"
    }
   ],
   "source": [
    "df_sas[df_sas['column'] == 'i94mode']"
   ]
  },
  {
   "cell_type": "code",
   "execution_count": 4,
   "metadata": {},
   "outputs": [
    {
     "data": {
      "text/html": [
       "<div>\n",
       "<style scoped>\n",
       "    .dataframe tbody tr th:only-of-type {\n",
       "        vertical-align: middle;\n",
       "    }\n",
       "\n",
       "    .dataframe tbody tr th {\n",
       "        vertical-align: top;\n",
       "    }\n",
       "\n",
       "    .dataframe thead th {\n",
       "        text-align: right;\n",
       "    }\n",
       "</style>\n",
       "<table border=\"1\" class=\"dataframe\">\n",
       "  <thead>\n",
       "    <tr style=\"text-align: right;\">\n",
       "      <th></th>\n",
       "      <th>City</th>\n",
       "      <th>State</th>\n",
       "      <th>Median Age</th>\n",
       "      <th>Male Population</th>\n",
       "      <th>Female Population</th>\n",
       "      <th>Total Population</th>\n",
       "      <th>Number of Veterans</th>\n",
       "      <th>Foreign-born</th>\n",
       "      <th>Average Household Size</th>\n",
       "      <th>State Code</th>\n",
       "      <th>Race</th>\n",
       "      <th>Count</th>\n",
       "    </tr>\n",
       "  </thead>\n",
       "  <tbody>\n",
       "    <tr>\n",
       "      <th>0</th>\n",
       "      <td>Silver Spring</td>\n",
       "      <td>Maryland</td>\n",
       "      <td>33.8</td>\n",
       "      <td>40601.0</td>\n",
       "      <td>41862.0</td>\n",
       "      <td>82463</td>\n",
       "      <td>1562.0</td>\n",
       "      <td>30908.0</td>\n",
       "      <td>2.60</td>\n",
       "      <td>MD</td>\n",
       "      <td>Hispanic or Latino</td>\n",
       "      <td>25924</td>\n",
       "    </tr>\n",
       "    <tr>\n",
       "      <th>1</th>\n",
       "      <td>Quincy</td>\n",
       "      <td>Massachusetts</td>\n",
       "      <td>41.0</td>\n",
       "      <td>44129.0</td>\n",
       "      <td>49500.0</td>\n",
       "      <td>93629</td>\n",
       "      <td>4147.0</td>\n",
       "      <td>32935.0</td>\n",
       "      <td>2.39</td>\n",
       "      <td>MA</td>\n",
       "      <td>White</td>\n",
       "      <td>58723</td>\n",
       "    </tr>\n",
       "    <tr>\n",
       "      <th>2</th>\n",
       "      <td>Hoover</td>\n",
       "      <td>Alabama</td>\n",
       "      <td>38.5</td>\n",
       "      <td>38040.0</td>\n",
       "      <td>46799.0</td>\n",
       "      <td>84839</td>\n",
       "      <td>4819.0</td>\n",
       "      <td>8229.0</td>\n",
       "      <td>2.58</td>\n",
       "      <td>AL</td>\n",
       "      <td>Asian</td>\n",
       "      <td>4759</td>\n",
       "    </tr>\n",
       "    <tr>\n",
       "      <th>3</th>\n",
       "      <td>Rancho Cucamonga</td>\n",
       "      <td>California</td>\n",
       "      <td>34.5</td>\n",
       "      <td>88127.0</td>\n",
       "      <td>87105.0</td>\n",
       "      <td>175232</td>\n",
       "      <td>5821.0</td>\n",
       "      <td>33878.0</td>\n",
       "      <td>3.18</td>\n",
       "      <td>CA</td>\n",
       "      <td>Black or African-American</td>\n",
       "      <td>24437</td>\n",
       "    </tr>\n",
       "    <tr>\n",
       "      <th>4</th>\n",
       "      <td>Newark</td>\n",
       "      <td>New Jersey</td>\n",
       "      <td>34.6</td>\n",
       "      <td>138040.0</td>\n",
       "      <td>143873.0</td>\n",
       "      <td>281913</td>\n",
       "      <td>5829.0</td>\n",
       "      <td>86253.0</td>\n",
       "      <td>2.73</td>\n",
       "      <td>NJ</td>\n",
       "      <td>White</td>\n",
       "      <td>76402</td>\n",
       "    </tr>\n",
       "  </tbody>\n",
       "</table>\n",
       "</div>"
      ],
      "text/plain": [
       "               City          State  Median Age  Male Population  \\\n",
       "0     Silver Spring       Maryland        33.8          40601.0   \n",
       "1            Quincy  Massachusetts        41.0          44129.0   \n",
       "2            Hoover        Alabama        38.5          38040.0   \n",
       "3  Rancho Cucamonga     California        34.5          88127.0   \n",
       "4            Newark     New Jersey        34.6         138040.0   \n",
       "\n",
       "   Female Population  Total Population  Number of Veterans  Foreign-born  \\\n",
       "0            41862.0             82463              1562.0       30908.0   \n",
       "1            49500.0             93629              4147.0       32935.0   \n",
       "2            46799.0             84839              4819.0        8229.0   \n",
       "3            87105.0            175232              5821.0       33878.0   \n",
       "4           143873.0            281913              5829.0       86253.0   \n",
       "\n",
       "   Average Household Size State Code                       Race  Count  \n",
       "0                    2.60         MD         Hispanic or Latino  25924  \n",
       "1                    2.39         MA                      White  58723  \n",
       "2                    2.58         AL                      Asian   4759  \n",
       "3                    3.18         CA  Black or African-American  24437  \n",
       "4                    2.73         NJ                      White  76402  "
      ]
     },
     "execution_count": 4,
     "metadata": {},
     "output_type": "execute_result"
    }
   ],
   "source": [
    "df_us = pd.read_csv('/home/felipe/Documentos/Udacity/Data Engineering Nanodegree/Udacity_final_project/data/us-cities-demographics.csv', delimiter=';')\n",
    "df_us.head()"
   ]
  },
  {
   "cell_type": "code",
   "execution_count": 17,
   "metadata": {},
   "outputs": [
    {
     "data": {
      "text/plain": [
       "description\n",
       "INVALID: UNITED STATES                              2\n",
       "INVALID: STATELESS                                  2\n",
       "AFGHANISTAN                                         1\n",
       "No Country Code (395)                               1\n",
       "No Country Code (319)                               1\n",
       "                                                   ..\n",
       "INVALID: BORN ON BOARD SHIP                         1\n",
       "INVALID: BOUVET ISLAND (ANTARCTICA/NORWAY TERR.)    1\n",
       "INVALID: CANADA                                     1\n",
       "INVALID: CANTON AND ENDERBURY ISLS                  1\n",
       "ZIMBABWE                                            1\n",
       "Name: description, Length: 287, dtype: int64"
      ]
     },
     "execution_count": 17,
     "metadata": {},
     "output_type": "execute_result"
    }
   ],
   "source": [
    "# df_cit[df_cit['country']]\n",
    "df_cit.groupby('description')['description'].count().sort_values(ascending=False)"
   ]
  },
  {
   "cell_type": "code",
   "execution_count": 6,
   "metadata": {},
   "outputs": [
    {
     "data": {
      "text/html": [
       "<div>\n",
       "<style scoped>\n",
       "    .dataframe tbody tr th:only-of-type {\n",
       "        vertical-align: middle;\n",
       "    }\n",
       "\n",
       "    .dataframe tbody tr th {\n",
       "        vertical-align: top;\n",
       "    }\n",
       "\n",
       "    .dataframe thead th {\n",
       "        text-align: right;\n",
       "    }\n",
       "</style>\n",
       "<table border=\"1\" class=\"dataframe\">\n",
       "  <thead>\n",
       "    <tr style=\"text-align: right;\">\n",
       "      <th></th>\n",
       "      <th>id</th>\n",
       "      <th>description</th>\n",
       "      <th>column</th>\n",
       "    </tr>\n",
       "  </thead>\n",
       "  <tbody>\n",
       "    <tr>\n",
       "      <th>333</th>\n",
       "      <td>LOS</td>\n",
       "      <td>LOS ANGELES, CA</td>\n",
       "      <td>i94port</td>\n",
       "    </tr>\n",
       "  </tbody>\n",
       "</table>\n",
       "</div>"
      ],
      "text/plain": [
       "      id      description   column\n",
       "333  LOS  LOS ANGELES, CA  i94port"
      ]
     },
     "execution_count": 6,
     "metadata": {},
     "output_type": "execute_result"
    }
   ],
   "source": [
    "df_sas[df_sas['id'] == \"LOS\"]"
   ]
  },
  {
   "cell_type": "code",
   "execution_count": null,
   "metadata": {},
   "outputs": [],
   "source": []
  }
 ],
 "metadata": {
  "kernelspec": {
   "display_name": ".venv",
   "language": "python",
   "name": "python3"
  },
  "language_info": {
   "codemirror_mode": {
    "name": "ipython",
    "version": 3
   },
   "file_extension": ".py",
   "mimetype": "text/x-python",
   "name": "python",
   "nbconvert_exporter": "python",
   "pygments_lexer": "ipython3",
   "version": "3.8.10"
  },
  "orig_nbformat": 4
 },
 "nbformat": 4,
 "nbformat_minor": 2
}
